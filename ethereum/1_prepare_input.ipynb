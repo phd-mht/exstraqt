{
 "cells": [
  {
   "cell_type": "code",
   "execution_count": 1,
   "id": "6844f7e6",
   "metadata": {},
   "outputs": [],
   "source": [
    "import bisect\n",
    "import os\n",
    "import pickle\n",
    "import time\n",
    "from collections import defaultdict\n",
    "from datetime import datetime, timedelta\n",
    "\n",
    "import networkx as nx\n",
    "import numpy as np\n",
    "import pandas as pd\n",
    "\n",
    "import settings as s"
   ]
  },
  {
   "cell_type": "code",
   "execution_count": 2,
   "id": "1e69899e-e6a0-4f84-a288-737de0dd3009",
   "metadata": {},
   "outputs": [],
   "source": [
    "start = time.time()"
   ]
  },
  {
   "cell_type": "code",
   "execution_count": 3,
   "id": "c0bca62d-bced-4815-a6f8-b1c89e6f6f69",
   "metadata": {},
   "outputs": [
    {
     "name": "stdout",
     "output_type": "stream",
     "text": [
      "CPU times: user 12.1 s, sys: 931 ms, total: 13 s\n",
      "Wall time: 13.1 s\n"
     ]
    }
   ],
   "source": [
    "%%time\n",
    "\n",
    "with open(s.INPUT_GRAPH_FILE, \"rb\") as f:\n",
    "    G = pickle.load(f)\n",
    "\n",
    "nodes_mapping = {}\n",
    "phishing_nodes = {}\n",
    "for idx, nd in enumerate(nx.nodes(G)):\n",
    "    nodes_mapping[nd] = f\"id-{idx}\"\n",
    "    phishing_nodes[nodes_mapping[nd]] = G.nodes[nd][\"isp\"]"
   ]
  },
  {
   "cell_type": "code",
   "execution_count": 4,
   "id": "49464134-59b3-46a4-bd6e-ffa82a95bf1a",
   "metadata": {},
   "outputs": [
    {
     "name": "stdout",
     "output_type": "stream",
     "text": [
      "CPU times: user 19.7 s, sys: 716 ms, total: 20.4 s\n",
      "Wall time: 20.5 s\n"
     ]
    }
   ],
   "source": [
    "%%time\n",
    "\n",
    "rows = []\n",
    "for edge in nx.edges(G):\n",
    "    source, target = edge\n",
    "    attrs = G[source][target][0]\n",
    "    amount, timestamp = attrs[\"amount\"], attrs[\"timestamp\"]\n",
    "    source, target = nodes_mapping[source], nodes_mapping[target]\n",
    "    rows.append(\n",
    "        {\n",
    "            \"source\": source,\n",
    "            \"target\": target,\n",
    "            \"timestamp\": datetime.fromtimestamp(timestamp),\n",
    "            \"amount\": amount,\n",
    "            \"num_transactions\": 1,\n",
    "        }\n",
    "    )\n",
    "data = pd.DataFrame(rows)\n",
    "data = data.sort_values(\"timestamp\").reset_index(drop=True)\n",
    "data.index.name = \"transaction_id\"\n",
    "size_orig = data.shape[0]"
   ]
  },
  {
   "cell_type": "code",
   "execution_count": 5,
   "id": "0e4a65c5-91cc-4bcc-abc2-d91dd6f2cde3",
   "metadata": {},
   "outputs": [
    {
     "name": "stdout",
     "output_type": "stream",
     "text": [
      "CPU times: user 42.1 s, sys: 601 ms, total: 42.7 s\n",
      "Wall time: 42.7 s\n"
     ]
    }
   ],
   "source": [
    "%%time\n",
    "\n",
    "rates = pd.read_csv(s.INPUT_RATES_FILE, sep=\";\")\n",
    "rates.loc[:, \"rate\"] = (rates[\"low\"] + rates[\"high\"]) / 2\n",
    "rates.index = pd.to_datetime(rates[\"timeOpen\"]).dt.date\n",
    "rates = rates[\"rate\"].to_dict()\n",
    "\n",
    "data.loc[:, \"amount_usd\"] = data.apply(lambda x: rates[x[\"timestamp\"].date()] * x[\"amount\"], axis=1)\n",
    "data.loc[:, \"is_zero_transaction\"] = data.loc[:, \"amount\"] == 0\n",
    "columns = [\n",
    "    \"source\", \"target\", \"timestamp\", \"num_transactions\", \n",
    "    \"amount\", \"amount_usd\", \"is_zero_transaction\",\n",
    "]\n",
    "data = data.loc[:, columns]\n",
    "data.loc[:, \"is_phishing\"] = data.loc[:, \"target\"].apply(lambda x: phishing_nodes[x] == 1)"
   ]
  },
  {
   "cell_type": "code",
   "execution_count": 6,
   "id": "233eefae-1238-46bc-b9a9-85165a110191",
   "metadata": {},
   "outputs": [],
   "source": [
    "location_main = os.path.abspath(f\".{os.sep}data\")\n",
    "\n",
    "location_source_dispensation = os.path.join(location_main, \"source_dispensation.parquet\")\n",
    "location_target_accumulation = os.path.join(location_main, \"target_accumulation.parquet\")"
   ]
  },
  {
   "cell_type": "code",
   "execution_count": 7,
   "id": "4be2b1f6-380f-468b-bc57-84c596dc2070",
   "metadata": {},
   "outputs": [
    {
     "name": "stdout",
     "output_type": "stream",
     "text": [
      "0 2113093\n",
      "200000 2113093\n",
      "400000 2113093\n",
      "600000 2113093\n",
      "800000 2113093\n",
      "1000000 2113093\n",
      "1200000 2113093\n",
      "1400000 2113093\n",
      "1600000 2113093\n",
      "1800000 2113093\n",
      "2000000 2113093\n",
      "CPU times: user 4min 22s, sys: 9.15 s, total: 4min 31s\n",
      "Wall time: 4min 32s\n"
     ]
    }
   ],
   "source": [
    "%%time\n",
    "\n",
    "num_unique = data[\"source\"].nunique()\n",
    "source_dispensation = []\n",
    "for index, (_, group) in enumerate(data[[\"source\", \"amount_usd\"]].groupby(\"source\")):\n",
    "    group.loc[:, \"source_dispensation\"] = group[\"amount_usd\"].cumsum()\n",
    "    source_dispensation.append(group)\n",
    "    if not (index % 200_000):\n",
    "        print(index, num_unique)\n",
    "source_dispensation = pd.concat(source_dispensation, ignore_index=False)\n",
    "source_dispensation.to_parquet(location_source_dispensation)"
   ]
  },
  {
   "cell_type": "code",
   "execution_count": 8,
   "id": "0aa5b643-7817-4685-9a43-0b63eab8a1a3",
   "metadata": {},
   "outputs": [],
   "source": [
    "source_dispensation = pd.read_parquet(location_source_dispensation)"
   ]
  },
  {
   "cell_type": "code",
   "execution_count": 9,
   "id": "7116672e-b649-42dd-90ce-7b447352c72d",
   "metadata": {},
   "outputs": [
    {
     "name": "stdout",
     "output_type": "stream",
     "text": [
      "0 1119024\n",
      "200000 1119024\n",
      "400000 1119024\n",
      "600000 1119024\n",
      "800000 1119024\n",
      "1000000 1119024\n",
      "CPU times: user 2min 17s, sys: 8.26 s, total: 2min 26s\n",
      "Wall time: 2min 27s\n"
     ]
    }
   ],
   "source": [
    "%%time\n",
    "\n",
    "num_unique = data[\"target\"].nunique()\n",
    "target_accumulation = []\n",
    "for index, (_, group) in enumerate(data[[\"target\", \"amount_usd\"]].groupby(\"target\")):\n",
    "    group.loc[:, \"target_accumulation\"] = group[\"amount_usd\"].cumsum()\n",
    "    target_accumulation.append(group)\n",
    "    if not (index % 200_000):\n",
    "        print(index, num_unique)\n",
    "target_accumulation = pd.concat(target_accumulation, ignore_index=False)\n",
    "target_accumulation.to_parquet(location_target_accumulation)"
   ]
  },
  {
   "cell_type": "code",
   "execution_count": 10,
   "id": "eeb5b340-19da-464b-b5ec-8c8eb775c388",
   "metadata": {},
   "outputs": [],
   "source": [
    "target_accumulation = pd.read_parquet(location_target_accumulation)"
   ]
  },
  {
   "cell_type": "code",
   "execution_count": 11,
   "id": "0a2d85a6-cc8c-4212-94b9-ca58938c694b",
   "metadata": {},
   "outputs": [],
   "source": [
    "data = source_dispensation[[\"source_dispensation\"]].join(\n",
    "    target_accumulation[[\"target_accumulation\"]], how=\"outer\"\n",
    ").join(data)\n",
    "data.sort_index(inplace=True)"
   ]
  },
  {
   "cell_type": "code",
   "execution_count": 12,
   "id": "01636252-6c3b-414a-a1f3-e2f729b831bd",
   "metadata": {},
   "outputs": [
    {
     "name": "stdout",
     "output_type": "stream",
     "text": [
      "CPU times: user 43.1 s, sys: 7.1 s, total: 50.2 s\n",
      "Wall time: 44.8 s\n"
     ]
    }
   ],
   "source": [
    "%%time\n",
    "\n",
    "dispensation_mapping = {}\n",
    "for source, group in data[[\"source\", \"source_dispensation\"]].groupby(\"source\"):\n",
    "    dispensation_mapping[source] = (group.index.tolist(), group[\"source_dispensation\"].tolist())\n",
    "\n",
    "accumulation_mapping = {}\n",
    "for target, group in data[[\"target\", \"target_accumulation\"]].groupby(\"target\"):\n",
    "    accumulation_mapping[target] = (group.index.tolist(), group[\"target_accumulation\"].tolist())"
   ]
  },
  {
   "cell_type": "code",
   "execution_count": 13,
   "id": "ef85f283-b823-4783-aab1-cca077b6eca4",
   "metadata": {},
   "outputs": [],
   "source": [
    "def get_dis_acc_data(node, mapping_dis, mapping_acc, trx_id):\n",
    "    data_dis = mapping_dis.get(node)\n",
    "    if data_dis is None:\n",
    "        data_acc = mapping_acc[node]\n",
    "        index_acc = bisect.bisect_right(data_acc[0], trx_id)\n",
    "        if index_acc:\n",
    "            index_acc -= 1\n",
    "        else:\n",
    "            return 0, 0\n",
    "        return 0, data_acc[1][index_acc]\n",
    "    data_acc = mapping_acc.get(node)\n",
    "    if data_acc is None:\n",
    "        data_dis = mapping_dis[node]\n",
    "        index_dis = bisect.bisect_right(data_dis[0], trx_id)\n",
    "        if index_dis:\n",
    "            index_dis -= 1\n",
    "        else:\n",
    "            return 0, 0\n",
    "        return data_dis[1][index_dis], 0\n",
    "    index_dis = bisect.bisect_right(data_dis[0], trx_id)\n",
    "    index_acc = bisect.bisect_right(data_acc[0], trx_id)\n",
    "    so_far_dispensed = 0\n",
    "    if index_dis:\n",
    "        index_dis -= 1\n",
    "        so_far_dispensed = data_dis[1][index_dis]\n",
    "    so_far_accumulated = 0\n",
    "    if index_acc:\n",
    "        index_acc -= 1\n",
    "        so_far_accumulated = data_acc[1][index_acc]\n",
    "    return so_far_dispensed, so_far_accumulated\n",
    "\n",
    "\n",
    "def source_dis_acc_data(row):\n",
    "    return get_dis_acc_data(row[\"source\"], dispensation_mapping, accumulation_mapping, row.name)\n",
    "\n",
    "\n",
    "def target_dis_acc_data(row):\n",
    "    return get_dis_acc_data(row[\"target\"], dispensation_mapping, accumulation_mapping, row.name)"
   ]
  },
  {
   "cell_type": "code",
   "execution_count": 14,
   "id": "31a0b729-60f0-4629-baca-93fe9d840030",
   "metadata": {},
   "outputs": [
    {
     "name": "stdout",
     "output_type": "stream",
     "text": [
      "CPU times: user 1min 26s, sys: 6.57 s, total: 1min 33s\n",
      "Wall time: 1min 35s\n"
     ]
    }
   ],
   "source": [
    "%%time\n",
    "\n",
    "data.loc[:, \"dis_acc_source\"] = data.apply(source_dis_acc_data, axis=1)\n",
    "data.loc[:, \"dis_acc_target\"] = data.apply(target_dis_acc_data, axis=1)\n",
    "\n",
    "data.loc[:, \"source_positive_balance\"] = data.loc[:, \"dis_acc_source\"].apply(\n",
    "    lambda x: x[1] - x[0] if x[1] > x[0] else 0\n",
    ")\n",
    "data.loc[:, \"source_negative_balance\"] = data.loc[:, \"dis_acc_source\"].apply(\n",
    "    lambda x: x[0] - x[1] if x[0] > x[1] else 0\n",
    ")\n",
    "data.loc[:, \"target_positive_balance\"] = data.loc[:, \"dis_acc_target\"].apply(\n",
    "    lambda x: x[1] - x[0] if x[1] > x[0] else 0\n",
    ")\n",
    "data.loc[:, \"target_negative_balance\"] = data.loc[:, \"dis_acc_target\"].apply(\n",
    "    lambda x: x[0] - x[1] if x[0] > x[1] else 0\n",
    ")\n",
    "\n",
    "del data[\"dis_acc_source\"]\n",
    "del data[\"dis_acc_target\"]"
   ]
  },
  {
   "cell_type": "code",
   "execution_count": 15,
   "id": "884b292b-d583-4126-8f1e-692b50fcc174",
   "metadata": {},
   "outputs": [
    {
     "name": "stdout",
     "output_type": "stream",
     "text": [
      "CPU times: user 2min 5s, sys: 9.4 s, total: 2min 15s\n",
      "Wall time: 2min 19s\n"
     ]
    }
   ],
   "source": [
    "%%time\n",
    "\n",
    "source_firsts = data.groupby(\"source\").agg(first_trx=(\"timestamp\", \"min\"))\n",
    "target_firsts = data.groupby(\"target\").agg(first_trx=(\"timestamp\", \"min\"))\n",
    "active_since = source_firsts.join(target_firsts, lsuffix=\"_left\", how=\"outer\").fillna(datetime.now())\n",
    "active_since.loc[:, \"active_since\"] = active_since.apply(lambda x: min([x[\"first_trx_left\"], x[\"first_trx\"]]), axis=1)\n",
    "active_since = active_since.loc[:, [\"active_since\"]]\n",
    "active_since.sort_values(\"active_since\", inplace=True)\n",
    "\n",
    "active_since = active_since[\"active_since\"].to_dict()\n",
    "last_trx_ts = data[\"timestamp\"].max() + timedelta(hours=1)\n",
    "first_trx_ts = data[\"timestamp\"].min() - timedelta(hours=1)\n",
    "active_for = {k : (last_trx_ts - v).total_seconds() for k, v in active_since.items()}\n",
    "\n",
    "data.loc[:, \"source_active_for\"] = data.apply(\n",
    "    lambda x: (x[\"timestamp\"] - active_since[x[\"source\"]]).total_seconds(), axis=1\n",
    ")\n",
    "data.loc[:, \"target_active_for\"] = data.apply(\n",
    "    lambda x: (x[\"timestamp\"] - active_since[x[\"target\"]]).total_seconds(), axis=1\n",
    ")"
   ]
  },
  {
   "cell_type": "code",
   "execution_count": 16,
   "id": "0b577ed7-0d60-4791-ae85-e0ccc0389d3c",
   "metadata": {},
   "outputs": [],
   "source": [
    "types = [\n",
    "    (\"source\", \"str\"),\n",
    "    (\"target\", \"str\"),\n",
    "    (\"timestamp\", \"<M8[ns]\"),\n",
    "    (\"amount\", np.float32),\n",
    "    (\"amount_usd\", np.float32),\n",
    "    (\"num_transactions\", np.int64),\n",
    "    (\"is_zero_transaction\", bool),\n",
    "    (\"is_phishing\", bool),\n",
    "    (\"source_dispensation\", np.float32),\n",
    "    (\"target_accumulation\", np.float32),\n",
    "    (\"source_positive_balance\", np.float32),\n",
    "    (\"source_negative_balance\", np.float32),\n",
    "    (\"target_positive_balance\", np.float32),\n",
    "    (\"target_negative_balance\", np.float32),\n",
    "    (\"source_active_for\", np.int64),\n",
    "    (\"target_active_for\", np.int64),\n",
    "]\n",
    "\n",
    "data.loc[data[\"amount\"] < 1e-6, \"amount\"] = 1e-6\n",
    "data.loc[data[\"amount_usd\"] < 1e-6, \"amount_usd\"] = 1e-6\n",
    "\n",
    "data = data.loc[:, [x[0] for x in types]].astype(dict(types))"
   ]
  },
  {
   "cell_type": "code",
   "execution_count": 17,
   "id": "c0714b9f-610f-4cfe-aac4-fbbf7446e478",
   "metadata": {},
   "outputs": [],
   "source": [
    "assert data.shape[0] == size_orig"
   ]
  },
  {
   "cell_type": "code",
   "execution_count": 18,
   "id": "211a3fec-8e5d-4f11-bd67-68c4f49a549d",
   "metadata": {},
   "outputs": [],
   "source": [
    "data.to_parquet(s.INPUT_DATA_FILE)"
   ]
  },
  {
   "cell_type": "code",
   "execution_count": 19,
   "id": "5b6fa53f-6ecf-4210-93c6-9cde1605237c",
   "metadata": {},
   "outputs": [
    {
     "name": "stdout",
     "output_type": "stream",
     "text": [
      "13.0\n"
     ]
    }
   ],
   "source": [
    "print((time.time() - start) // 60)"
   ]
  }
 ],
 "metadata": {
  "kernelspec": {
   "display_name": "Python 3 (ipykernel)",
   "language": "python",
   "name": "python3"
  },
  "language_info": {
   "codemirror_mode": {
    "name": "ipython",
    "version": 3
   },
   "file_extension": ".py",
   "mimetype": "text/x-python",
   "name": "python",
   "nbconvert_exporter": "python",
   "pygments_lexer": "ipython3",
   "version": "3.11.8"
  }
 },
 "nbformat": 4,
 "nbformat_minor": 5
}
