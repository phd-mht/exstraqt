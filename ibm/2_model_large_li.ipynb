{
 "cells": [
  {
   "cell_type": "code",
   "execution_count": 1,
   "id": "5102f290-c8e0-4064-86e8-a89a42e1628e",
   "metadata": {},
   "outputs": [],
   "source": [
    "import json\n",
    "import os\n",
    "import pickle\n",
    "import random\n",
    "import time\n",
    "import shutil\n",
    "import sys\n",
    "import uuid\n",
    "from collections import defaultdict\n",
    "from datetime import timedelta\n",
    "from glob import glob\n",
    "from itertools import product\n",
    "from pyspark.sql import functions as sf\n",
    "from pyspark import SparkConf\n",
    "from pyspark.sql import SparkSession\n",
    "from pyspark.storagelevel import StorageLevel\n",
    "from sklearn.ensemble import IsolationForest\n",
    "from sklearn.metrics import roc_auc_score, roc_curve, f1_score, recall_score, RocCurveDisplay\n",
    "from sklearn.preprocessing import normalize\n",
    "from sklearn.decomposition import FactorAnalysis, PCA\n",
    "\n",
    "import igraph as ig\n",
    "import leidenalg as la\n",
    "import numpy as np\n",
    "import pandas as pd\n",
    "import xgboost as xgb\n",
    "\n",
    "import settings as s\n",
    "\n",
    "random.seed(42)\n",
    "\n",
    "assert s.FILE_SIZE == \"Large\"\n",
    "assert s.HIGH_ILLICIT == False\n",
    "\n",
    "os.environ[\"EXT_DATA_TYPE_FOLDER\"] = s.OUTPUT_POSTFIX.lstrip(\"-\")\n",
    "\n",
    "from common import get_weights, delete_large_vars, MULTI_PROC_STAGING_LOCATION\n",
    "from communities import get_communities_spark\n",
    "from features import (\n",
    "    generate_features_spark, generate_features_udf_wrapper, get_edge_features_udf,\n",
    "    SCHEMA_FEAT_UDF, CURRENCY_RATES\n",
    ")\n",
    "\n",
    "%load_ext autoreload\n",
    "%autoreload 2"
   ]
  },
  {
   "cell_type": "code",
   "execution_count": 2,
   "id": "fdfc52ce-1f9d-49d2-81f7-366fcdab6f1d",
   "metadata": {},
   "outputs": [],
   "source": [
    "start_script = time.time()"
   ]
  },
  {
   "cell_type": "code",
   "execution_count": 3,
   "id": "e3cbd846-2921-4802-b8b8-38d64092cfdc",
   "metadata": {},
   "outputs": [],
   "source": [
    "if (\n",
    "    sys.version_info.major,\n",
    "    sys.version_info.minor,\n",
    "    sys.version_info.micro,\n",
    ") != (3, 11, 8):\n",
    "    raise EnvironmentError(\n",
    "        \"Only runs efficiently on Python 3.11.8\"\n",
    "    )"
   ]
  },
  {
   "cell_type": "code",
   "execution_count": 4,
   "id": "adb8939c-e2fc-4bfb-ae18-ef1eec4eafc3",
   "metadata": {},
   "outputs": [
    {
     "name": "stderr",
     "output_type": "stream",
     "text": [
      "WARNING: Using incubator modules: jdk.incubator.vector\n",
      "Using Spark's default log4j profile: org/apache/spark/log4j2-defaults.properties\n",
      "Setting default log level to \"WARN\".\n",
      "To adjust logging level use sc.setLogLevel(newLevel). For SparkR, use setLogLevel(newLevel).\n",
      "25/10/13 08:14:42 WARN NativeCodeLoader: Unable to load native-hadoop library for your platform... using builtin-java classes where applicable\n",
      "25/10/13 08:14:42 WARN SparkConf: Note that spark.local.dir will be overridden by the value set by the cluster manager (via SPARK_LOCAL_DIRS in standalone/kubernetes and LOCAL_DIRS in YARN).\n"
     ]
    }
   ],
   "source": [
    "SPARK_CONF = [\n",
    "    (\"spark.driver.memory\", \"32g\"),\n",
    "    (\"spark.worker.memory\", \"32g\"),\n",
    "    (\"spark.driver.maxResultSize\", \"32g\"),\n",
    "    (\"spark.sql.execution.arrow.pyspark.enabled\", \"true\"),\n",
    "    (\"spark.network.timeout\", \"600s\"),\n",
    "    (\"spark.sql.autoBroadcastJoinThreshold\", -1),\n",
    "    (\"spark.local.dir\", f\".{os.sep}temp-spark\"),\n",
    "]\n",
    "\n",
    "shutil.rmtree(\"artifacts\", ignore_errors=True)\n",
    "shutil.rmtree(\"temp-spark\", ignore_errors=True)\n",
    "spark = (\n",
    "    SparkSession.builder.appName(\"testing\")\n",
    "    .config(conf=SparkConf().setAll(SPARK_CONF))\n",
    "    .getOrCreate()\n",
    ")"
   ]
  },
  {
   "cell_type": "code",
   "execution_count": 5,
   "id": "320b1fa7-53c8-4dbb-b25f-795aaca78a54",
   "metadata": {},
   "outputs": [],
   "source": [
    "# 60/20/20\n",
    "# 61/17/22\n",
    "# 64/19/17\n",
    "TRAIN_PERC = 0.60\n",
    "VALIDATION_PERC = 0.20\n",
    "TEST_PERC = 0.20\n",
    "\n",
    "KEEP_TOP_N = 100\n",
    "\n",
    "assert(sum([TRAIN_PERC, VALIDATION_PERC, TEST_PERC]) == 1)\n",
    "\n",
    "location_main = os.path.join(\"features\", os.environ[\"EXT_DATA_TYPE_FOLDER\"])\n",
    "# shutil.rmtree(location_main, ignore_errors=True)\n",
    "\n",
    "location_communities_leiden = f\"{location_main}{os.sep}communities_leiden.parquet\"\n",
    "\n",
    "location_features_leiden = f\"{location_main}{os.sep}features_leiden.parquet\"\n",
    "location_features_ego = f\"{location_main}{os.sep}features_ego.parquet\"\n",
    "location_features_2_hop = f\"{location_main}{os.sep}features_2_hop.parquet\"\n",
    "location_features_2_hop_out = f\"{location_main}{os.sep}features_2_hop_out.parquet\"\n",
    "location_features_2_hop_in = f\"{location_main}{os.sep}features_2_hop_in.parquet\"\n",
    "location_features_2_hop_combined = f\"{location_main}{os.sep}features_2_hop_combined.parquet\"\n",
    "location_features_source = f\"{location_main}{os.sep}features_source.parquet\"\n",
    "location_features_target = f\"{location_main}{os.sep}features_target.parquet\"\n",
    "\n",
    "location_flow_dispense = f\"{location_main}{os.sep}location_flow_dispense.parquet\"\n",
    "location_flow_passthrough = f\"{location_main}{os.sep}location_flow_passthrough.parquet\"\n",
    "location_flow_sink = f\"{location_main}{os.sep}location_flow_sink.parquet\"\n",
    "\n",
    "location_comm_as_source_features = f\"{location_main}{os.sep}comm_as_source_features.parquet\"\n",
    "location_comm_as_target_features = f\"{location_main}{os.sep}comm_as_target_features.parquet\"\n",
    "location_comm_as_passthrough_features = f\"{location_main}{os.sep}comm_as_passthrough_features.parquet\"\n",
    "location_comm_as_passthrough_features_reverse = f\"{location_main}{os.sep}comm_as_passthrough_features_reverse.parquet\"\n",
    "\n",
    "location_features_node_level = f\"{location_main}{os.sep}features_node_level.parquet\"\n",
    "location_features_edges = f\"{location_main}{os.sep}features_edges.parquet\"\n",
    "\n",
    "location_features_edges_train = f\"{location_main}{os.sep}features_edges_train.parquet\"\n",
    "location_features_edges_valid = f\"{location_main}{os.sep}features_edges_valid.parquet\"\n",
    "location_features_edges_test = f\"{location_main}{os.sep}features_edges_test.parquet\"\n",
    "\n",
    "location_train_trx_features = f\"{location_main}{os.sep}train_trx_features.parquet\"\n",
    "location_valid_trx_features = f\"{location_main}{os.sep}valid_trx_features.parquet\"\n",
    "location_test_trx_features = f\"{location_main}{os.sep}test_trx_features.parquet\"\n",
    "\n",
    "location_train_features = f\"{location_main}{os.sep}train_features.parquet\"\n",
    "location_valid_features = f\"{location_main}{os.sep}valid_features.parquet\"\n",
    "location_test_features = f\"{location_main}{os.sep}test_features.parquet\"\n",
    "\n",
    "try:\n",
    "    os.makedirs(location_main)\n",
    "except FileExistsError:\n",
    "    pass"
   ]
  },
  {
   "cell_type": "code",
   "execution_count": 6,
   "id": "82546745-6577-4e38-bf44-1a6114c3a398",
   "metadata": {},
   "outputs": [
    {
     "name": "stderr",
     "output_type": "stream",
     "text": [
      "                                                                                "
     ]
    }
   ],
   "source": [
    "data = spark.read.parquet(s.STAGED_DATA_LOCATION)\n",
    "data = data.withColumn(\"is_laundering\", sf.col(\"is_laundering\").cast(\"boolean\"))\n",
    "data_count_original = data.count()\n",
    "\n",
    "# Probably not used in the benchmarks\n",
    "data = data.drop(\"source_entity\", \"target_entity\")"
   ]
  },
  {
   "cell_type": "code",
   "execution_count": 7,
   "id": "30fc12ed-f4c5-4f29-90e8-cfa20886c41c",
   "metadata": {},
   "outputs": [],
   "source": [
    "# data = data.drop(\"source\", \"target\")\n",
    "# data = data.withColumnRenamed(\"source_entity\", \"source\")\n",
    "# data = data.withColumnRenamed(\"target_entity\", \"target\")"
   ]
  },
  {
   "cell_type": "code",
   "execution_count": 8,
   "id": "57b5d7e4-1b66-4e93-b67b-a947d8c8e06e",
   "metadata": {},
   "outputs": [],
   "source": [
    "# %%time\n",
    "\n",
    "# trx_ids_sorted = data.sort(\"timestamp\").select(\"transaction_id\").toPandas()[\"transaction_id\"].values\n",
    "# trx_count = len(trx_ids_sorted)\n",
    "\n",
    "# last_train_index = int(np.floor(trx_count * TRAIN_PERC))\n",
    "# last_validation_index = last_train_index + int(np.floor(trx_count * VALIDATION_PERC))\n",
    "# train_indexes = trx_ids_sorted[:last_train_index]\n",
    "# validation_indexes = trx_ids_sorted[last_train_index:last_validation_index]\n",
    "# test_indexes = trx_ids_sorted[last_validation_index:]\n",
    "\n",
    "# train_indexes_loc = os.path.join(location_main, \"temp_train_indexes.parquet\")\n",
    "# validation_indexes_loc = os.path.join(location_main, \"temp_validation_indexes.parquet\")\n",
    "# test_indexes_loc = os.path.join(location_main, \"temp_test_indexes.parquet\")\n",
    "\n",
    "# pd.DataFrame(train_indexes, columns=[\"transaction_id\"]).to_parquet(train_indexes_loc)\n",
    "# pd.DataFrame(validation_indexes, columns=[\"transaction_id\"]).to_parquet(validation_indexes_loc)\n",
    "# pd.DataFrame(test_indexes, columns=[\"transaction_id\"]).to_parquet(test_indexes_loc)\n",
    "\n",
    "# train_indexes = spark.read.parquet(train_indexes_loc)\n",
    "# validation_indexes = spark.read.parquet(validation_indexes_loc)\n",
    "# test_indexes = spark.read.parquet(test_indexes_loc)\n",
    "\n",
    "# train = train_indexes.join(\n",
    "#     data, on=\"transaction_id\", how=\"left\"\n",
    "# ).persist(StorageLevel.DISK_ONLY)\n",
    "# validation = validation_indexes.join(\n",
    "#     data, on=\"transaction_id\", how=\"left\"\n",
    "# ).persist(StorageLevel.DISK_ONLY)\n",
    "# test = test_indexes.join(\n",
    "#     data, on=\"transaction_id\", how=\"left\"\n",
    "# ).persist(StorageLevel.DISK_ONLY)\n",
    "# train_count, validation_count, test_count = train.count(), validation.count(), test.count()\n",
    "# print()\n",
    "# print(trx_count, train_count, validation_count, test_count)\n",
    "# print()\n",
    "\n",
    "# os.remove(train_indexes_loc)\n",
    "# os.remove(validation_indexes_loc)\n",
    "# os.remove(test_indexes_loc)\n",
    "\n",
    "# train.write.parquet(\"temp-train\", mode=\"overwrite\")\n",
    "# validation.write.parquet(\"temp-validation\", mode=\"overwrite\")\n",
    "# test.write.parquet(\"temp-test\", mode=\"overwrite\")"
   ]
  },
  {
   "cell_type": "code",
   "execution_count": 9,
   "id": "68b6ee1f-65b0-467b-be90-0c1e8405ab53",
   "metadata": {},
   "outputs": [],
   "source": [
    "train = spark.read.parquet(\"temp-train\")\n",
    "validation = spark.read.parquet(\"temp-validation\")\n",
    "test = spark.read.parquet(\"temp-test\")\n",
    "train_count, validation_count, test_count = train.count(), validation.count(), test.count()"
   ]
  },
  {
   "cell_type": "code",
   "execution_count": 10,
   "id": "d6cc277c-cf84-487e-bcbd-0784a304cc36",
   "metadata": {},
   "outputs": [],
   "source": [
    "# %%time\n",
    "\n",
    "# edges = data.groupby([\"source\", \"target\"]).agg(\n",
    "#     sf.sum(\"amount\").alias(\"amount\")\n",
    "# ).toPandas()\n",
    "# weights = get_weights(edges)\n",
    "# edges_agg = edges.set_index([\"source\", \"target\"]).join(\n",
    "#     weights.set_index([\"source\", \"target\"]), how=\"left\"\n",
    "# ).reset_index()\n",
    "# edges_agg.loc[:, \"amount_weighted\"] = (\n",
    "#     edges_agg.loc[:, \"amount\"] * \n",
    "#     (edges_agg.loc[:, \"weight\"] / edges_agg.loc[:, \"weight\"].max())\n",
    "# )"
   ]
  },
  {
   "cell_type": "code",
   "execution_count": 11,
   "id": "199fa227-2ea8-4639-a5ce-fe198af819ea",
   "metadata": {},
   "outputs": [],
   "source": [
    "# Later on, we will reset the variables (to free up memory), while still keeping these intact\n",
    "to_keep = %who_ls\n",
    "to_keep = list(to_keep)"
   ]
  },
  {
   "cell_type": "code",
   "execution_count": 12,
   "id": "ecc6f474-3d26-418e-83d6-5e5781200ebe",
   "metadata": {},
   "outputs": [],
   "source": [
    "TOP_N = 50\n",
    "NUM_HOPS = 5"
   ]
  },
  {
   "cell_type": "code",
   "execution_count": 13,
   "id": "26195fe6-5b17-4525-bf16-83c63098e7b3",
   "metadata": {},
   "outputs": [],
   "source": [
    "# %%time\n",
    "\n",
    "# data_input = spark.createDataFrame(edges_agg)\n",
    "# nodes_source = set(edges_agg[\"source\"].unique())\n",
    "# nodes_target = set(edges_agg[\"target\"].unique())\n",
    "# nodes_passthrough = nodes_source.intersection(nodes_target)\n",
    "\n",
    "# %run generate_flow_features.ipynb\n",
    "\n",
    "# comm_as_source_features.to_parquet(location_comm_as_source_features)\n",
    "# comm_as_target_features.to_parquet(location_comm_as_target_features)\n",
    "# comm_as_passthrough_features.to_parquet(location_comm_as_passthrough_features)\n",
    "# comm_as_passthrough_features_reverse.to_parquet(location_comm_as_passthrough_features_reverse)\n",
    "\n",
    "# del comm_as_source_features\n",
    "# del comm_as_target_features\n",
    "# del comm_as_passthrough_features\n",
    "# del comm_as_passthrough_features_reverse"
   ]
  },
  {
   "cell_type": "code",
   "execution_count": 14,
   "id": "986d0df2-1737-4f95-ad2b-a73c93bfd259",
   "metadata": {},
   "outputs": [],
   "source": [
    "# %%time\n",
    "\n",
    "# # TODO: Use https://docs.rapids.ai/api/cugraph/legacy/api_docs/api/cugraph/cugraph.leiden/ ?\n",
    "\n",
    "# print(\"Constructing Leiden communities\")\n",
    "\n",
    "# graph = ig.Graph.DataFrame(edges_agg.loc[:, [\"source\", \"target\", \"amount_weighted\"]], use_vids=False, directed=True)\n",
    "# nodes_mapping = {x.index: x[\"name\"] for x in graph.vs()}\n",
    "# communities_leiden = la.find_partition(\n",
    "#     graph, la.ModularityVertexPartition, n_iterations=10, weights=\"amount_weighted\"\n",
    "# )\n",
    "# communities_leiden = [[nodes_mapping[_] for _ in x] for x in communities_leiden]\n",
    "# communities_leiden = [(str(uuid.uuid4()), set(x)) for x in communities_leiden]\n",
    "# sizes_leiden = [len(x[1]) for x in communities_leiden]\n",
    "\n",
    "# with open(location_communities_leiden, \"wb\") as fl:\n",
    "#     pickle.dump(communities_leiden, fl)"
   ]
  },
  {
   "cell_type": "code",
   "execution_count": 15,
   "id": "26e3f6b2-1caa-4e11-b6ef-65d19f8cc156",
   "metadata": {},
   "outputs": [],
   "source": [
    "# with open(location_communities_leiden, \"rb\") as fl:\n",
    "#     communities_leiden = pickle.load(fl)"
   ]
  },
  {
   "cell_type": "code",
   "execution_count": 16,
   "id": "0998de24-a007-40f3-9cad-0703940530c2",
   "metadata": {},
   "outputs": [],
   "source": [
    "# %%time\n",
    "\n",
    "# data_agg_weights = get_weights(\n",
    "#     data.groupby([\"source\", \"target\"])\n",
    "#     .agg(\n",
    "#         sf.sum(\"amount\").alias(\"amount\")\n",
    "#     ).toPandas()\n",
    "# )\n",
    "\n",
    "# data_agg_weights_rev = data_agg_weights.rename(\n",
    "#     columns={\"target\": \"source\", \"source\": \"target\"}\n",
    "# ).loc[:, [\"source\", \"target\", \"weight\"]]\n",
    "# data_agg_weights_ud = pd.concat([data_agg_weights, data_agg_weights_rev], ignore_index=True)\n",
    "# data_agg_weights_ud = data_agg_weights_ud.groupby([\"source\", \"target\"]).agg(weight=(\"weight\", \"sum\")).reset_index()\n",
    "\n",
    "# data_agg_weights_ud.sort_values(\"weight\", ascending=False, inplace=True)\n",
    "# grouped_ud = data_agg_weights_ud.groupby(\"source\").head(KEEP_TOP_N).reset_index(drop=True)\n",
    "# grouped_ud = grouped_ud.groupby(\"source\").agg(targets=(\"target\", set))\n",
    "\n",
    "# total = grouped_ud.index.nunique()\n",
    "# nodes_neighborhoods = {}\n",
    "# for index, (source, targets) in enumerate(grouped_ud.iterrows()):\n",
    "#     community_candidates = {source}\n",
    "#     for target in targets[\"targets\"]:\n",
    "#         community_candidates |= (grouped_ud.loc[target, \"targets\"] | {target})\n",
    "#     nodes_neighborhoods[source] = set(community_candidates)\n",
    "#     if not (index % 250_000):\n",
    "#         print(index, total)\n",
    "\n",
    "# del data_agg_weights_rev\n",
    "# del data_agg_weights_ud\n",
    "# del grouped_ud"
   ]
  },
  {
   "cell_type": "code",
   "execution_count": 17,
   "id": "9e37941e-b6c3-478c-bd54-a16572719410",
   "metadata": {},
   "outputs": [],
   "source": [
    "# %%time\n",
    "\n",
    "# print(\"Constructing 2-hop communities\")\n",
    "\n",
    "# communities_2_hop = get_communities_spark(\n",
    "#     nodes_neighborhoods,\n",
    "#     ig.Graph.DataFrame(edges_agg.loc[:, [\"source\", \"target\", \"amount_weighted\"]], use_vids=False, directed=True), \n",
    "#     os.cpu_count(), spark, 2, \"all\", 0.01, \"amount_weighted\"\n",
    "# )\n",
    "# sizes_2_hop = [len(x[1]) for x in communities_2_hop]"
   ]
  },
  {
   "cell_type": "code",
   "execution_count": 18,
   "id": "d03955cf-3674-4fa6-bc72-90939be394e8",
   "metadata": {},
   "outputs": [],
   "source": [
    "# %%time\n",
    "\n",
    "# ts_min = data.select(sf.min(\"timestamp\").alias(\"x\")).collect()[0][\"x\"] - timedelta(minutes=1)\n",
    "# data_graph_agg = data.groupby([\"source\", \"target\", \"source_bank\", \"target_bank\", \"source_currency\"]).agg(\n",
    "#     sf.count(\"source\").alias(\"num_transactions\"),\n",
    "#     sf.sum(\"amount\").alias(\"amount\"),\n",
    "#     sf.sum(\"source_amount\").alias(\"source_amount\"),\n",
    "#     sf.collect_list(sf.array((sf.col(\"timestamp\") - ts_min).cast(\"long\"), sf.col(\"amount\"))).alias(\"timestamps_amounts\"),\n",
    "# )\n",
    "# data_graph_agg_sdf = data_graph_agg.persist(StorageLevel.DISK_ONLY)\n",
    "# print(data_graph_agg_sdf.count())\n",
    "# data_graph_agg = data_graph_agg_sdf.toPandas()\n",
    "# index = [\"source\", \"target\"]\n",
    "# edges_agg.loc[:, index + [\"weight\"]].set_index(index)\n",
    "# data_graph_agg = data_graph_agg.set_index(index).join(\n",
    "#     edges_agg.loc[:, index + [\"weight\"]].set_index(index), how=\"left\"\n",
    "# ).reset_index()\n",
    "# data_graph_agg.loc[:, \"amount_weighted\"] = (\n",
    "#     data_graph_agg.loc[:, \"amount\"] * \n",
    "#     (data_graph_agg.loc[:, \"weight\"] / data_graph_agg.loc[:, \"weight\"].max())\n",
    "# )"
   ]
  },
  {
   "cell_type": "code",
   "execution_count": 19,
   "id": "ea905a1c-23e7-4f88-b340-59867f2b4bf1",
   "metadata": {},
   "outputs": [],
   "source": [
    "# graph = ig.Graph.DataFrame(data_graph_agg, use_vids=False, directed=True)"
   ]
  },
  {
   "cell_type": "code",
   "execution_count": 20,
   "id": "74dce0c8-f8e0-446d-9bfe-e456911434f2",
   "metadata": {},
   "outputs": [],
   "source": [
    "# %%time\n",
    "\n",
    "# print(\"Leiden communitites features creation\")\n",
    "\n",
    "# features_leiden = generate_features_spark(communities_leiden, data_graph_agg, spark)\n",
    "# features_leiden = features_leiden.rename(columns={\"key\": \"key_fake\"})\n",
    "# communities_leiden_dict = dict(communities_leiden)\n",
    "# features_leiden.loc[:, \"key\"] = features_leiden.loc[:, \"key_fake\"].apply(lambda x: communities_leiden_dict[x])\n",
    "# features_leiden = features_leiden.explode(\"key\")\n",
    "# del features_leiden[\"key_fake\"]\n",
    "# features_leiden.set_index(\"key\").to_parquet(location_features_leiden)"
   ]
  },
  {
   "cell_type": "code",
   "execution_count": 21,
   "id": "66b1390f-e28d-4def-ae4a-f57766bcf83e",
   "metadata": {},
   "outputs": [],
   "source": [
    "# %%time\n",
    "\n",
    "# print(\"2-hop communitites features creation\")\n",
    "\n",
    "# # features_2_hop = generate_features_spark(communities_2_hop, data_graph_agg, spark)\n",
    "# features_2_hop = generate_features_spark(communities_2_hop, data_graph_agg, spark)\n",
    "# features_2_hop.set_index(\"key\").to_parquet(location_features_2_hop)"
   ]
  },
  {
   "cell_type": "code",
   "execution_count": 22,
   "id": "d51ba7de-7131-43c7-990e-03a97f4318a2",
   "metadata": {},
   "outputs": [],
   "source": [
    "# del graph"
   ]
  },
  {
   "cell_type": "code",
   "execution_count": 23,
   "id": "a4c4b527-dab6-4dee-9e19-64c9a74dc15c",
   "metadata": {},
   "outputs": [],
   "source": [
    "# %%time\n",
    "\n",
    "# print(\"Temporal flows features creation\")\n",
    "\n",
    "# edges_totals = data.select(\"source\", \"target\", \"amount\").groupby(\n",
    "#     [\"source\", \"target\"]\n",
    "# ).agg(sf.count(\"amount\").alias(\"amount\")).toPandas()\n",
    "# edges_totals = edges_totals.sort_values(\"amount\", ascending=False).reset_index(drop=True)\n",
    "# left_edges = spark.createDataFrame(edges_totals.groupby(\"target\").head(TOP_N).loc[:, [\"source\", \"target\"]])\n",
    "# right_edges = spark.createDataFrame(edges_totals.groupby(\"source\").head(TOP_N).loc[:, [\"source\", \"target\"]])\n",
    "\n",
    "# columns = [\"source\", \"target\", \"timestamp\", \"amount\"]\n",
    "\n",
    "# left = left_edges.select(sf.col(\"source\").alias(\"src\"), sf.col(\"target\").alias(\"tgt\")).join(\n",
    "#     data.select(*columns),\n",
    "#     on=(sf.col(\"src\") == sf.col(\"source\")) & (sf.col(\"tgt\") == sf.col(\"target\")),\n",
    "#     how=\"left\"\n",
    "# ).drop(\"src\", \"tgt\").persist(StorageLevel.DISK_ONLY)\n",
    "# select = []\n",
    "# for column in left.columns:\n",
    "#     select.append(sf.col(column).alias(f\"left_{column}\"))\n",
    "# left = left.select(*select)\n",
    "# right = right_edges.select(sf.col(\"source\").alias(\"src\"), sf.col(\"target\").alias(\"tgt\")).join(\n",
    "#     data.select(*columns),\n",
    "#     on=(sf.col(\"src\") == sf.col(\"source\")) & (sf.col(\"tgt\") == sf.col(\"target\")),\n",
    "#     how=\"left\"\n",
    "# ).drop(\"src\", \"tgt\").persist(StorageLevel.DISK_ONLY)\n",
    "\n",
    "# print(left.count(), right.count())\n",
    "\n",
    "# flows_temporal = left.join(\n",
    "#     right,\n",
    "#     (left[\"left_target\"] == right[\"source\"]) &\n",
    "#     (left[\"left_timestamp\"] <= right[\"timestamp\"]),\n",
    "#     how=\"inner\"\n",
    "# ).groupby([\"left_source\", \"left_target\", \"source\", \"target\"]).agg(\n",
    "#     sf.sum(\"left_amount\").alias(\"left_amount\"),\n",
    "#     sf.sum(\"amount\").alias(\"amount\"),\n",
    "# ).drop(\"left_target\").select(\n",
    "#     sf.col(\"left_source\").alias(\"dispense\"),\n",
    "#     sf.col(\"source\").alias(\"passthrough\"),\n",
    "#     sf.col(\"target\").alias(\"sink\"),\n",
    "#     sf.least(\"left_amount\", \"amount\").alias(\"amount\"),\n",
    "# )\n",
    "\n",
    "# aggregate = [\n",
    "#     sf.sum(\"amount\").alias(\"amount_sum\"),\n",
    "#     sf.mean(\"amount\").alias(\"amount_mean\"),\n",
    "#     sf.median(\"amount\").alias(\"amount_median\"),\n",
    "#     sf.max(\"amount\").alias(\"amount_max\"),\n",
    "#     sf.stddev(\"amount\").alias(\"amount_std\"),\n",
    "#     sf.countDistinct(\"dispense\").alias(\"dispense_count\"),\n",
    "#     sf.countDistinct(\"passthrough\").alias(\"passthrough_count\"),\n",
    "#     sf.countDistinct(\"sink\").alias(\"sink_count\"),\n",
    "# ]\n",
    "# for flow_location, flow_type in [\n",
    "#     (location_flow_dispense, \"dispense\"), (location_flow_passthrough, \"passthrough\"), (location_flow_sink, \"sink\")\n",
    "# ]:\n",
    "#     print(flow_type)\n",
    "#     flows_temporal_stats = flows_temporal.groupby(flow_type).agg(*aggregate).toPandas()\n",
    "#     flows_temporal_cyclic_stats = flows_temporal.where(\n",
    "#         (sf.col(\"dispense\") == sf.col(\"sink\"))\n",
    "#     ).groupby(flow_type).agg(*aggregate).toPandas()\n",
    "#     flows_temporal_stats = flows_temporal_stats.set_index(flow_type).join(\n",
    "#         flows_temporal_cyclic_stats.set_index(flow_type),\n",
    "#         how=\"left\", rsuffix=\"_cycle\"\n",
    "#     )\n",
    "#     flows_temporal_stats.index.name = \"key\"\n",
    "#     flows_temporal_stats.to_parquet(flow_location)\n",
    "#     del flows_temporal_stats\n",
    "#     del flows_temporal_cyclic_stats\n",
    "\n",
    "# left.unpersist()\n",
    "# right.unpersist()\n",
    "\n",
    "# del edges_totals\n",
    "# del left_edges\n",
    "# del right_edges"
   ]
  },
  {
   "cell_type": "code",
   "execution_count": 24,
   "id": "6839964f-cb70-4f50-97be-96b0acdd8355",
   "metadata": {},
   "outputs": [],
   "source": [
    "# %%time\n",
    "\n",
    "# print(\"1-hop-source features creation\")\n",
    "\n",
    "# features_source = spark.createDataFrame(data_graph_agg).withColumn(\n",
    "#     \"key\", sf.col(\"source\")\n",
    "# ).repartition(os.cpu_count() * 5, \"key\").groupby(\"key\").applyInPandas(\n",
    "#     generate_features_udf_wrapper(False), schema=SCHEMA_FEAT_UDF\n",
    "# ).toPandas()\n",
    "# features_source = pd.DataFrame(features_source[\"features\"].apply(json.loads).tolist())\n",
    "# features_source.columns = [f\"{s.G_1HOP_PREFIX}{x}\" if x != \"key\" else x for x in features_source.columns]\n",
    "# features_source.set_index(\"key\").to_parquet(location_features_source)"
   ]
  },
  {
   "cell_type": "code",
   "execution_count": 25,
   "id": "eb81ceb5-dcdd-4c9e-bb47-1429de489490",
   "metadata": {},
   "outputs": [],
   "source": [
    "# %%time\n",
    "\n",
    "# print(\"1-hop-target features creation\")\n",
    "\n",
    "# features_target = spark.createDataFrame(data_graph_agg).withColumn(\n",
    "#     \"key\", sf.col(\"target\")\n",
    "# ).repartition(os.cpu_count() * 5, \"key\").groupby(\"key\").applyInPandas(\n",
    "#     generate_features_udf_wrapper(False), schema=SCHEMA_FEAT_UDF\n",
    "# ).toPandas()\n",
    "# features_target = pd.DataFrame(features_target[\"features\"].apply(json.loads).tolist())\n",
    "# features_target.columns = [f\"{s.G_1HOP_PREFIX}{x}\" if x != \"key\" else x for x in features_target.columns]\n",
    "# features_target.set_index(\"key\").to_parquet(location_features_target)"
   ]
  },
  {
   "cell_type": "code",
   "execution_count": 26,
   "id": "f335ce88-2ddb-4a5e-82ef-1f2295494bcd",
   "metadata": {},
   "outputs": [],
   "source": [
    "# del data_graph_agg"
   ]
  },
  {
   "cell_type": "code",
   "execution_count": 27,
   "id": "d5be6ab9-3a2f-4d27-ad4b-3be73d99f71e",
   "metadata": {},
   "outputs": [],
   "source": [
    "ENABLED_FEATURES = [\n",
    "    (\"leiden\", location_features_leiden),\n",
    "    (\"2_hop\", location_features_2_hop),\n",
    "    (\"as_source\", location_features_source),\n",
    "    (\"as_target\", location_features_target),\n",
    "    (\"comm_as_source_features\", location_comm_as_source_features),\n",
    "    (\"comm_as_target_features\", location_comm_as_target_features),\n",
    "    (\"comm_as_passthrough_features\", location_comm_as_passthrough_features),\n",
    "    (\"comm_as_passthrough_features_reverse\", location_comm_as_passthrough_features_reverse),\n",
    "    (\"flow_dispense\", location_flow_dispense),\n",
    "    (\"flow_passthrough\", location_flow_passthrough),\n",
    "    (\"flow_sink\", location_flow_sink),   \n",
    "]"
   ]
  },
  {
   "cell_type": "code",
   "execution_count": 28,
   "id": "bd8b084d-a545-49f1-b9fa-fa9f783e8a6e",
   "metadata": {},
   "outputs": [
    {
     "name": "stderr",
     "output_type": "stream",
     "text": [
      "                                                                                "
     ]
    }
   ],
   "source": [
    "sources = set(data.select(\"source\").distinct().toPandas()[\"source\"])\n",
    "targets = set(data.select(\"target\").distinct().toPandas()[\"target\"])"
   ]
  },
  {
   "cell_type": "code",
   "execution_count": 29,
   "id": "b43b066e-a9f4-47e7-9885-dd709f391ad6",
   "metadata": {},
   "outputs": [],
   "source": [
    "from sklearn.cluster import FeatureAgglomeration\n",
    "from sklearn.preprocessing import StandardScaler, MinMaxScaler"
   ]
  },
  {
   "cell_type": "code",
   "execution_count": 30,
   "id": "71f7ab5b-be1d-4634-9cbf-98fc18b44820",
   "metadata": {},
   "outputs": [
    {
     "name": "stdout",
     "output_type": "stream",
     "text": [
      "leiden 4\n",
      "2_hop 4\n",
      "as_source 3\n",
      "as_target 3\n",
      "comm_as_source_features 2\n",
      "comm_as_target_features 2\n",
      "comm_as_passthrough_features 2\n",
      "comm_as_passthrough_features_reverse 2\n",
      "flow_dispense 1\n",
      "flow_passthrough 1\n",
      "flow_sink 1\n",
      "CPU times: user 55 s, sys: 5.02 s, total: 1min\n",
      "Wall time: 55.3 s\n"
     ]
    }
   ],
   "source": [
    "%%time\n",
    "\n",
    "perc_n_clusters = 0.05\n",
    "\n",
    "scaler = StandardScaler()\n",
    "min_max_scaler = MinMaxScaler((0, 2048))\n",
    "\n",
    "all_features = pd.DataFrame()\n",
    "all_features.index.name = \"key\"\n",
    "for feature_group, location in ENABLED_FEATURES:\n",
    "    group_features = pd.read_parquet(location)\n",
    "    n_clusters = int(np.ceil(len(group_features.columns) * perc_n_clusters))\n",
    "    print(feature_group, n_clusters)\n",
    "    group_features = group_features.fillna(0)\n",
    "    # group_scaled = normalize(group_features, norm=\"l1\", axis=0)\n",
    "    group_scaled = scaler.fit_transform(group_features)\n",
    "    method_red = FeatureAgglomeration(n_clusters=n_clusters)\n",
    "    \n",
    "    group_features_red = method_red.fit_transform(group_scaled)\n",
    "    group_features_red = min_max_scaler.fit_transform(\n",
    "        group_features_red\n",
    "    ).round(decimals=4).astype(np.float32)\n",
    "    \n",
    "    group_features = pd.DataFrame(group_features_red, index=group_features.index)\n",
    "    group_features.columns = [f\"fa_{feature_group}_{x + 1}\" for x in group_features.columns]\n",
    "    all_features = all_features.join(group_features.copy(deep=True), how=\"outer\").fillna(0)\n",
    "\n",
    "all_features.loc[:, \"has_credits\"] = all_features.index.map(lambda x: bool({x}.intersection(sources)))\n",
    "all_features.loc[:, \"has_debits\"] = all_features.index.map(lambda x: bool({x}.intersection(targets)))\n",
    "\n",
    "all_features.to_parquet(location_features_node_level)"
   ]
  },
  {
   "cell_type": "code",
   "execution_count": 31,
   "id": "1abfa4db-b19d-4bb8-82ca-1a54662598cf",
   "metadata": {},
   "outputs": [],
   "source": [
    "# %%time\n",
    "\n",
    "# all_features = pd.DataFrame()\n",
    "# all_features.index.name = \"key\"\n",
    "# for feature_group, location in ENABLED_FEATURES:\n",
    "#     all_features = all_features.join(\n",
    "#         pd.read_parquet(location), how=\"outer\", lsuffix=f\"{feature_group}_\"\n",
    "#     )\n",
    "# all_features = all_features.fillna(0)\n",
    "\n",
    "# # model_ad = IsolationForest(n_estimators=1_000)\n",
    "# # anomaly_scores = model_ad.fit(all_features).decision_function(all_features)\n",
    "\n",
    "# size = all_features.shape[0]\n",
    "# scaler = StandardScaler()\n",
    "\n",
    "# # all_scaled = scaler.fit_transform(all_features)\n",
    "# all_scaled = normalize(all_features, norm=\"l1\", axis=0)\n",
    "\n",
    "# # method_red = FactorAnalysis(n_components=10, random_state=42)\n",
    "# method_red = FeatureAgglomeration(n_clusters=20)\n",
    "\n",
    "# all_reduced = method_red.fit_transform(all_scaled).astype(np.float32)\n",
    "# all_features = pd.DataFrame(all_reduced, index=all_features.index)\n",
    "# del all_reduced\n",
    "\n",
    "# all_features.columns = [f\"fa_{x + 1}\" for x in all_features.columns]\n",
    "\n",
    "# # all_features.loc[:, \"anomaly_score\"] = anomaly_scores\n",
    "# all_features.loc[:, \"has_credits\"] = all_features.index.map(lambda x: bool({x}.intersection(sources)))\n",
    "# all_features.loc[:, \"has_debits\"] = all_features.index.map(lambda x: bool({x}.intersection(targets)))\n",
    "\n",
    "# all_features.to_parquet(location_features_node_level)"
   ]
  },
  {
   "cell_type": "code",
   "execution_count": 32,
   "id": "322714b7-7063-4485-81b1-6d541d25bb30",
   "metadata": {},
   "outputs": [
    {
     "name": "stdout",
     "output_type": "stream",
     "text": [
      "Script executed in 0:01:32\n"
     ]
    }
   ],
   "source": [
    "delta = round(time.time() - start_script)\n",
    "print(f\"Script executed in {timedelta(seconds=delta)}\")"
   ]
  },
  {
   "cell_type": "code",
   "execution_count": 33,
   "id": "e30b7013-254c-4f97-9894-71af0b6c4587",
   "metadata": {},
   "outputs": [],
   "source": [
    "# %%time\n",
    "\n",
    "# print(f\"Generating edge features\")\n",
    "\n",
    "# to_select = [\"source\", \"target\", \"format\", \"source_currency\", \"source_amount\", \"amount\", \"timestamp\"]\n",
    "\n",
    "# edges_features_input = data.select(to_select).groupby(\n",
    "#     [\"source\", \"target\", \"format\", \"source_currency\"]\n",
    "# ).agg(\n",
    "#     sf.sum(\"source_amount\").alias(\"source_amount\"), \n",
    "#     sf.sum(\"amount\").alias(\"amount\"),\n",
    "#     sf.unix_timestamp(sf.min(\"timestamp\")).alias(\"min_ts\"),\n",
    "#     sf.unix_timestamp(sf.max(\"timestamp\")).alias(\"max_ts\"),\n",
    "# ).repartition(os.cpu_count() * 2, \"source\", \"target\").persist(StorageLevel.DISK_ONLY)\n",
    "# _ = edges_features_input.count()\n",
    "\n",
    "# edge_features = edges_features_input.groupby([\"source\", \"target\"]).applyInPandas(\n",
    "#     get_edge_features_udf, schema=SCHEMA_FEAT_UDF\n",
    "# ).toPandas()\n",
    "# edge_features = pd.DataFrame(edge_features[\"features\"].apply(json.loads).tolist())\n",
    "\n",
    "# edge_features.to_parquet(location_features_edges)\n",
    "# del edge_features"
   ]
  },
  {
   "cell_type": "code",
   "execution_count": 34,
   "id": "3b80a20e-5859-4af4-93b5-09c47c2e3516",
   "metadata": {},
   "outputs": [],
   "source": [
    "edge_features = pd.read_parquet(location_features_edges).fillna(0)"
   ]
  },
  {
   "cell_type": "code",
   "execution_count": 35,
   "id": "de5e1408-4d7a-4547-baaa-0cac6952106f",
   "metadata": {},
   "outputs": [
    {
     "name": "stderr",
     "output_type": "stream",
     "text": [
      "                                                                                "
     ]
    },
    {
     "name": "stdout",
     "output_type": "stream",
     "text": [
      "CPU times: user 35.3 s, sys: 2.9 s, total: 38.1 s\n",
      "Wall time: 1min\n"
     ]
    }
   ],
   "source": [
    "%%time\n",
    "\n",
    "train_edges = train.select(\"source\", \"target\").drop_duplicates().toPandas().set_index(\n",
    "    [\"source\", \"target\"]\n",
    ")\n",
    "valid_edges = validation.select(\"source\", \"target\").drop_duplicates().toPandas().set_index(\n",
    "    [\"source\", \"target\"]\n",
    ")\n",
    "test_edges = test.select(\"source\", \"target\").drop_duplicates().toPandas().set_index(\n",
    "    [\"source\", \"target\"]\n",
    ")\n",
    "\n",
    "train_features = train_edges.join(\n",
    "    edge_features.set_index([\"source\", \"target\"]), how=\"left\"\n",
    ").reset_index()\n",
    "validation_features = valid_edges.join(\n",
    "    edge_features.set_index([\"source\", \"target\"]), how=\"left\"\n",
    ").reset_index()\n",
    "test_features = test_edges.join(\n",
    "    edge_features.set_index([\"source\", \"target\"]), how=\"left\"\n",
    ").reset_index()"
   ]
  },
  {
   "cell_type": "code",
   "execution_count": 36,
   "id": "b8a1a67c-28da-4f31-bf4a-96c0f36a7d7f",
   "metadata": {},
   "outputs": [],
   "source": [
    "all_features = pd.read_parquet(location_features_node_level)"
   ]
  },
  {
   "cell_type": "code",
   "execution_count": 37,
   "id": "ce68e646-67f2-4158-ba72-528c94207d54",
   "metadata": {},
   "outputs": [],
   "source": [
    "def save_edge_features(features_in, location):\n",
    "    features_in = features_in.set_index(\"target\").join(\n",
    "        all_features, how=\"left\", rsuffix=\"_target\"\n",
    "    ).reset_index().set_index(\"source\").join(\n",
    "        all_features, how=\"left\", rsuffix=\"_source\"\n",
    "    ).reset_index()\n",
    "    features_in.to_parquet(location)"
   ]
  },
  {
   "cell_type": "code",
   "execution_count": 38,
   "id": "5af6d41c-660c-4bc2-87a8-73660fe48a87",
   "metadata": {},
   "outputs": [
    {
     "name": "stdout",
     "output_type": "stream",
     "text": [
      "CPU times: user 16.1 s, sys: 2.01 s, total: 18.1 s\n",
      "Wall time: 17.3 s\n"
     ]
    }
   ],
   "source": [
    "%%time\n",
    "\n",
    "save_edge_features(train_features, location_features_edges_train)"
   ]
  },
  {
   "cell_type": "code",
   "execution_count": 39,
   "id": "7adbd114-df75-4bca-b697-7fcd08ae36c5",
   "metadata": {},
   "outputs": [
    {
     "name": "stdout",
     "output_type": "stream",
     "text": [
      "CPU times: user 11 s, sys: 1.2 s, total: 12.2 s\n",
      "Wall time: 11.5 s\n"
     ]
    }
   ],
   "source": [
    "%%time\n",
    "\n",
    "save_edge_features(validation_features, location_features_edges_valid)"
   ]
  },
  {
   "cell_type": "code",
   "execution_count": 40,
   "id": "40d4fed8-cc76-44e0-809a-5d6ae82539c2",
   "metadata": {},
   "outputs": [
    {
     "name": "stdout",
     "output_type": "stream",
     "text": [
      "CPU times: user 11 s, sys: 1.31 s, total: 12.3 s\n",
      "Wall time: 11.7 s\n"
     ]
    }
   ],
   "source": [
    "%%time\n",
    "\n",
    "save_edge_features(test_features, location_features_edges_test)"
   ]
  },
  {
   "cell_type": "code",
   "execution_count": 41,
   "id": "6f4364bc-eb49-4d03-b85b-8ff293a88fe2",
   "metadata": {},
   "outputs": [],
   "source": [
    "def save_trx_features(data_in, location):\n",
    "    columns = [\n",
    "        \"source\", \"target\", \"source_currency\", \"target_currency\", \"format\", \"amount\", \n",
    "        # \"source_dispensation\",\n",
    "        # \"target_accumulation\",\n",
    "        # \"source_positive_balance\",\n",
    "        # \"source_negative_balance\",\n",
    "        # \"target_positive_balance\",\n",
    "        # \"target_negative_balance\",\n",
    "        \"source_active_for\",\n",
    "        \"target_active_for\",\n",
    "        \"is_laundering\"\n",
    "    ]\n",
    "    trx_features = data_in.select(*columns).toPandas()\n",
    "    # trx_features.loc[:, \"source_balance_ratio\"] = (\n",
    "    #     trx_features[\"source_positive_balance\"] / trx_features[\"source_negative_balance\"]\n",
    "    # ).fillna(0).replace(np.inf, 0)\n",
    "    # trx_features.loc[:, \"target_balance_ratio\"] = (\n",
    "    #     trx_features[\"target_positive_balance\"] / trx_features[\"target_negative_balance\"]\n",
    "    # ).fillna(0).replace(np.inf, 0)\n",
    "    trx_features.loc[:, \"inter_currency\"] = trx_features[\"source_currency\"] != trx_features[\"target_currency\"]\n",
    "    trx_features.to_parquet(location)\n",
    "    del trx_features"
   ]
  },
  {
   "cell_type": "code",
   "execution_count": 42,
   "id": "c783f612-4c76-4ea5-aed2-68eeaec1191d",
   "metadata": {},
   "outputs": [],
   "source": [
    "# %%time\n",
    "\n",
    "# save_trx_features(train, location_train_trx_features)\n",
    "# save_trx_features(validation, location_valid_trx_features)\n",
    "# save_trx_features(test, location_test_trx_features)"
   ]
  },
  {
   "cell_type": "code",
   "execution_count": 43,
   "id": "8e6eaaec-8af4-43d7-8127-a306b855f430",
   "metadata": {},
   "outputs": [
    {
     "data": {
      "text/plain": [
       "True"
      ]
     },
     "execution_count": 43,
     "metadata": {},
     "output_type": "execute_result"
    }
   ],
   "source": [
    "# To free up memory for training\n",
    "\n",
    "to_reset = %who_ls\n",
    "to_reset = list(to_reset)\n",
    "to_reset.remove(\"to_keep\")\n",
    "to_reset = set(to_reset) - set(to_keep)\n",
    "for var_to_reset in list(to_reset):\n",
    "    var_to_reset = f\"^{var_to_reset}$\"\n",
    "    %reset_selective -f {var_to_reset}\n",
    "\n",
    "delete_large_vars(globals(), locals())"
   ]
  },
  {
   "cell_type": "code",
   "execution_count": 44,
   "id": "13c3a17d-14f9-4d34-9103-0c7e2e8c064f",
   "metadata": {},
   "outputs": [],
   "source": [
    "def combine_features(location_features_trx, location_features_edges, location_features):\n",
    "    features_input = spark.read.parquet(location_features_edges)\n",
    "    trx_features_input = spark.read.parquet(location_features_trx)\n",
    "    features_input = trx_features_input.join(\n",
    "        features_input,\n",
    "        on=[\"source\", \"target\"],\n",
    "        how=\"left\"\n",
    "    ).drop(\"source\", \"target\")\n",
    "    features_input.repartition(12).write.parquet(location_features, mode=\"overwrite\")"
   ]
  },
  {
   "cell_type": "code",
   "execution_count": 45,
   "id": "96867e2d-ceed-4176-b2f2-cb407c592ad6",
   "metadata": {},
   "outputs": [
    {
     "name": "stderr",
     "output_type": "stream",
     "text": [
      "25/10/13 08:17:57 WARN SparkStringUtils: Truncated the string representation of a plan since it was too large. This behavior can be adjusted by setting 'spark.sql.debug.maxToStringFields'.\n",
      "                                                                                "
     ]
    },
    {
     "name": "stdout",
     "output_type": "stream",
     "text": [
      "CPU times: user 104 ms, sys: 84.6 ms, total: 189 ms\n",
      "Wall time: 5min 1s\n"
     ]
    }
   ],
   "source": [
    "%%time\n",
    "\n",
    "combine_features(location_train_trx_features, location_features_edges_train, location_train_features)\n",
    "combine_features(location_valid_trx_features, location_features_edges_valid, location_valid_features)\n",
    "combine_features(location_test_trx_features, location_features_edges_test, location_test_features)"
   ]
  },
  {
   "cell_type": "code",
   "execution_count": 46,
   "id": "b8924af3-4f88-48dc-9e82-ab345e77f302",
   "metadata": {},
   "outputs": [],
   "source": [
    "shutil.rmtree(MULTI_PROC_STAGING_LOCATION, ignore_errors=True)"
   ]
  },
  {
   "cell_type": "code",
   "execution_count": 47,
   "id": "34783830-59e2-4d6d-b0ca-dadc6d1fd8ca",
   "metadata": {},
   "outputs": [
    {
     "name": "stdout",
     "output_type": "stream",
     "text": [
      "(8794399, 84)\n",
      "(17588792, 84)\n",
      "(26383193, 84)\n",
      "(35177589, 84)\n",
      "(43971988, 84)\n",
      "(52766390, 84)\n",
      "(61560788, 84)\n",
      "(70355187, 84)\n",
      "(79149593, 84)\n",
      "(87943994, 84)\n",
      "(96738394, 84)\n",
      "(105532789, 84)\n",
      "CPU times: user 48.9 s, sys: 1min 4s, total: 1min 53s\n",
      "Wall time: 1min 21s\n"
     ]
    }
   ],
   "source": [
    "%%time\n",
    "\n",
    "train_features = pd.DataFrame()\n",
    "for fl in glob(f\"{location_train_features}/*.parquet\"):\n",
    "    inner = pd.read_parquet(fl)\n",
    "    types = {\"related_for\": np.uint32}\n",
    "    for key, value in inner.dtypes.to_dict().items():\n",
    "        if key.startswith(\"fa_\"):\n",
    "            types[key] = np.float16\n",
    "        elif value == np.dtype(\"O\"):\n",
    "            types[key] = \"category\"\n",
    "        elif value == np.float64:\n",
    "            types[key] = np.float32\n",
    "    inner = inner.astype(types)\n",
    "    train_features = pd.concat([train_features, inner], ignore_index=True)\n",
    "    print(train_features.shape)"
   ]
  },
  {
   "cell_type": "code",
   "execution_count": 48,
   "id": "66386414-b91e-44c1-a6f5-034751b1ddfe",
   "metadata": {},
   "outputs": [
    {
     "name": "stdout",
     "output_type": "stream",
     "text": [
      "(2931468, 84)\n",
      "(5862934, 84)\n",
      "(8794402, 84)\n",
      "(11725863, 84)\n",
      "(14657329, 84)\n",
      "(17588795, 84)\n",
      "(20520261, 84)\n",
      "(23451730, 84)\n",
      "(26383194, 84)\n",
      "(29314664, 84)\n",
      "(32246125, 84)\n",
      "(35177596, 84)\n",
      "CPU times: user 16.2 s, sys: 13 s, total: 29.1 s\n",
      "Wall time: 18.4 s\n"
     ]
    }
   ],
   "source": [
    "%%time\n",
    "\n",
    "validation_features = pd.DataFrame()\n",
    "for fl in glob(f\"{location_valid_features}/*.parquet\"):\n",
    "    inner = pd.read_parquet(fl)\n",
    "    types = {\"related_for\": np.uint32}\n",
    "    for key, value in inner.dtypes.to_dict().items():\n",
    "        if key.startswith(\"fa_\"):\n",
    "            types[key] = np.float16\n",
    "        elif value == np.dtype(\"O\"):\n",
    "            types[key] = \"category\"\n",
    "        elif value == np.float64:\n",
    "            types[key] = np.float32\n",
    "    inner = inner.astype(types)\n",
    "    validation_features = pd.concat([validation_features, inner], ignore_index=True)\n",
    "    print(validation_features.shape)"
   ]
  },
  {
   "cell_type": "code",
   "execution_count": 49,
   "id": "3295c5be-e007-471e-8831-132f40fed525",
   "metadata": {},
   "outputs": [],
   "source": [
    "del inner"
   ]
  },
  {
   "cell_type": "code",
   "execution_count": 50,
   "id": "f2c45b14-f09c-49e2-886a-26a85406428d",
   "metadata": {},
   "outputs": [],
   "source": [
    "assert all(train_features.columns == validation_features.columns)"
   ]
  },
  {
   "cell_type": "code",
   "execution_count": 51,
   "id": "79c2ca47-4a63-4e85-aa7f-ff6746a2618b",
   "metadata": {},
   "outputs": [],
   "source": [
    "# train_features = pd.read_parquet(location_train_features)\n",
    "# validation_features = pd.read_parquet(location_valid_features)"
   ]
  },
  {
   "cell_type": "code",
   "execution_count": 52,
   "id": "d123edbe-93c9-4357-8bd3-1a341a95a8ce",
   "metadata": {},
   "outputs": [],
   "source": [
    "# all_columns = set(train_features.columns) | set(validation_features.columns)\n",
    "# for missing in (\n",
    "#     all_columns.symmetric_difference(train_features.columns) |\n",
    "#     all_columns.symmetric_difference(validation_features.columns)\n",
    "# ):\n",
    "#     if missing in train_features.columns:\n",
    "#         print(f\"Deleting {missing} from train\")\n",
    "#         del train_features[missing]\n",
    "#     if missing in validation_features.columns:\n",
    "#         print(f\"Deleting {missing} from validation\")\n",
    "#         del validation_features[missing]\n",
    "\n",
    "# validation_features = validation_features.loc[:, list(train_features.columns)]"
   ]
  },
  {
   "cell_type": "code",
   "execution_count": 53,
   "id": "8a7f7de4-2df8-490f-8daa-b95980fd9686",
   "metadata": {},
   "outputs": [],
   "source": [
    "# assert train_features.shape[0] == train_count\n",
    "# assert validation_features.shape[0] == validation_count\n",
    "# assert test_features.shape[0] == test_count"
   ]
  },
  {
   "cell_type": "code",
   "execution_count": 54,
   "id": "8a16cae6-ee3b-43e9-bad5-654f83f5e376",
   "metadata": {},
   "outputs": [],
   "source": [
    "train_features_labels = train_features.loc[:, [\"is_laundering\"]].copy(deep=True)\n",
    "del train_features[\"is_laundering\"]\n",
    "\n",
    "validation_features_labels = validation_features.loc[:, [\"is_laundering\"]].copy(deep=True)\n",
    "del validation_features[\"is_laundering\"]"
   ]
  },
  {
   "cell_type": "code",
   "execution_count": 55,
   "id": "61455ed4-459e-4a09-aa81-405686e521e5",
   "metadata": {},
   "outputs": [],
   "source": [
    "# %%time\n",
    "\n",
    "# types = {\"related_for\": np.uint32}\n",
    "# for key, value in train_features.dtypes.to_dict().items():\n",
    "#     if value == np.dtype(\"O\"):\n",
    "#         types[key] = \"category\"\n",
    "#     elif value == np.float64:\n",
    "#         types[key] = np.float32\n",
    "\n",
    "# train_features = train_features.astype(types)\n",
    "# validation_features = validation_features.astype(types)"
   ]
  },
  {
   "cell_type": "code",
   "execution_count": 56,
   "id": "db2dbe51-59bf-4e8e-a132-c4c3121ae717",
   "metadata": {},
   "outputs": [],
   "source": [
    "cuda_available = False\n",
    "try:\n",
    "    import torch\n",
    "    cuda_available = torch.cuda.is_available()\n",
    "except ImportError:\n",
    "    pass\n",
    "\n",
    "\n",
    "def f1_eval(y, y_):\n",
    "    return 1 - f1_score(y, np.round(y_))\n",
    "\n",
    "\n",
    "xgb_args = dict(\n",
    "    early_stopping_rounds=20, scale_pos_weight=5,\n",
    "    eval_metric=f1_eval, disable_default_eval_metric=True, \n",
    "    num_parallel_tree=10, max_depth=6,\n",
    "    colsample_bytree=1, subsample=0.5, \n",
    "    # device=\"cpu\", nthread=16,\n",
    "    n_estimators=200, seed=0,\n",
    "    enable_categorical=True,\n",
    "    max_cat_to_onehot=10_000,\n",
    ")\n",
    "if cuda_available:\n",
    "    xgb_args[\"device\"] = \"cuda\"\n",
    "    xgb_args[\"nthread\"] = 2\n",
    "\n",
    "xgb_fit_args = {\n",
    "    \"eval_set\": [(validation_features, validation_features_labels[\"is_laundering\"].values)],\n",
    "    \"verbose\": True,\n",
    "}"
   ]
  },
  {
   "cell_type": "code",
   "execution_count": null,
   "id": "15622322-48f4-4051-8f49-d8ea9476feda",
   "metadata": {},
   "outputs": [
    {
     "name": "stdout",
     "output_type": "stream",
     "text": [
      "[0]\tvalidation_0-f1_eval:0.91400\n",
      "[1]\tvalidation_0-f1_eval:0.91028\n",
      "[2]\tvalidation_0-f1_eval:0.89526\n",
      "[3]\tvalidation_0-f1_eval:0.85774\n",
      "[4]\tvalidation_0-f1_eval:0.82439\n",
      "[5]\tvalidation_0-f1_eval:0.81456\n",
      "[6]\tvalidation_0-f1_eval:0.80797\n",
      "[7]\tvalidation_0-f1_eval:0.80501\n",
      "[8]\tvalidation_0-f1_eval:0.80087\n",
      "[9]\tvalidation_0-f1_eval:0.79753\n",
      "[10]\tvalidation_0-f1_eval:0.79297\n",
      "[11]\tvalidation_0-f1_eval:0.78906\n",
      "[12]\tvalidation_0-f1_eval:0.78621\n",
      "[13]\tvalidation_0-f1_eval:0.78365\n",
      "[14]\tvalidation_0-f1_eval:0.77952\n",
      "[15]\tvalidation_0-f1_eval:0.77700\n",
      "[16]\tvalidation_0-f1_eval:0.77571\n",
      "[17]\tvalidation_0-f1_eval:0.77153\n"
     ]
    }
   ],
   "source": [
    "%%time\n",
    "\n",
    "model = xgb.XGBClassifier(**xgb_args)\n",
    "model.fit(train_features, train_features_labels[\"is_laundering\"].values, **xgb_fit_args)"
   ]
  },
  {
   "cell_type": "code",
   "execution_count": null,
   "id": "63f987aa-67a9-49bb-8663-6c9332d8c13d",
   "metadata": {},
   "outputs": [],
   "source": [
    "# 0.751376 | 36.38 24.09\n",
    "# 37.43 ± 4.94\n",
    "# 38.64 26.66"
   ]
  },
  {
   "cell_type": "code",
   "execution_count": null,
   "id": "22a905b7-7462-4f0e-b3d1-877eed39456e",
   "metadata": {},
   "outputs": [],
   "source": [
    "# model.save_model(\"model.json\")"
   ]
  },
  {
   "cell_type": "code",
   "execution_count": null,
   "id": "3ef7d972-9504-4e36-bbe2-fe491447833b",
   "metadata": {},
   "outputs": [],
   "source": [
    "# with open(\"model_large_li.dump\", \"wb\") as fl:\n",
    "#     pickle.dump(model, fl)"
   ]
  },
  {
   "cell_type": "code",
   "execution_count": null,
   "id": "cd5067ec-a7fe-4452-98ba-3f54c3f52502",
   "metadata": {},
   "outputs": [],
   "source": [
    "columns = list(train_features.columns)\n",
    "del train_features\n",
    "del validation_features"
   ]
  },
  {
   "cell_type": "code",
   "execution_count": null,
   "id": "6c18e3d5-3d13-44ea-8d81-2c90514c2189",
   "metadata": {},
   "outputs": [],
   "source": [
    "test_features = pd.read_parquet(location_test_features).astype(types)\n",
    "test_features_labels = test_features.loc[:, [\"is_laundering\"]].copy(deep=True)\n",
    "del test_features[\"is_laundering\"]\n",
    "test_features = test_features.loc[:, columns]"
   ]
  },
  {
   "cell_type": "code",
   "execution_count": null,
   "id": "ea8b25e1-aafc-4bf2-9bf0-92ad4bea3714",
   "metadata": {},
   "outputs": [],
   "source": [
    "%%time\n",
    "\n",
    "y_test_predicted = model.predict(test_features)\n",
    "f1_first = f1_score(test_features_labels[\"is_laundering\"], y_test_predicted) * 100\n",
    "print(\n",
    "    round(f1_first, 2),\n",
    "    round(recall_score(test_features_labels[\"is_laundering\"], y_test_predicted) * 100, 2)\n",
    ")\n",
    "print()\n",
    "# 37.65 24.77\n",
    "# 38.19 26.0\n",
    "# 45.23 31.0"
   ]
  },
  {
   "cell_type": "code",
   "execution_count": null,
   "id": "31fd479f-1b2c-4dee-a509-4f2210071ab7",
   "metadata": {},
   "outputs": [],
   "source": [
    "model.best_score\n",
    "# 0.750537\n",
    "# 0.738848"
   ]
  },
  {
   "cell_type": "code",
   "execution_count": null,
   "id": "f224eaf8-ef4d-4db4-a612-3f42c20db7d6",
   "metadata": {},
   "outputs": [],
   "source": [
    "# FeatureAgglomeration | L1 | axis=1 | 0.855477 | 22.75 13.92\n",
    "# FeatureAgglomeration | L2 | axis=1 | 0.846830 | \n",
    "# FeatureAgglomeration | L1 | axis=0 | 0.80454  | 29.74 18.63\n",
    "# FeatureAgglomeration | L2 | axis=0 | 0.80454  | 28.94 18.41\n",
    "# FactorAnalysis       | L1 | axis=1 | 0.849203 | 23.35 14.29"
   ]
  },
  {
   "cell_type": "code",
   "execution_count": null,
   "id": "4b847e03-1039-460d-aa50-a34b36ab55a9",
   "metadata": {},
   "outputs": [],
   "source": [
    "# 33.82 21.58 0.76918\n",
    "# 34.96 23.33 0.76004\n",
    "\n",
    "\n",
    "\n",
    "xgb_args = dict(\n",
    "    early_stopping_rounds=10, scale_pos_weight=5,\n",
    "    eval_metric=f1_eval, disable_default_eval_metric=True, \n",
    "    num_parallel_tree=10, max_depth=6,\n",
    "    colsample_bytree=1, subsample=0.5, \n",
    "    # device=\"cpu\", nthread=16,\n",
    "    n_estimators=50, seed=0,\n",
    "    enable_categorical=True,\n",
    "    # max_cat_to_onehot=100,\n",
    ")"
   ]
  },
  {
   "cell_type": "code",
   "execution_count": null,
   "id": "f7a1f816-ea5d-40bb-a6aa-890cd967c3cb",
   "metadata": {},
   "outputs": [],
   "source": [
    "# %%time\n",
    "\n",
    "# f1_scores = [f1_first]\n",
    "# xgb_fit_args[\"verbose\"] = False\n",
    "# for seed in [10, 20, 30, 40]:\n",
    "#     xgb_args[\"seed\"] = seed\n",
    "#     print(\"Seed\", seed)\n",
    "#     model = xgb.XGBClassifier(**xgb_args)\n",
    "#     model.fit(train_features, train_features_labels[\"is_laundering\"].values, **xgb_fit_args)\n",
    "#     y_test_predicted = model.predict(test_features)\n",
    "#     f1_scores.append(f1_score(test_features_labels[\"is_laundering\"], y_test_predicted) * 100)\n",
    "#     print(round(f1_scores[-1], 2))"
   ]
  },
  {
   "cell_type": "code",
   "execution_count": null,
   "id": "1652d559-c164-4c01-a550-5c0e25c4ef4c",
   "metadata": {},
   "outputs": [],
   "source": [
    "# print(f\"{round(max(f1_scores), 2)} ±{round(np.std(f1_scores), 2)}\")"
   ]
  },
  {
   "cell_type": "code",
   "execution_count": null,
   "id": "4fe2d814-8808-44e8-b3ca-d532d8ead5c1",
   "metadata": {},
   "outputs": [],
   "source": [
    "test_features"
   ]
  },
  {
   "cell_type": "code",
   "execution_count": null,
   "id": "98f1f48e-c25d-40b4-869c-8f836ec31a5b",
   "metadata": {},
   "outputs": [],
   "source": []
  }
 ],
 "metadata": {
  "kernelspec": {
   "display_name": "Python 3 (ipykernel)",
   "language": "python",
   "name": "python3"
  },
  "language_info": {
   "codemirror_mode": {
    "name": "ipython",
    "version": 3
   },
   "file_extension": ".py",
   "mimetype": "text/x-python",
   "name": "python",
   "nbconvert_exporter": "python",
   "pygments_lexer": "ipython3",
   "version": "3.11.8"
  }
 },
 "nbformat": 4,
 "nbformat_minor": 5
}
