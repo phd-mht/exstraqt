{
 "cells": [
  {
   "cell_type": "code",
   "execution_count": 1,
   "id": "5102f290-c8e0-4064-86e8-a89a42e1628e",
   "metadata": {},
   "outputs": [],
   "source": [
    "import json\n",
    "import os\n",
    "import pickle\n",
    "import random\n",
    "import time\n",
    "import shutil\n",
    "import sys\n",
    "import uuid\n",
    "from collections import defaultdict\n",
    "from datetime import timedelta\n",
    "from glob import glob\n",
    "from itertools import product\n",
    "from pyspark.sql import functions as sf\n",
    "from pyspark import SparkConf\n",
    "from pyspark.sql import SparkSession\n",
    "from pyspark.storagelevel import StorageLevel\n",
    "from sklearn.ensemble import IsolationForest\n",
    "from sklearn.metrics import roc_auc_score, roc_curve, f1_score, recall_score, RocCurveDisplay\n",
    "\n",
    "import igraph as ig\n",
    "import leidenalg as la\n",
    "import numpy as np\n",
    "import pandas as pd\n",
    "import xgboost as xgb\n",
    "\n",
    "import settings as s\n",
    "\n",
    "random.seed(42)\n",
    "\n",
    "assert s.FILE_SIZE == \"Small\"\n",
    "assert s.HIGH_ILLICIT == True\n",
    "\n",
    "os.environ[\"EXT_DATA_TYPE_FOLDER\"] = s.OUTPUT_POSTFIX.lstrip(\"-\")\n",
    "\n",
    "from common import get_weights, delete_large_vars, MULTI_PROC_STAGING_LOCATION\n",
    "from communities import get_communities_spark\n",
    "from features import (\n",
    "    generate_features_spark, generate_features_udf_wrapper, get_edge_features_udf,\n",
    "    SCHEMA_FEAT_UDF, CURRENCY_RATES\n",
    ")\n",
    "\n",
    "%load_ext autoreload\n",
    "%autoreload 2"
   ]
  },
  {
   "cell_type": "code",
   "execution_count": 2,
   "id": "fdfc52ce-1f9d-49d2-81f7-366fcdab6f1d",
   "metadata": {},
   "outputs": [],
   "source": [
    "start_script = time.time()"
   ]
  },
  {
   "cell_type": "code",
   "execution_count": 3,
   "id": "e3cbd846-2921-4802-b8b8-38d64092cfdc",
   "metadata": {},
   "outputs": [],
   "source": [
    "if (\n",
    "    sys.version_info.major,\n",
    "    sys.version_info.minor,\n",
    "    sys.version_info.micro,\n",
    ") != (3, 11, 8):\n",
    "    raise EnvironmentError(\n",
    "        \"Only runs efficiently on Python 3.11.8\"\n",
    "    )"
   ]
  },
  {
   "cell_type": "code",
   "execution_count": 4,
   "id": "adb8939c-e2fc-4bfb-ae18-ef1eec4eafc3",
   "metadata": {},
   "outputs": [
    {
     "name": "stderr",
     "output_type": "stream",
     "text": [
      "WARNING: Using incubator modules: jdk.incubator.vector\n",
      "Using Spark's default log4j profile: org/apache/spark/log4j2-defaults.properties\n",
      "Setting default log level to \"WARN\".\n",
      "To adjust logging level use sc.setLogLevel(newLevel). For SparkR, use setLogLevel(newLevel).\n",
      "25/10/16 21:28:22 WARN NativeCodeLoader: Unable to load native-hadoop library for your platform... using builtin-java classes where applicable\n",
      "25/10/16 21:28:22 WARN SparkConf: Note that spark.local.dir will be overridden by the value set by the cluster manager (via SPARK_LOCAL_DIRS in standalone/kubernetes and LOCAL_DIRS in YARN).\n"
     ]
    }
   ],
   "source": [
    "SPARK_CONF = [\n",
    "    (\"spark.driver.memory\", \"32g\"),\n",
    "    (\"spark.worker.memory\", \"32g\"),\n",
    "    (\"spark.driver.maxResultSize\", \"32g\"),\n",
    "    (\"spark.sql.execution.arrow.pyspark.enabled\", \"true\"),\n",
    "    (\"spark.network.timeout\", \"600s\"),\n",
    "    (\"spark.sql.autoBroadcastJoinThreshold\", -1),\n",
    "    (\"spark.local.dir\", f\".{os.sep}temp-spark\"),\n",
    "]\n",
    "\n",
    "shutil.rmtree(\"artifacts\", ignore_errors=True)\n",
    "shutil.rmtree(\"temp-spark\", ignore_errors=True)\n",
    "spark = (\n",
    "    SparkSession.builder.appName(\"testing\")\n",
    "    .config(conf=SparkConf().setAll(SPARK_CONF))\n",
    "    .getOrCreate()\n",
    ")"
   ]
  },
  {
   "cell_type": "code",
   "execution_count": 4,
   "id": "320b1fa7-53c8-4dbb-b25f-795aaca78a54",
   "metadata": {},
   "outputs": [],
   "source": [
    "TRAIN_PERC = 0.64\n",
    "VALIDATION_PERC = 0.19\n",
    "TEST_PERC = 0.17\n",
    "\n",
    "KEEP_TOP_N = 100\n",
    "\n",
    "assert(sum([TRAIN_PERC, VALIDATION_PERC, TEST_PERC]) == 1)\n",
    "\n",
    "location_main = os.path.join(\"features\", os.environ[\"EXT_DATA_TYPE_FOLDER\"])\n",
    "# shutil.rmtree(location_main, ignore_errors=True)\n",
    "\n",
    "location_communities_leiden = f\"{location_main}{os.sep}communities_leiden.parquet\"\n",
    "\n",
    "location_features_leiden = f\"{location_main}{os.sep}features_leiden.parquet\"\n",
    "location_features_ego = f\"{location_main}{os.sep}features_ego.parquet\"\n",
    "location_features_2_hop = f\"{location_main}{os.sep}features_2_hop.parquet\"\n",
    "location_features_2_hop_out = f\"{location_main}{os.sep}features_2_hop_out.parquet\"\n",
    "location_features_2_hop_in = f\"{location_main}{os.sep}features_2_hop_in.parquet\"\n",
    "location_features_2_hop_combined = f\"{location_main}{os.sep}features_2_hop_combined.parquet\"\n",
    "location_features_source = f\"{location_main}{os.sep}features_source.parquet\"\n",
    "location_features_target = f\"{location_main}{os.sep}features_target.parquet\"\n",
    "\n",
    "location_flow_dispense = f\"{location_main}{os.sep}location_flow_dispense.parquet\"\n",
    "location_flow_passthrough = f\"{location_main}{os.sep}location_flow_passthrough.parquet\"\n",
    "location_flow_sink = f\"{location_main}{os.sep}location_flow_sink.parquet\"\n",
    "\n",
    "location_comm_as_source_features = f\"{location_main}{os.sep}comm_as_source_features.parquet\"\n",
    "location_comm_as_target_features = f\"{location_main}{os.sep}comm_as_target_features.parquet\"\n",
    "location_comm_as_passthrough_features = f\"{location_main}{os.sep}comm_as_passthrough_features.parquet\"\n",
    "location_comm_as_passthrough_features_reverse = f\"{location_main}{os.sep}comm_as_passthrough_features_reverse.parquet\"\n",
    "\n",
    "location_features_node_level = f\"{location_main}{os.sep}features_node_level.parquet\"\n",
    "location_features_edges = f\"{location_main}{os.sep}features_edges.parquet\"\n",
    "\n",
    "location_features_edges_train = f\"{location_main}{os.sep}features_edges_train.parquet\"\n",
    "location_features_edges_valid = f\"{location_main}{os.sep}features_edges_valid.parquet\"\n",
    "location_features_edges_test = f\"{location_main}{os.sep}features_edges_test.parquet\"\n",
    "\n",
    "location_train_trx_features = f\"{location_main}{os.sep}train_trx_features.parquet\"\n",
    "location_valid_trx_features = f\"{location_main}{os.sep}valid_trx_features.parquet\"\n",
    "location_test_trx_features = f\"{location_main}{os.sep}test_trx_features.parquet\"\n",
    "\n",
    "location_train_features = f\"{location_main}{os.sep}train_features.parquet\"\n",
    "location_valid_features = f\"{location_main}{os.sep}valid_features.parquet\"\n",
    "location_test_features = f\"{location_main}{os.sep}test_features.parquet\"\n",
    "\n",
    "try:\n",
    "    os.makedirs(location_main)\n",
    "except FileExistsError:\n",
    "    pass"
   ]
  },
  {
   "cell_type": "code",
   "execution_count": 6,
   "id": "82546745-6577-4e38-bf44-1a6114c3a398",
   "metadata": {},
   "outputs": [],
   "source": [
    "data = spark.read.parquet(s.STAGED_DATA_LOCATION)\n",
    "data = data.withColumn(\"is_laundering\", sf.col(\"is_laundering\").cast(\"boolean\"))\n",
    "data_count_original = data.count()\n",
    "\n",
    "# Probably not used in the benchmarks\n",
    "data = data.drop(\"source_entity\", \"target_entity\")"
   ]
  },
  {
   "cell_type": "code",
   "execution_count": 7,
   "id": "30fc12ed-f4c5-4f29-90e8-cfa20886c41c",
   "metadata": {},
   "outputs": [],
   "source": [
    "# data = data.drop(\"source\", \"target\")\n",
    "# data = data.withColumnRenamed(\"source_entity\", \"source\")\n",
    "# data = data.withColumnRenamed(\"target_entity\", \"target\")"
   ]
  },
  {
   "cell_type": "code",
   "execution_count": 8,
   "id": "57b5d7e4-1b66-4e93-b67b-a947d8c8e06e",
   "metadata": {},
   "outputs": [
    {
     "name": "stderr",
     "output_type": "stream",
     "text": [
      "                                                                                "
     ]
    },
    {
     "name": "stdout",
     "output_type": "stream",
     "text": [
      "\n",
      "5072693 3246523 963811 862359\n",
      "\n"
     ]
    },
    {
     "name": "stderr",
     "output_type": "stream",
     "text": [
      "[Stage 55:================================================>    (184 + 13) / 200]"
     ]
    },
    {
     "name": "stdout",
     "output_type": "stream",
     "text": [
      "CPU times: user 112 ms, sys: 49.9 ms, total: 162 ms\n",
      "Wall time: 23.2 s\n"
     ]
    },
    {
     "name": "stderr",
     "output_type": "stream",
     "text": [
      "                                                                                "
     ]
    }
   ],
   "source": [
    "%%time\n",
    "\n",
    "trx_ids_sorted = data.sort(\"timestamp\").select(\"transaction_id\").toPandas()[\"transaction_id\"].values\n",
    "trx_count = len(trx_ids_sorted)\n",
    "\n",
    "last_train_index = int(np.floor(trx_count * TRAIN_PERC))\n",
    "last_validation_index = last_train_index + int(np.floor(trx_count * VALIDATION_PERC))\n",
    "train_indexes = trx_ids_sorted[:last_train_index]\n",
    "validation_indexes = trx_ids_sorted[last_train_index:last_validation_index]\n",
    "test_indexes = trx_ids_sorted[last_validation_index:]\n",
    "\n",
    "train_indexes_loc = os.path.join(location_main, \"temp_train_indexes.parquet\")\n",
    "validation_indexes_loc = os.path.join(location_main, \"temp_validation_indexes.parquet\")\n",
    "test_indexes_loc = os.path.join(location_main, \"temp_test_indexes.parquet\")\n",
    "\n",
    "pd.DataFrame(train_indexes, columns=[\"transaction_id\"]).to_parquet(train_indexes_loc)\n",
    "pd.DataFrame(validation_indexes, columns=[\"transaction_id\"]).to_parquet(validation_indexes_loc)\n",
    "pd.DataFrame(test_indexes, columns=[\"transaction_id\"]).to_parquet(test_indexes_loc)\n",
    "\n",
    "train_indexes = spark.read.parquet(train_indexes_loc)\n",
    "validation_indexes = spark.read.parquet(validation_indexes_loc)\n",
    "test_indexes = spark.read.parquet(test_indexes_loc)\n",
    "\n",
    "train = train_indexes.join(\n",
    "    data, on=\"transaction_id\", how=\"left\"\n",
    ").persist(StorageLevel.DISK_ONLY)\n",
    "validation = validation_indexes.join(\n",
    "    data, on=\"transaction_id\", how=\"left\"\n",
    ").persist(StorageLevel.DISK_ONLY)\n",
    "test = test_indexes.join(\n",
    "    data, on=\"transaction_id\", how=\"left\"\n",
    ").persist(StorageLevel.DISK_ONLY)\n",
    "train_count, validation_count, test_count = train.count(), validation.count(), test.count()\n",
    "print()\n",
    "print(trx_count, train_count, validation_count, test_count)\n",
    "print()\n",
    "\n",
    "os.remove(train_indexes_loc)\n",
    "os.remove(validation_indexes_loc)\n",
    "os.remove(test_indexes_loc)\n",
    "\n",
    "train.write.parquet(\"temp-train\", mode=\"overwrite\")\n",
    "validation.write.parquet(\"temp-validation\", mode=\"overwrite\")\n",
    "test.write.parquet(\"temp-test\", mode=\"overwrite\")"
   ]
  },
  {
   "cell_type": "code",
   "execution_count": 9,
   "id": "68b6ee1f-65b0-467b-be90-0c1e8405ab53",
   "metadata": {},
   "outputs": [],
   "source": [
    "train = spark.read.parquet(\"temp-train\")\n",
    "validation = spark.read.parquet(\"temp-validation\")\n",
    "test = spark.read.parquet(\"temp-test\")\n",
    "train_count, validation_count, test_count = train.count(), validation.count(), test.count()"
   ]
  },
  {
   "cell_type": "code",
   "execution_count": 10,
   "id": "d6cc277c-cf84-487e-bcbd-0784a304cc36",
   "metadata": {},
   "outputs": [
    {
     "name": "stderr",
     "output_type": "stream",
     "text": [
      "                                                                                "
     ]
    },
    {
     "name": "stdout",
     "output_type": "stream",
     "text": [
      "CPU times: user 6.06 s, sys: 141 ms, total: 6.2 s\n",
      "Wall time: 8.46 s\n"
     ]
    }
   ],
   "source": [
    "%%time\n",
    "\n",
    "edges = data.groupby([\"source\", \"target\"]).agg(\n",
    "    sf.sum(\"amount\").alias(\"amount\")\n",
    ").toPandas()\n",
    "weights = get_weights(edges)\n",
    "edges_agg = edges.set_index([\"source\", \"target\"]).join(\n",
    "    weights.set_index([\"source\", \"target\"]), how=\"left\"\n",
    ").reset_index()\n",
    "edges_agg.loc[:, \"amount_weighted\"] = (\n",
    "    edges_agg.loc[:, \"amount\"] * \n",
    "    (edges_agg.loc[:, \"weight\"] / edges_agg.loc[:, \"weight\"].max())\n",
    ")"
   ]
  },
  {
   "cell_type": "code",
   "execution_count": 11,
   "id": "199fa227-2ea8-4639-a5ce-fe198af819ea",
   "metadata": {},
   "outputs": [],
   "source": [
    "# Later on, we will reset the variables (to free up memory), while still keeping these intact\n",
    "to_keep = %who_ls\n",
    "to_keep = list(to_keep)"
   ]
  },
  {
   "cell_type": "code",
   "execution_count": 12,
   "id": "ecc6f474-3d26-418e-83d6-5e5781200ebe",
   "metadata": {},
   "outputs": [],
   "source": [
    "TOP_N = 50\n",
    "NUM_HOPS = 5"
   ]
  },
  {
   "cell_type": "code",
   "execution_count": 13,
   "id": "26195fe6-5b17-4525-bf16-83c63098e7b3",
   "metadata": {},
   "outputs": [
    {
     "name": "stderr",
     "output_type": "stream",
     "text": [
      "25/10/16 20:12:02 WARN TaskSetManager: Stage 71 contains a task of very large size (5378 KiB). The maximum recommended task size is 1000 KiB.\n",
      "                                                                                "
     ]
    },
    {
     "name": "stdout",
     "output_type": "stream",
     "text": [
      "FLOWS ET: 146\n",
      "\n",
      "\n",
      "CPU times: user 5.4 s, sys: 1.46 s, total: 6.86 s\n",
      "Wall time: 2min 33s\n"
     ]
    }
   ],
   "source": [
    "%%time\n",
    "\n",
    "data_input = spark.createDataFrame(edges_agg)\n",
    "nodes_source = set(edges_agg[\"source\"].unique())\n",
    "nodes_target = set(edges_agg[\"target\"].unique())\n",
    "nodes_passthrough = nodes_source.intersection(nodes_target)\n",
    "\n",
    "%run generate_flow_features.ipynb\n",
    "\n",
    "comm_as_source_features.to_parquet(location_comm_as_source_features)\n",
    "comm_as_target_features.to_parquet(location_comm_as_target_features)\n",
    "comm_as_passthrough_features.to_parquet(location_comm_as_passthrough_features)\n",
    "comm_as_passthrough_features_reverse.to_parquet(location_comm_as_passthrough_features_reverse)\n",
    "\n",
    "del comm_as_source_features\n",
    "del comm_as_target_features\n",
    "del comm_as_passthrough_features\n",
    "del comm_as_passthrough_features_reverse"
   ]
  },
  {
   "cell_type": "code",
   "execution_count": 14,
   "id": "986d0df2-1737-4f95-ad2b-a73c93bfd259",
   "metadata": {},
   "outputs": [
    {
     "name": "stdout",
     "output_type": "stream",
     "text": [
      "Constructing Leiden communities\n",
      "CPU times: user 10min 43s, sys: 5.83 s, total: 10min 49s\n",
      "Wall time: 10min 48s\n"
     ]
    }
   ],
   "source": [
    "%%time\n",
    "\n",
    "# TODO: Use https://docs.rapids.ai/api/cugraph/legacy/api_docs/api/cugraph/cugraph.leiden/ ?\n",
    "\n",
    "print(\"Constructing Leiden communities\")\n",
    "\n",
    "graph = ig.Graph.DataFrame(edges_agg.loc[:, [\"source\", \"target\", \"amount_weighted\"]], use_vids=False, directed=True)\n",
    "nodes_mapping = {x.index: x[\"name\"] for x in graph.vs()}\n",
    "communities_leiden = la.find_partition(\n",
    "    graph, la.ModularityVertexPartition, n_iterations=100, weights=\"amount_weighted\", seed=42,\n",
    ")\n",
    "communities_leiden = [[nodes_mapping[_] for _ in x] for x in communities_leiden]\n",
    "communities_leiden = [(str(uuid.uuid4()), set(x)) for x in communities_leiden]\n",
    "sizes_leiden = [len(x[1]) for x in communities_leiden]\n",
    "\n",
    "with open(location_communities_leiden, \"wb\") as fl:\n",
    "    pickle.dump(communities_leiden, fl)"
   ]
  },
  {
   "cell_type": "code",
   "execution_count": 15,
   "id": "26e3f6b2-1caa-4e11-b6ef-65d19f8cc156",
   "metadata": {},
   "outputs": [],
   "source": [
    "with open(location_communities_leiden, \"rb\") as fl:\n",
    "    communities_leiden = pickle.load(fl)"
   ]
  },
  {
   "cell_type": "code",
   "execution_count": 16,
   "id": "0998de24-a007-40f3-9cad-0703940530c2",
   "metadata": {},
   "outputs": [
    {
     "name": "stderr",
     "output_type": "stream",
     "text": [
      "                                                                                "
     ]
    },
    {
     "name": "stdout",
     "output_type": "stream",
     "text": [
      "0 513439\n",
      "250000 513439\n",
      "500000 513439\n",
      "CPU times: user 21 s, sys: 274 ms, total: 21.3 s\n",
      "Wall time: 23 s\n"
     ]
    }
   ],
   "source": [
    "%%time\n",
    "\n",
    "data_agg_weights = get_weights(\n",
    "    data.groupby([\"source\", \"target\"])\n",
    "    .agg(\n",
    "        sf.sum(\"amount\").alias(\"amount\")\n",
    "    ).toPandas()\n",
    ")\n",
    "\n",
    "data_agg_weights_rev = data_agg_weights.rename(\n",
    "    columns={\"target\": \"source\", \"source\": \"target\"}\n",
    ").loc[:, [\"source\", \"target\", \"weight\"]]\n",
    "data_agg_weights_ud = pd.concat([data_agg_weights, data_agg_weights_rev], ignore_index=True)\n",
    "data_agg_weights_ud = data_agg_weights_ud.groupby([\"source\", \"target\"]).agg(weight=(\"weight\", \"sum\")).reset_index()\n",
    "\n",
    "data_agg_weights_ud.sort_values(\"weight\", ascending=False, inplace=True)\n",
    "grouped_ud = data_agg_weights_ud.groupby(\"source\").head(KEEP_TOP_N).reset_index(drop=True)\n",
    "grouped_ud = grouped_ud.groupby(\"source\").agg(targets=(\"target\", set))\n",
    "\n",
    "total = grouped_ud.index.nunique()\n",
    "nodes_neighborhoods = {}\n",
    "for index, (source, targets) in enumerate(grouped_ud.iterrows()):\n",
    "    community_candidates = {source}\n",
    "    for target in targets[\"targets\"]:\n",
    "        community_candidates |= (grouped_ud.loc[target, \"targets\"] | {target})\n",
    "    nodes_neighborhoods[source] = set(community_candidates)\n",
    "    if not (index % 250_000):\n",
    "        print(index, total)\n",
    "\n",
    "del data_agg_weights_rev\n",
    "del data_agg_weights_ud\n",
    "del grouped_ud"
   ]
  },
  {
   "cell_type": "code",
   "execution_count": 17,
   "id": "9e37941e-b6c3-478c-bd54-a16572719410",
   "metadata": {},
   "outputs": [
    {
     "name": "stdout",
     "output_type": "stream",
     "text": [
      "Constructing 2-hop communities\n"
     ]
    },
    {
     "name": "stderr",
     "output_type": "stream",
     "text": [
      "                                                                                "
     ]
    },
    {
     "name": "stdout",
     "output_type": "stream",
     "text": [
      "CPU times: user 4.97 s, sys: 174 ms, total: 5.15 s\n",
      "Wall time: 24.8 s\n"
     ]
    }
   ],
   "source": [
    "%%time\n",
    "\n",
    "print(\"Constructing 2-hop communities\")\n",
    "\n",
    "communities_2_hop = get_communities_spark(\n",
    "    nodes_neighborhoods,\n",
    "    ig.Graph.DataFrame(edges_agg.loc[:, [\"source\", \"target\", \"amount_weighted\"]], use_vids=False, directed=True), \n",
    "    os.cpu_count(), spark, 2, \"all\", 0.01, \"amount_weighted\"\n",
    ")\n",
    "sizes_2_hop = [len(x[1]) for x in communities_2_hop]"
   ]
  },
  {
   "cell_type": "code",
   "execution_count": 18,
   "id": "d03955cf-3674-4fa6-bc72-90939be394e8",
   "metadata": {},
   "outputs": [
    {
     "name": "stderr",
     "output_type": "stream",
     "text": [
      "                                                                                "
     ]
    },
    {
     "name": "stdout",
     "output_type": "stream",
     "text": [
      "1015572\n",
      "CPU times: user 5.5 s, sys: 298 ms, total: 5.8 s\n",
      "Wall time: 10.9 s\n"
     ]
    }
   ],
   "source": [
    "%%time\n",
    "\n",
    "ts_min = data.select(sf.min(\"timestamp\").alias(\"x\")).collect()[0][\"x\"] - timedelta(minutes=1)\n",
    "data_graph_agg = data.groupby([\"source\", \"target\", \"source_bank\", \"target_bank\", \"source_currency\"]).agg(\n",
    "    sf.count(\"source\").alias(\"num_transactions\"),\n",
    "    sf.sum(\"amount\").alias(\"amount\"),\n",
    "    sf.sum(\"source_amount\").alias(\"source_amount\"),\n",
    "    sf.collect_list(sf.array((sf.col(\"timestamp\") - ts_min).cast(\"long\"), sf.col(\"amount\"))).alias(\"timestamps_amounts\"),\n",
    ")\n",
    "data_graph_agg_sdf = data_graph_agg.persist(StorageLevel.DISK_ONLY)\n",
    "print(data_graph_agg_sdf.count())\n",
    "data_graph_agg = data_graph_agg_sdf.toPandas()\n",
    "index = [\"source\", \"target\"]\n",
    "edges_agg.loc[:, index + [\"weight\"]].set_index(index)\n",
    "data_graph_agg = data_graph_agg.set_index(index).join(\n",
    "    edges_agg.loc[:, index + [\"weight\"]].set_index(index), how=\"left\"\n",
    ").reset_index()\n",
    "data_graph_agg.loc[:, \"amount_weighted\"] = (\n",
    "    data_graph_agg.loc[:, \"amount\"] * \n",
    "    (data_graph_agg.loc[:, \"weight\"] / data_graph_agg.loc[:, \"weight\"].max())\n",
    ")"
   ]
  },
  {
   "cell_type": "code",
   "execution_count": 19,
   "id": "ea905a1c-23e7-4f88-b340-59867f2b4bf1",
   "metadata": {},
   "outputs": [],
   "source": [
    "graph = ig.Graph.DataFrame(data_graph_agg, use_vids=False, directed=True)"
   ]
  },
  {
   "cell_type": "code",
   "execution_count": 20,
   "id": "74dce0c8-f8e0-446d-9bfe-e456911434f2",
   "metadata": {},
   "outputs": [
    {
     "name": "stdout",
     "output_type": "stream",
     "text": [
      "Leiden communitites features creation\n"
     ]
    },
    {
     "name": "stderr",
     "output_type": "stream",
     "text": [
      "25/10/16 20:26:51 WARN TaskSetManager: Stage 835 contains a task of very large size (1917 KiB). The maximum recommended task size is 1000 KiB.\n",
      "                                                                                "
     ]
    },
    {
     "name": "stdout",
     "output_type": "stream",
     "text": [
      "CPU times: user 14.8 s, sys: 704 ms, total: 15.5 s\n",
      "Wall time: 2min 52s\n"
     ]
    }
   ],
   "source": [
    "%%time\n",
    "\n",
    "print(\"Leiden communitites features creation\")\n",
    "\n",
    "features_leiden = generate_features_spark(communities_leiden, data_graph_agg, spark)\n",
    "features_leiden = features_leiden.rename(columns={\"key\": \"key_fake\"})\n",
    "communities_leiden_dict = dict(communities_leiden)\n",
    "features_leiden.loc[:, \"key\"] = features_leiden.loc[:, \"key_fake\"].apply(lambda x: communities_leiden_dict[x])\n",
    "features_leiden = features_leiden.explode(\"key\")\n",
    "del features_leiden[\"key_fake\"]\n",
    "features_leiden.set_index(\"key\").to_parquet(location_features_leiden)"
   ]
  },
  {
   "cell_type": "code",
   "execution_count": 21,
   "id": "66b1390f-e28d-4def-ae4a-f57766bcf83e",
   "metadata": {},
   "outputs": [
    {
     "name": "stdout",
     "output_type": "stream",
     "text": [
      "2-hop communitites features creation\n"
     ]
    },
    {
     "name": "stderr",
     "output_type": "stream",
     "text": [
      "25/10/16 20:30:31 WARN TaskSetManager: Stage 846 contains a task of very large size (1917 KiB). The maximum recommended task size is 1000 KiB.\n",
      "                                                                                "
     ]
    },
    {
     "name": "stdout",
     "output_type": "stream",
     "text": [
      "CPU times: user 24 s, sys: 1.71 s, total: 25.7 s\n",
      "Wall time: 11min 13s\n"
     ]
    }
   ],
   "source": [
    "%%time\n",
    "\n",
    "print(\"2-hop communitites features creation\")\n",
    "\n",
    "features_2_hop = generate_features_spark(communities_2_hop, data_graph_agg, spark)\n",
    "features_2_hop.set_index(\"key\").to_parquet(location_features_2_hop)"
   ]
  },
  {
   "cell_type": "code",
   "execution_count": 22,
   "id": "d51ba7de-7131-43c7-990e-03a97f4318a2",
   "metadata": {},
   "outputs": [],
   "source": [
    "del graph"
   ]
  },
  {
   "cell_type": "code",
   "execution_count": 23,
   "id": "a4c4b527-dab6-4dee-9e19-64c9a74dc15c",
   "metadata": {},
   "outputs": [
    {
     "name": "stdout",
     "output_type": "stream",
     "text": [
      "Temporal flows features creation\n"
     ]
    },
    {
     "name": "stderr",
     "output_type": "stream",
     "text": [
      "25/10/16 20:40:35 WARN TaskSetManager: Stage 859 contains a task of very large size (4696 KiB). The maximum recommended task size is 1000 KiB.\n",
      "25/10/16 20:40:39 WARN TaskSetManager: Stage 871 contains a task of very large size (4543 KiB). The maximum recommended task size is 1000 KiB.\n",
      "                                                                                "
     ]
    },
    {
     "name": "stdout",
     "output_type": "stream",
     "text": [
      "5067362 4646909\n",
      "dispense\n"
     ]
    },
    {
     "name": "stderr",
     "output_type": "stream",
     "text": [
      "                                                                                "
     ]
    },
    {
     "name": "stdout",
     "output_type": "stream",
     "text": [
      "passthrough\n"
     ]
    },
    {
     "name": "stderr",
     "output_type": "stream",
     "text": [
      "                                                                                "
     ]
    },
    {
     "name": "stdout",
     "output_type": "stream",
     "text": [
      "sink\n"
     ]
    },
    {
     "name": "stderr",
     "output_type": "stream",
     "text": [
      "                                                                                "
     ]
    },
    {
     "name": "stdout",
     "output_type": "stream",
     "text": [
      "CPU times: user 2.69 s, sys: 602 ms, total: 3.29 s\n",
      "Wall time: 2min 52s\n"
     ]
    }
   ],
   "source": [
    "%%time\n",
    "\n",
    "print(\"Temporal flows features creation\")\n",
    "\n",
    "edges_totals = data.select(\"source\", \"target\", \"amount\").groupby(\n",
    "    [\"source\", \"target\"]\n",
    ").agg(sf.count(\"amount\").alias(\"amount\")).toPandas()\n",
    "edges_totals = edges_totals.sort_values(\"amount\", ascending=False).reset_index(drop=True)\n",
    "left_edges = spark.createDataFrame(edges_totals.groupby(\"target\").head(TOP_N).loc[:, [\"source\", \"target\"]])\n",
    "right_edges = spark.createDataFrame(edges_totals.groupby(\"source\").head(TOP_N).loc[:, [\"source\", \"target\"]])\n",
    "\n",
    "columns = [\"source\", \"target\", \"timestamp\", \"amount\"]\n",
    "\n",
    "left = left_edges.select(sf.col(\"source\").alias(\"src\"), sf.col(\"target\").alias(\"tgt\")).join(\n",
    "    data.select(*columns),\n",
    "    on=(sf.col(\"src\") == sf.col(\"source\")) & (sf.col(\"tgt\") == sf.col(\"target\")),\n",
    "    how=\"left\"\n",
    ").drop(\"src\", \"tgt\").persist(StorageLevel.DISK_ONLY)\n",
    "select = []\n",
    "for column in left.columns:\n",
    "    select.append(sf.col(column).alias(f\"left_{column}\"))\n",
    "left = left.select(*select)\n",
    "right = right_edges.select(sf.col(\"source\").alias(\"src\"), sf.col(\"target\").alias(\"tgt\")).join(\n",
    "    data.select(*columns),\n",
    "    on=(sf.col(\"src\") == sf.col(\"source\")) & (sf.col(\"tgt\") == sf.col(\"target\")),\n",
    "    how=\"left\"\n",
    ").drop(\"src\", \"tgt\").persist(StorageLevel.DISK_ONLY)\n",
    "\n",
    "print(left.count(), right.count())\n",
    "\n",
    "flows_temporal = left.join(\n",
    "    right,\n",
    "    (left[\"left_target\"] == right[\"source\"]) &\n",
    "    (left[\"left_timestamp\"] <= right[\"timestamp\"]),\n",
    "    how=\"inner\"\n",
    ").groupby([\"left_source\", \"left_target\", \"source\", \"target\"]).agg(\n",
    "    sf.sum(\"left_amount\").alias(\"left_amount\"),\n",
    "    sf.sum(\"amount\").alias(\"amount\"),\n",
    ").drop(\"left_target\").select(\n",
    "    sf.col(\"left_source\").alias(\"dispense\"),\n",
    "    sf.col(\"source\").alias(\"passthrough\"),\n",
    "    sf.col(\"target\").alias(\"sink\"),\n",
    "    sf.least(\"left_amount\", \"amount\").alias(\"amount\"),\n",
    ")\n",
    "\n",
    "aggregate = [\n",
    "    sf.sum(\"amount\").alias(\"amount_sum\"),\n",
    "    sf.mean(\"amount\").alias(\"amount_mean\"),\n",
    "    sf.median(\"amount\").alias(\"amount_median\"),\n",
    "    sf.max(\"amount\").alias(\"amount_max\"),\n",
    "    sf.stddev(\"amount\").alias(\"amount_std\"),\n",
    "    sf.countDistinct(\"dispense\").alias(\"dispense_count\"),\n",
    "    sf.countDistinct(\"passthrough\").alias(\"passthrough_count\"),\n",
    "    sf.countDistinct(\"sink\").alias(\"sink_count\"),\n",
    "]\n",
    "for flow_location, flow_type in [\n",
    "    (location_flow_dispense, \"dispense\"), (location_flow_passthrough, \"passthrough\"), (location_flow_sink, \"sink\")\n",
    "]:\n",
    "    print(flow_type)\n",
    "    flows_temporal_stats = flows_temporal.groupby(flow_type).agg(*aggregate).toPandas()\n",
    "    flows_temporal_cyclic_stats = flows_temporal.where(\n",
    "        (sf.col(\"dispense\") == sf.col(\"sink\"))\n",
    "    ).groupby(flow_type).agg(*aggregate).toPandas()\n",
    "    flows_temporal_stats = flows_temporal_stats.set_index(flow_type).join(\n",
    "        flows_temporal_cyclic_stats.set_index(flow_type),\n",
    "        how=\"left\", rsuffix=\"_cycle\"\n",
    "    )\n",
    "    flows_temporal_stats.index.name = \"key\"\n",
    "    flows_temporal_stats.to_parquet(flow_location)\n",
    "    del flows_temporal_stats\n",
    "    del flows_temporal_cyclic_stats\n",
    "\n",
    "left.unpersist()\n",
    "right.unpersist()\n",
    "\n",
    "del edges_totals\n",
    "del left_edges\n",
    "del right_edges"
   ]
  },
  {
   "cell_type": "code",
   "execution_count": 24,
   "id": "6839964f-cb70-4f50-97be-96b0acdd8355",
   "metadata": {},
   "outputs": [
    {
     "name": "stdout",
     "output_type": "stream",
     "text": [
      "1-hop-source features creation\n"
     ]
    },
    {
     "name": "stderr",
     "output_type": "stream",
     "text": [
      "25/10/16 20:43:33 WARN TaskSetManager: Stage 1062 contains a task of very large size (1917 KiB). The maximum recommended task size is 1000 KiB.\n",
      "                                                                                "
     ]
    },
    {
     "name": "stdout",
     "output_type": "stream",
     "text": [
      "CPU times: user 18 s, sys: 2.1 s, total: 20.1 s\n",
      "Wall time: 6min 9s\n"
     ]
    }
   ],
   "source": [
    "%%time\n",
    "\n",
    "print(\"1-hop-source features creation\")\n",
    "\n",
    "features_source = spark.createDataFrame(data_graph_agg).withColumn(\n",
    "    \"key\", sf.col(\"source\")\n",
    ").repartition(os.cpu_count() * 5, \"key\").groupby(\"key\").applyInPandas(\n",
    "    generate_features_udf_wrapper(False), schema=SCHEMA_FEAT_UDF\n",
    ").toPandas()\n",
    "features_source = pd.DataFrame(features_source[\"features\"].apply(json.loads).tolist())\n",
    "features_source.columns = [f\"{s.G_1HOP_PREFIX}{x}\" if x != \"key\" else x for x in features_source.columns]\n",
    "features_source.set_index(\"key\").to_parquet(location_features_source)"
   ]
  },
  {
   "cell_type": "code",
   "execution_count": 25,
   "id": "eb81ceb5-dcdd-4c9e-bb47-1429de489490",
   "metadata": {},
   "outputs": [
    {
     "name": "stdout",
     "output_type": "stream",
     "text": [
      "1-hop-target features creation\n"
     ]
    },
    {
     "name": "stderr",
     "output_type": "stream",
     "text": [
      "25/10/16 20:49:42 WARN TaskSetManager: Stage 1065 contains a task of very large size (1917 KiB). The maximum recommended task size is 1000 KiB.\n",
      "                                                                                "
     ]
    },
    {
     "name": "stdout",
     "output_type": "stream",
     "text": [
      "CPU times: user 16.9 s, sys: 1.14 s, total: 18 s\n",
      "Wall time: 5min 2s\n"
     ]
    }
   ],
   "source": [
    "%%time\n",
    "\n",
    "print(\"1-hop-target features creation\")\n",
    "\n",
    "features_target = spark.createDataFrame(data_graph_agg).withColumn(\n",
    "    \"key\", sf.col(\"target\")\n",
    ").repartition(os.cpu_count() * 5, \"key\").groupby(\"key\").applyInPandas(\n",
    "    generate_features_udf_wrapper(False), schema=SCHEMA_FEAT_UDF\n",
    ").toPandas()\n",
    "features_target = pd.DataFrame(features_target[\"features\"].apply(json.loads).tolist())\n",
    "features_target.columns = [f\"{s.G_1HOP_PREFIX}{x}\" if x != \"key\" else x for x in features_target.columns]\n",
    "features_target.set_index(\"key\").to_parquet(location_features_target)"
   ]
  },
  {
   "cell_type": "code",
   "execution_count": 26,
   "id": "f335ce88-2ddb-4a5e-82ef-1f2295494bcd",
   "metadata": {},
   "outputs": [],
   "source": [
    "del data_graph_agg"
   ]
  },
  {
   "cell_type": "code",
   "execution_count": 10,
   "id": "d5be6ab9-3a2f-4d27-ad4b-3be73d99f71e",
   "metadata": {},
   "outputs": [],
   "source": [
    "ENABLED_FEATURES = [\n",
    "    (\"leiden\", location_features_leiden),\n",
    "    (\"2_hop\", location_features_2_hop),\n",
    "    (\"as_source\", location_features_source),\n",
    "    (\"as_target\", location_features_target),\n",
    "    (\"comm_as_source_features\", location_comm_as_source_features),\n",
    "    (\"comm_as_target_features\", location_comm_as_target_features),\n",
    "    (\"comm_as_passthrough_features\", location_comm_as_passthrough_features),\n",
    "    (\"comm_as_passthrough_features_reverse\", location_comm_as_passthrough_features_reverse),\n",
    "    (\"flow_dispense\", location_flow_dispense),\n",
    "    (\"flow_passthrough\", location_flow_passthrough),\n",
    "    (\"flow_sink\", location_flow_sink),   \n",
    "]"
   ]
  },
  {
   "cell_type": "code",
   "execution_count": 11,
   "id": "74b28c47-b23c-44e2-b53e-a80b07eb971f",
   "metadata": {},
   "outputs": [
    {
     "name": "stdout",
     "output_type": "stream",
     "text": [
      "Features: (513439, 388)\n"
     ]
    }
   ],
   "source": [
    "all_features = pd.DataFrame()\n",
    "all_features.index.name = \"key\"\n",
    "\n",
    "for feature_group, location in ENABLED_FEATURES:\n",
    "    all_features = all_features.join(\n",
    "        pd.read_parquet(location), how=\"outer\", rsuffix=f\"_{feature_group}\"\n",
    "    )\n",
    "\n",
    "all_features.to_parquet(location_features_node_level)\n",
    "print(\"Features:\", all_features.shape)\n",
    "del all_features"
   ]
  },
  {
   "cell_type": "code",
   "execution_count": 12,
   "id": "85f3470e-c691-4aa7-b273-b4b0041f1dbf",
   "metadata": {},
   "outputs": [],
   "source": [
    "all_features = pd.read_parquet(location_features_node_level)"
   ]
  },
  {
   "cell_type": "code",
   "execution_count": 13,
   "id": "09a76fe3-abb0-44b4-ac8a-b3b60eb55f1c",
   "metadata": {},
   "outputs": [
    {
     "name": "stdout",
     "output_type": "stream",
     "text": [
      "Deleted 14 constant columns\n"
     ]
    }
   ],
   "source": [
    "constants = []\n",
    "for column in all_features.columns:\n",
    "    if all_features[column].nunique(dropna=True) <= 1:\n",
    "        del all_features[column]\n",
    "        constants.append(column)\n",
    "print(f\"Deleted {len(constants)} constant columns\")"
   ]
  },
  {
   "cell_type": "code",
   "execution_count": 14,
   "id": "322714b7-7063-4485-81b1-6d541d25bb30",
   "metadata": {},
   "outputs": [
    {
     "name": "stdout",
     "output_type": "stream",
     "text": [
      "Script executed in 0:00:59\n"
     ]
    }
   ],
   "source": [
    "delta = round(time.time() - start_script)\n",
    "print(f\"Script executed in {timedelta(seconds=delta)}\")"
   ]
  },
  {
   "cell_type": "code",
   "execution_count": 15,
   "id": "b6da3dca-7750-4520-9c78-4fa51c674804",
   "metadata": {},
   "outputs": [
    {
     "name": "stdout",
     "output_type": "stream",
     "text": [
      "Training the anomaly detection model\n",
      "CPU times: user 10.1 s, sys: 1.08 s, total: 11.2 s\n",
      "Wall time: 11.2 s\n"
     ]
    }
   ],
   "source": [
    "%%time\n",
    "\n",
    "print(\"Training the anomaly detection model\")\n",
    "\n",
    "anomalies = all_features.loc[:, []]\n",
    "# Disabling\n",
    "# anomalies.loc[:, \"anomaly_score\"] = 0\n",
    "model_ad = IsolationForest(n_estimators=1_000, random_state=42)\n",
    "anomalies.loc[:, \"anomaly_score\"] = -model_ad.fit(\n",
    "    all_features.fillna(0)\n",
    ").decision_function(all_features.fillna(0))\n",
    "anomalies.loc[:, \"anomaly_score\"] += abs(anomalies.loc[:, \"anomaly_score\"].min()) + 1e-10\n",
    "anomalies.loc[:, \"anomaly_score\"] /= anomalies.loc[:, \"anomaly_score\"].max()"
   ]
  },
  {
   "cell_type": "code",
   "execution_count": 16,
   "id": "e30b7013-254c-4f97-9894-71af0b6c4587",
   "metadata": {},
   "outputs": [
    {
     "name": "stdout",
     "output_type": "stream",
     "text": [
      "Generating edge features\n"
     ]
    },
    {
     "name": "stderr",
     "output_type": "stream",
     "text": [
      "                                                                                "
     ]
    },
    {
     "name": "stdout",
     "output_type": "stream",
     "text": [
      "CPU times: user 3.53 s, sys: 465 ms, total: 3.99 s\n",
      "Wall time: 2min 45s\n"
     ]
    }
   ],
   "source": [
    "%%time\n",
    "\n",
    "print(f\"Generating edge features\")\n",
    "\n",
    "to_select = [\"source\", \"target\", \"format\", \"source_currency\", \"source_amount\", \"amount\", \"timestamp\"]\n",
    "\n",
    "edges_features_input = data.select(to_select).groupby(\n",
    "    [\"source\", \"target\", \"format\", \"source_currency\"]\n",
    ").agg(\n",
    "    sf.sum(\"source_amount\").alias(\"source_amount\"), \n",
    "    sf.sum(\"amount\").alias(\"amount\"),\n",
    "    sf.unix_timestamp(sf.min(\"timestamp\")).alias(\"min_ts\"),\n",
    "    sf.unix_timestamp(sf.max(\"timestamp\")).alias(\"max_ts\"),\n",
    ").repartition(os.cpu_count() * 2, \"source\", \"target\").persist(StorageLevel.DISK_ONLY)\n",
    "_ = edges_features_input.count()\n",
    "\n",
    "edge_features = edges_features_input.groupby([\"source\", \"target\"]).applyInPandas(\n",
    "    get_edge_features_udf, schema=SCHEMA_FEAT_UDF\n",
    ").toPandas()\n",
    "edge_features = pd.DataFrame(edge_features[\"features\"].apply(json.loads).tolist())\n",
    "\n",
    "edge_features.to_parquet(location_features_edges)\n",
    "del edge_features"
   ]
  },
  {
   "cell_type": "code",
   "execution_count": 17,
   "id": "3b80a20e-5859-4af4-93b5-09c47c2e3516",
   "metadata": {},
   "outputs": [],
   "source": [
    "edge_features = pd.read_parquet(location_features_edges)"
   ]
  },
  {
   "cell_type": "code",
   "execution_count": 18,
   "id": "de5e1408-4d7a-4547-baaa-0cac6952106f",
   "metadata": {},
   "outputs": [
    {
     "name": "stderr",
     "output_type": "stream",
     "text": [
      "                                                                                "
     ]
    },
    {
     "name": "stdout",
     "output_type": "stream",
     "text": [
      "CPU times: user 3.2 s, sys: 271 ms, total: 3.47 s\n",
      "Wall time: 7.92 s\n"
     ]
    }
   ],
   "source": [
    "%%time\n",
    "\n",
    "train_edges = train.select(\"source\", \"target\").drop_duplicates().toPandas().set_index(\n",
    "    [\"source\", \"target\"]\n",
    ")\n",
    "valid_edges = validation.select(\"source\", \"target\").drop_duplicates().toPandas().set_index(\n",
    "    [\"source\", \"target\"]\n",
    ")\n",
    "test_edges = test.select(\"source\", \"target\").drop_duplicates().toPandas().set_index(\n",
    "    [\"source\", \"target\"]\n",
    ")\n",
    "\n",
    "train_features = train_edges.join(\n",
    "    edge_features.set_index([\"source\", \"target\"]), how=\"left\"\n",
    ").reset_index()\n",
    "validation_features = valid_edges.join(\n",
    "    edge_features.set_index([\"source\", \"target\"]), how=\"left\"\n",
    ").reset_index()\n",
    "test_features = test_edges.join(\n",
    "    edge_features.set_index([\"source\", \"target\"]), how=\"left\"\n",
    ").reset_index()"
   ]
  },
  {
   "cell_type": "code",
   "execution_count": 19,
   "id": "ce68e646-67f2-4158-ba72-528c94207d54",
   "metadata": {},
   "outputs": [],
   "source": [
    "def save_edge_features(features_in, location):\n",
    "    features_in = features_in.set_index(\"target\").join(\n",
    "        all_features, how=\"left\", rsuffix=\"_target\"\n",
    "    ).reset_index().set_index(\"source\").join(\n",
    "        all_features, how=\"left\", rsuffix=\"_source\"\n",
    "    ).reset_index()\n",
    "    \n",
    "    features_in = features_in.set_index(\"target\").join(\n",
    "        anomalies, how=\"left\"\n",
    "    ).reset_index().set_index(\"source\").join(\n",
    "        anomalies, how=\"left\", rsuffix=\"_source\"\n",
    "    ).reset_index()\n",
    "\n",
    "    features_in.loc[:, \"anom_scores_diff\"] = features_in.loc[:, \"anomaly_score\"] - features_in.loc[:, \"anomaly_score_source\"]\n",
    "    features_in.loc[:, \"anom_scores_min\"] = np.array(\n",
    "        [\n",
    "            features_in.loc[:, \"anomaly_score\"].values, \n",
    "            features_in.loc[:, \"anomaly_score_source\"].values\n",
    "        ],\n",
    "    ).min(axis=0)\n",
    "    features_in.loc[:, \"anom_scores_max\"] = np.array(\n",
    "        [\n",
    "            features_in.loc[:, \"anomaly_score\"].values, \n",
    "            features_in.loc[:, \"anomaly_score_source\"].values\n",
    "        ],\n",
    "    ).max(axis=0)\n",
    "    features_in.loc[:, \"anom_scores_mean\"] = np.array(\n",
    "        [\n",
    "            features_in.loc[:, \"anomaly_score\"].values, \n",
    "            features_in.loc[:, \"anomaly_score_source\"].values\n",
    "        ],\n",
    "    ).mean(axis=0)\n",
    "\n",
    "    features_in.to_parquet(location)"
   ]
  },
  {
   "cell_type": "code",
   "execution_count": 20,
   "id": "5af6d41c-660c-4bc2-87a8-73660fe48a87",
   "metadata": {},
   "outputs": [
    {
     "name": "stdout",
     "output_type": "stream",
     "text": [
      "CPU times: user 19.2 s, sys: 15 s, total: 34.2 s\n",
      "Wall time: 34.1 s\n"
     ]
    }
   ],
   "source": [
    "%%time\n",
    "\n",
    "save_edge_features(train_features, location_features_edges_train)"
   ]
  },
  {
   "cell_type": "code",
   "execution_count": 21,
   "id": "7adbd114-df75-4bca-b697-7fcd08ae36c5",
   "metadata": {},
   "outputs": [
    {
     "name": "stdout",
     "output_type": "stream",
     "text": [
      "CPU times: user 5.79 s, sys: 2.35 s, total: 8.14 s\n",
      "Wall time: 7.61 s\n"
     ]
    }
   ],
   "source": [
    "%%time\n",
    "\n",
    "save_edge_features(validation_features, location_features_edges_valid)"
   ]
  },
  {
   "cell_type": "code",
   "execution_count": 22,
   "id": "40d4fed8-cc76-44e0-809a-5d6ae82539c2",
   "metadata": {},
   "outputs": [
    {
     "name": "stdout",
     "output_type": "stream",
     "text": [
      "CPU times: user 8.12 s, sys: 3.27 s, total: 11.4 s\n",
      "Wall time: 10.6 s\n"
     ]
    }
   ],
   "source": [
    "%%time\n",
    "\n",
    "save_edge_features(test_features, location_features_edges_test)"
   ]
  },
  {
   "cell_type": "code",
   "execution_count": 23,
   "id": "6f4364bc-eb49-4d03-b85b-8ff293a88fe2",
   "metadata": {},
   "outputs": [],
   "source": [
    "def save_trx_features(data_in, location):\n",
    "    columns = [\n",
    "        \"source\", \"target\", \"source_currency\", \"target_currency\", \"format\", \"amount\", \n",
    "        \"source_dispensation\",\n",
    "        \"target_accumulation\",\n",
    "        \"source_positive_balance\",\n",
    "        \"source_negative_balance\",\n",
    "        \"target_positive_balance\",\n",
    "        \"target_negative_balance\",\n",
    "        \"source_active_for\",\n",
    "        \"target_active_for\",\n",
    "        \"is_laundering\"\n",
    "    ]\n",
    "    trx_features = data_in.select(*columns).toPandas()\n",
    "    trx_features.loc[:, \"source_balance_ratio\"] = (\n",
    "        trx_features[\"source_positive_balance\"] / trx_features[\"source_negative_balance\"]\n",
    "    ).fillna(0).replace(np.inf, 0)\n",
    "    trx_features.loc[:, \"target_balance_ratio\"] = (\n",
    "        trx_features[\"target_positive_balance\"] / trx_features[\"target_negative_balance\"]\n",
    "    ).fillna(0).replace(np.inf, 0)\n",
    "    trx_features.loc[:, \"inter_currency\"] = trx_features[\"source_currency\"] != trx_features[\"target_currency\"]\n",
    "    trx_features = pd.get_dummies(trx_features, columns=[\"source_currency\", \"target_currency\", \"format\"], drop_first=False)\n",
    "    trx_features.to_parquet(location)\n",
    "    del trx_features"
   ]
  },
  {
   "cell_type": "code",
   "execution_count": 24,
   "id": "c783f612-4c76-4ea5-aed2-68eeaec1191d",
   "metadata": {},
   "outputs": [
    {
     "name": "stderr",
     "output_type": "stream",
     "text": [
      "                                                                                "
     ]
    },
    {
     "name": "stdout",
     "output_type": "stream",
     "text": [
      "CPU times: user 4.09 s, sys: 739 ms, total: 4.83 s\n",
      "Wall time: 6.11 s\n"
     ]
    }
   ],
   "source": [
    "%%time\n",
    "\n",
    "save_trx_features(train, location_train_trx_features)\n",
    "save_trx_features(validation, location_valid_trx_features)\n",
    "save_trx_features(test, location_test_trx_features)"
   ]
  },
  {
   "cell_type": "code",
   "execution_count": 26,
   "id": "8e6eaaec-8af4-43d7-8127-a306b855f430",
   "metadata": {},
   "outputs": [],
   "source": [
    "# To free up memory for training\n",
    "\n",
    "to_reset = %who_ls\n",
    "to_reset = list(to_reset)\n",
    "to_reset.remove(\"to_keep\")\n",
    "to_reset = set(to_reset) - set(to_keep)\n",
    "for var_to_reset in list(to_reset):\n",
    "    var_to_reset = f\"^{var_to_reset}$\"\n",
    "    %reset_selective -f {var_to_reset}\n",
    "\n",
    "delete_large_vars(globals(), locals())"
   ]
  },
  {
   "cell_type": "code",
   "execution_count": 27,
   "id": "13c3a17d-14f9-4d34-9103-0c7e2e8c064f",
   "metadata": {},
   "outputs": [],
   "source": [
    "def combine_features(location_features_trx, location_features_edges, location_features):\n",
    "    features_input = spark.read.parquet(location_features_edges)\n",
    "    trx_features_input = spark.read.parquet(location_features_trx)\n",
    "    features_input = trx_features_input.join(\n",
    "        features_input,\n",
    "        on=[\"source\", \"target\"],\n",
    "        how=\"left\"\n",
    "    ).drop(\"source\", \"target\")\n",
    "    features_input.write.parquet(location_features, mode=\"overwrite\")"
   ]
  },
  {
   "cell_type": "code",
   "execution_count": 28,
   "id": "96867e2d-ceed-4176-b2f2-cb407c592ad6",
   "metadata": {},
   "outputs": [
    {
     "name": "stderr",
     "output_type": "stream",
     "text": [
      "25/10/16 21:34:03 WARN SparkStringUtils: Truncated the string representation of a plan since it was too large. This behavior can be adjusted by setting 'spark.sql.debug.maxToStringFields'.\n",
      "                                                                                "
     ]
    },
    {
     "name": "stdout",
     "output_type": "stream",
     "text": [
      "CPU times: user 37.1 ms, sys: 21.8 ms, total: 58.9 ms\n",
      "Wall time: 2min 5s\n"
     ]
    }
   ],
   "source": [
    "%%time\n",
    "\n",
    "combine_features(location_train_trx_features, location_features_edges_train, location_train_features)\n",
    "combine_features(location_valid_trx_features, location_features_edges_valid, location_valid_features)\n",
    "combine_features(location_test_trx_features, location_features_edges_test, location_test_features)"
   ]
  },
  {
   "cell_type": "code",
   "execution_count": null,
   "id": "b8924af3-4f88-48dc-9e82-ab345e77f302",
   "metadata": {},
   "outputs": [],
   "source": [
    "shutil.rmtree(MULTI_PROC_STAGING_LOCATION, ignore_errors=True)"
   ]
  },
  {
   "cell_type": "code",
   "execution_count": 5,
   "id": "79c2ca47-4a63-4e85-aa7f-ff6746a2618b",
   "metadata": {},
   "outputs": [],
   "source": [
    "train_features = pd.read_parquet(location_train_features)\n",
    "validation_features = pd.read_parquet(location_valid_features)\n",
    "test_features = pd.read_parquet(location_test_features)"
   ]
  },
  {
   "cell_type": "code",
   "execution_count": 6,
   "id": "d123edbe-93c9-4357-8bd3-1a341a95a8ce",
   "metadata": {},
   "outputs": [
    {
     "name": "stdout",
     "output_type": "stream",
     "text": [
      "Deleting format_Reinvestment from train\n"
     ]
    }
   ],
   "source": [
    "all_columns = set(train_features.columns) | set(validation_features.columns) | set(test_features.columns)\n",
    "\n",
    "for missing in (\n",
    "    all_columns.symmetric_difference(train_features.columns) |\n",
    "    all_columns.symmetric_difference(validation_features.columns) |\n",
    "    all_columns.symmetric_difference(test_features.columns)\n",
    "):\n",
    "    if missing in train_features.columns:\n",
    "        print(f\"Deleting {missing} from train\")\n",
    "        del train_features[missing]\n",
    "    if missing in validation_features.columns:\n",
    "        print(f\"Deleting {missing} from validation\")\n",
    "        del validation_features[missing]\n",
    "    if missing in test_features.columns:\n",
    "        print(f\"Deleting {missing} from test\")\n",
    "        del test_features[missing]\n",
    "\n",
    "validation_features = validation_features.loc[:, list(train_features.columns)]\n",
    "test_features = test_features.loc[:, list(train_features.columns)]"
   ]
  },
  {
   "cell_type": "code",
   "execution_count": 7,
   "id": "8a7f7de4-2df8-490f-8daa-b95980fd9686",
   "metadata": {},
   "outputs": [],
   "source": [
    "# assert train_features.shape[0] == train_count\n",
    "# assert validation_features.shape[0] == validation_count\n",
    "# assert test_features.shape[0] == test_count"
   ]
  },
  {
   "cell_type": "code",
   "execution_count": 8,
   "id": "eefb7276-f84a-4468-bd82-a2fcce9132c2",
   "metadata": {},
   "outputs": [],
   "source": [
    "train_features_labels = train_features.loc[:, [\"is_laundering\"]].copy(deep=True)\n",
    "del train_features[\"is_laundering\"]\n",
    "\n",
    "validation_features_labels = validation_features.loc[:, [\"is_laundering\"]].copy(deep=True)\n",
    "del validation_features[\"is_laundering\"]\n",
    "\n",
    "test_features_labels = test_features.loc[:, [\"is_laundering\"]].copy(deep=True)\n",
    "del test_features[\"is_laundering\"]"
   ]
  },
  {
   "cell_type": "code",
   "execution_count": 9,
   "id": "04a0e12e-9211-4bd5-aa52-b161b8134858",
   "metadata": {},
   "outputs": [
    {
     "data": {
      "text/plain": [
       "826"
      ]
     },
     "execution_count": 9,
     "metadata": {},
     "output_type": "execute_result"
    }
   ],
   "source": [
    "len(train_features.columns)"
   ]
  },
  {
   "cell_type": "code",
   "execution_count": 10,
   "id": "e6e6d52e-7d48-41c6-89bf-c891cba1deb6",
   "metadata": {},
   "outputs": [],
   "source": [
    "# cols = [x for x in train_features.columns if \"anom\" not in x]\n",
    "# len(cols)"
   ]
  },
  {
   "cell_type": "code",
   "execution_count": 11,
   "id": "2eaaba80-826c-44a7-8131-7afa8b4938b9",
   "metadata": {},
   "outputs": [],
   "source": [
    "# train_features = train_features.loc[:, cols]\n",
    "# validation_features = validation_features.loc[:, cols]\n",
    "# test_features = test_features.loc[:, cols]"
   ]
  },
  {
   "cell_type": "code",
   "execution_count": 12,
   "id": "db2dbe51-59bf-4e8e-a132-c4c3121ae717",
   "metadata": {},
   "outputs": [],
   "source": [
    "cuda_available = False\n",
    "try:\n",
    "    import torch\n",
    "    cuda_available = torch.cuda.is_available()\n",
    "except ImportError:\n",
    "    pass\n",
    "\n",
    "\n",
    "def f1_eval(y, y_):\n",
    "    return 1 - f1_score(y, np.round(y_))\n",
    "\n",
    "\n",
    "xgb_args = dict(\n",
    "    early_stopping_rounds=20, scale_pos_weight=5,\n",
    "    # eval_metric=f1_eval, \n",
    "    eval_metric=\"aucpr\", \n",
    "    disable_default_eval_metric=True, \n",
    "    num_parallel_tree=10, max_depth=6,\n",
    "    colsample_bytree=0.5, subsample=1, \n",
    "    eta=0.05,\n",
    "    device=\"cpu\", nthread=10,\n",
    "    n_estimators=500, seed=50,\n",
    ")\n",
    "if cuda_available:\n",
    "    xgb_args[\"device\"] = \"cuda\"\n",
    "    xgb_args[\"nthread\"] = 2\n",
    "\n",
    "xgb_fit_args = {\n",
    "    \"eval_set\": [(validation_features, validation_features_labels[\"is_laundering\"].values)],\n",
    "    \"verbose\": True,\n",
    "}"
   ]
  },
  {
   "cell_type": "code",
   "execution_count": 13,
   "id": "15622322-48f4-4051-8f49-d8ea9476feda",
   "metadata": {},
   "outputs": [
    {
     "name": "stdout",
     "output_type": "stream",
     "text": [
      "[0]\tvalidation_0-aucpr:0.60022\n",
      "[1]\tvalidation_0-aucpr:0.60989\n",
      "[2]\tvalidation_0-aucpr:0.61243\n",
      "[3]\tvalidation_0-aucpr:0.61576\n",
      "[4]\tvalidation_0-aucpr:0.62089\n",
      "[5]\tvalidation_0-aucpr:0.61732\n",
      "[6]\tvalidation_0-aucpr:0.62626\n",
      "[7]\tvalidation_0-aucpr:0.62734\n",
      "[8]\tvalidation_0-aucpr:0.62781\n",
      "[9]\tvalidation_0-aucpr:0.62780\n",
      "[10]\tvalidation_0-aucpr:0.62954\n",
      "[11]\tvalidation_0-aucpr:0.63191\n",
      "[12]\tvalidation_0-aucpr:0.63377\n",
      "[13]\tvalidation_0-aucpr:0.63536\n",
      "[14]\tvalidation_0-aucpr:0.63568\n",
      "[15]\tvalidation_0-aucpr:0.63731\n",
      "[16]\tvalidation_0-aucpr:0.63888\n",
      "[17]\tvalidation_0-aucpr:0.64027\n",
      "[18]\tvalidation_0-aucpr:0.64103\n",
      "[19]\tvalidation_0-aucpr:0.64173\n",
      "[20]\tvalidation_0-aucpr:0.64235\n",
      "[21]\tvalidation_0-aucpr:0.64375\n",
      "[22]\tvalidation_0-aucpr:0.64437\n",
      "[23]\tvalidation_0-aucpr:0.64473\n",
      "[24]\tvalidation_0-aucpr:0.64576\n",
      "[25]\tvalidation_0-aucpr:0.64648\n",
      "[26]\tvalidation_0-aucpr:0.64708\n",
      "[27]\tvalidation_0-aucpr:0.64798\n",
      "[28]\tvalidation_0-aucpr:0.64913\n",
      "[29]\tvalidation_0-aucpr:0.64948\n",
      "[30]\tvalidation_0-aucpr:0.65015\n",
      "[31]\tvalidation_0-aucpr:0.65054\n",
      "[32]\tvalidation_0-aucpr:0.65106\n",
      "[33]\tvalidation_0-aucpr:0.65139\n",
      "[34]\tvalidation_0-aucpr:0.65202\n",
      "[35]\tvalidation_0-aucpr:0.65260\n",
      "[36]\tvalidation_0-aucpr:0.65309\n",
      "[37]\tvalidation_0-aucpr:0.65337\n",
      "[38]\tvalidation_0-aucpr:0.65411\n",
      "[39]\tvalidation_0-aucpr:0.65430\n",
      "[40]\tvalidation_0-aucpr:0.65462\n",
      "[41]\tvalidation_0-aucpr:0.65524\n",
      "[42]\tvalidation_0-aucpr:0.65575\n",
      "[43]\tvalidation_0-aucpr:0.65647\n",
      "[44]\tvalidation_0-aucpr:0.65681\n",
      "[45]\tvalidation_0-aucpr:0.65726\n",
      "[46]\tvalidation_0-aucpr:0.65771\n",
      "[47]\tvalidation_0-aucpr:0.65836\n",
      "[48]\tvalidation_0-aucpr:0.65897\n",
      "[49]\tvalidation_0-aucpr:0.65941\n",
      "[50]\tvalidation_0-aucpr:0.65979\n",
      "[51]\tvalidation_0-aucpr:0.66026\n",
      "[52]\tvalidation_0-aucpr:0.66061\n",
      "[53]\tvalidation_0-aucpr:0.66109\n",
      "[54]\tvalidation_0-aucpr:0.66148\n",
      "[55]\tvalidation_0-aucpr:0.66189\n",
      "[56]\tvalidation_0-aucpr:0.66249\n",
      "[57]\tvalidation_0-aucpr:0.66290\n",
      "[58]\tvalidation_0-aucpr:0.66335\n",
      "[59]\tvalidation_0-aucpr:0.66393\n",
      "[60]\tvalidation_0-aucpr:0.66441\n",
      "[61]\tvalidation_0-aucpr:0.66476\n",
      "[62]\tvalidation_0-aucpr:0.66518\n",
      "[63]\tvalidation_0-aucpr:0.66548\n",
      "[64]\tvalidation_0-aucpr:0.66587\n",
      "[65]\tvalidation_0-aucpr:0.66624\n",
      "[66]\tvalidation_0-aucpr:0.66661\n",
      "[67]\tvalidation_0-aucpr:0.66715\n",
      "[68]\tvalidation_0-aucpr:0.66763\n",
      "[69]\tvalidation_0-aucpr:0.66809\n",
      "[70]\tvalidation_0-aucpr:0.66838\n",
      "[71]\tvalidation_0-aucpr:0.66859\n",
      "[72]\tvalidation_0-aucpr:0.66897\n",
      "[73]\tvalidation_0-aucpr:0.66937\n",
      "[74]\tvalidation_0-aucpr:0.66968\n",
      "[75]\tvalidation_0-aucpr:0.66997\n",
      "[76]\tvalidation_0-aucpr:0.67022\n",
      "[77]\tvalidation_0-aucpr:0.67053\n",
      "[78]\tvalidation_0-aucpr:0.67074\n",
      "[79]\tvalidation_0-aucpr:0.67087\n",
      "[80]\tvalidation_0-aucpr:0.67108\n",
      "[81]\tvalidation_0-aucpr:0.67124\n",
      "[82]\tvalidation_0-aucpr:0.67141\n",
      "[83]\tvalidation_0-aucpr:0.67165\n",
      "[84]\tvalidation_0-aucpr:0.67166\n",
      "[85]\tvalidation_0-aucpr:0.67182\n",
      "[86]\tvalidation_0-aucpr:0.67196\n",
      "[87]\tvalidation_0-aucpr:0.67214\n",
      "[88]\tvalidation_0-aucpr:0.67237\n",
      "[89]\tvalidation_0-aucpr:0.67264\n",
      "[90]\tvalidation_0-aucpr:0.67297\n",
      "[91]\tvalidation_0-aucpr:0.67312\n",
      "[92]\tvalidation_0-aucpr:0.67323\n",
      "[93]\tvalidation_0-aucpr:0.67338\n",
      "[94]\tvalidation_0-aucpr:0.67354\n",
      "[95]\tvalidation_0-aucpr:0.67375\n",
      "[96]\tvalidation_0-aucpr:0.67389\n",
      "[97]\tvalidation_0-aucpr:0.67410\n",
      "[98]\tvalidation_0-aucpr:0.67428\n",
      "[99]\tvalidation_0-aucpr:0.67451\n",
      "[100]\tvalidation_0-aucpr:0.67480\n",
      "[101]\tvalidation_0-aucpr:0.67502\n",
      "[102]\tvalidation_0-aucpr:0.67527\n",
      "[103]\tvalidation_0-aucpr:0.67544\n",
      "[104]\tvalidation_0-aucpr:0.67563\n",
      "[105]\tvalidation_0-aucpr:0.67578\n",
      "[106]\tvalidation_0-aucpr:0.67597\n",
      "[107]\tvalidation_0-aucpr:0.67609\n",
      "[108]\tvalidation_0-aucpr:0.67620\n",
      "[109]\tvalidation_0-aucpr:0.67635\n",
      "[110]\tvalidation_0-aucpr:0.67643\n",
      "[111]\tvalidation_0-aucpr:0.67660\n",
      "[112]\tvalidation_0-aucpr:0.67679\n",
      "[113]\tvalidation_0-aucpr:0.67701\n",
      "[114]\tvalidation_0-aucpr:0.67716\n",
      "[115]\tvalidation_0-aucpr:0.67734\n",
      "[116]\tvalidation_0-aucpr:0.67752\n",
      "[117]\tvalidation_0-aucpr:0.67765\n",
      "[118]\tvalidation_0-aucpr:0.67783\n",
      "[119]\tvalidation_0-aucpr:0.67804\n",
      "[120]\tvalidation_0-aucpr:0.67814\n",
      "[121]\tvalidation_0-aucpr:0.67826\n",
      "[122]\tvalidation_0-aucpr:0.67835\n",
      "[123]\tvalidation_0-aucpr:0.67847\n",
      "[124]\tvalidation_0-aucpr:0.67848\n",
      "[125]\tvalidation_0-aucpr:0.67858\n",
      "[126]\tvalidation_0-aucpr:0.67868\n",
      "[127]\tvalidation_0-aucpr:0.67874\n",
      "[128]\tvalidation_0-aucpr:0.67884\n",
      "[129]\tvalidation_0-aucpr:0.67893\n",
      "[130]\tvalidation_0-aucpr:0.67900\n",
      "[131]\tvalidation_0-aucpr:0.67905\n",
      "[132]\tvalidation_0-aucpr:0.67913\n",
      "[133]\tvalidation_0-aucpr:0.67916\n",
      "[134]\tvalidation_0-aucpr:0.67924\n",
      "[135]\tvalidation_0-aucpr:0.67922\n",
      "[136]\tvalidation_0-aucpr:0.67930\n",
      "[137]\tvalidation_0-aucpr:0.67941\n",
      "[138]\tvalidation_0-aucpr:0.67944\n",
      "[139]\tvalidation_0-aucpr:0.67948\n",
      "[140]\tvalidation_0-aucpr:0.67946\n",
      "[141]\tvalidation_0-aucpr:0.67949\n",
      "[142]\tvalidation_0-aucpr:0.67960\n",
      "[143]\tvalidation_0-aucpr:0.67959\n",
      "[144]\tvalidation_0-aucpr:0.67958\n",
      "[145]\tvalidation_0-aucpr:0.67962\n",
      "[146]\tvalidation_0-aucpr:0.67950\n",
      "[147]\tvalidation_0-aucpr:0.67953\n",
      "[148]\tvalidation_0-aucpr:0.67948\n",
      "[149]\tvalidation_0-aucpr:0.67951\n",
      "[150]\tvalidation_0-aucpr:0.67952\n",
      "[151]\tvalidation_0-aucpr:0.67949\n",
      "[152]\tvalidation_0-aucpr:0.67950\n",
      "[153]\tvalidation_0-aucpr:0.67949\n",
      "[154]\tvalidation_0-aucpr:0.67946\n",
      "[155]\tvalidation_0-aucpr:0.67951\n",
      "[156]\tvalidation_0-aucpr:0.67951\n",
      "[157]\tvalidation_0-aucpr:0.67958\n",
      "[158]\tvalidation_0-aucpr:0.67961\n",
      "[159]\tvalidation_0-aucpr:0.67963\n",
      "[160]\tvalidation_0-aucpr:0.67962\n",
      "[161]\tvalidation_0-aucpr:0.67958\n",
      "[162]\tvalidation_0-aucpr:0.67961\n",
      "[163]\tvalidation_0-aucpr:0.67965\n",
      "[164]\tvalidation_0-aucpr:0.67963\n",
      "[165]\tvalidation_0-aucpr:0.67963\n",
      "[166]\tvalidation_0-aucpr:0.67963\n",
      "[167]\tvalidation_0-aucpr:0.67968\n",
      "[168]\tvalidation_0-aucpr:0.67975\n",
      "[169]\tvalidation_0-aucpr:0.67973\n",
      "[170]\tvalidation_0-aucpr:0.67971\n",
      "[171]\tvalidation_0-aucpr:0.67975\n",
      "[172]\tvalidation_0-aucpr:0.67978\n",
      "[173]\tvalidation_0-aucpr:0.67982\n",
      "[174]\tvalidation_0-aucpr:0.67982\n",
      "[175]\tvalidation_0-aucpr:0.67985\n",
      "[176]\tvalidation_0-aucpr:0.67986\n",
      "[177]\tvalidation_0-aucpr:0.67995\n",
      "[178]\tvalidation_0-aucpr:0.67994\n",
      "[179]\tvalidation_0-aucpr:0.67988\n",
      "[180]\tvalidation_0-aucpr:0.67993\n",
      "[181]\tvalidation_0-aucpr:0.67996\n",
      "[182]\tvalidation_0-aucpr:0.67994\n",
      "[183]\tvalidation_0-aucpr:0.67992\n",
      "[184]\tvalidation_0-aucpr:0.67989\n",
      "[185]\tvalidation_0-aucpr:0.67990\n",
      "[186]\tvalidation_0-aucpr:0.67985\n",
      "[187]\tvalidation_0-aucpr:0.67990\n",
      "[188]\tvalidation_0-aucpr:0.67994\n",
      "[189]\tvalidation_0-aucpr:0.68002\n",
      "[190]\tvalidation_0-aucpr:0.68005\n",
      "[191]\tvalidation_0-aucpr:0.68006\n",
      "[192]\tvalidation_0-aucpr:0.68014\n",
      "[193]\tvalidation_0-aucpr:0.68024\n",
      "[194]\tvalidation_0-aucpr:0.68021\n",
      "[195]\tvalidation_0-aucpr:0.68027\n",
      "[196]\tvalidation_0-aucpr:0.68027\n",
      "[197]\tvalidation_0-aucpr:0.68031\n",
      "[198]\tvalidation_0-aucpr:0.68034\n",
      "[199]\tvalidation_0-aucpr:0.68040\n",
      "[200]\tvalidation_0-aucpr:0.68047\n",
      "[201]\tvalidation_0-aucpr:0.68045\n",
      "[202]\tvalidation_0-aucpr:0.68052\n",
      "[203]\tvalidation_0-aucpr:0.68066\n",
      "[204]\tvalidation_0-aucpr:0.68071\n",
      "[205]\tvalidation_0-aucpr:0.68073\n",
      "[206]\tvalidation_0-aucpr:0.68073\n",
      "[207]\tvalidation_0-aucpr:0.68073\n",
      "[208]\tvalidation_0-aucpr:0.68076\n",
      "[209]\tvalidation_0-aucpr:0.68087\n",
      "[210]\tvalidation_0-aucpr:0.68081\n",
      "[211]\tvalidation_0-aucpr:0.68092\n",
      "[212]\tvalidation_0-aucpr:0.68087\n",
      "[213]\tvalidation_0-aucpr:0.68091\n",
      "[214]\tvalidation_0-aucpr:0.68093\n",
      "[215]\tvalidation_0-aucpr:0.68099\n",
      "[216]\tvalidation_0-aucpr:0.68100\n",
      "[217]\tvalidation_0-aucpr:0.68099\n",
      "[218]\tvalidation_0-aucpr:0.68109\n",
      "[219]\tvalidation_0-aucpr:0.68107\n",
      "[220]\tvalidation_0-aucpr:0.68104\n",
      "[221]\tvalidation_0-aucpr:0.68105\n",
      "[222]\tvalidation_0-aucpr:0.68110\n",
      "[223]\tvalidation_0-aucpr:0.68113\n",
      "[224]\tvalidation_0-aucpr:0.68110\n",
      "[225]\tvalidation_0-aucpr:0.68109\n",
      "[226]\tvalidation_0-aucpr:0.68118\n",
      "[227]\tvalidation_0-aucpr:0.68122\n",
      "[228]\tvalidation_0-aucpr:0.68117\n",
      "[229]\tvalidation_0-aucpr:0.68121\n",
      "[230]\tvalidation_0-aucpr:0.68121\n",
      "[231]\tvalidation_0-aucpr:0.68120\n",
      "[232]\tvalidation_0-aucpr:0.68118\n",
      "[233]\tvalidation_0-aucpr:0.68121\n",
      "[234]\tvalidation_0-aucpr:0.68114\n",
      "[235]\tvalidation_0-aucpr:0.68130\n",
      "[236]\tvalidation_0-aucpr:0.68126\n",
      "[237]\tvalidation_0-aucpr:0.68127\n",
      "[238]\tvalidation_0-aucpr:0.68127\n",
      "[239]\tvalidation_0-aucpr:0.68127\n",
      "[240]\tvalidation_0-aucpr:0.68128\n",
      "[241]\tvalidation_0-aucpr:0.68123\n",
      "[242]\tvalidation_0-aucpr:0.68126\n",
      "[243]\tvalidation_0-aucpr:0.68130\n",
      "[244]\tvalidation_0-aucpr:0.68140\n",
      "[245]\tvalidation_0-aucpr:0.68138\n",
      "[246]\tvalidation_0-aucpr:0.68141\n",
      "[247]\tvalidation_0-aucpr:0.68148\n",
      "[248]\tvalidation_0-aucpr:0.68157\n",
      "[249]\tvalidation_0-aucpr:0.68160\n",
      "[250]\tvalidation_0-aucpr:0.68161\n",
      "[251]\tvalidation_0-aucpr:0.68167\n",
      "[252]\tvalidation_0-aucpr:0.68165\n",
      "[253]\tvalidation_0-aucpr:0.68165\n",
      "[254]\tvalidation_0-aucpr:0.68169\n",
      "[255]\tvalidation_0-aucpr:0.68166\n",
      "[256]\tvalidation_0-aucpr:0.68164\n",
      "[257]\tvalidation_0-aucpr:0.68175\n",
      "[258]\tvalidation_0-aucpr:0.68174\n",
      "[259]\tvalidation_0-aucpr:0.68165\n",
      "[260]\tvalidation_0-aucpr:0.68172\n",
      "[261]\tvalidation_0-aucpr:0.68170\n",
      "[262]\tvalidation_0-aucpr:0.68181\n",
      "[263]\tvalidation_0-aucpr:0.68176\n",
      "[264]\tvalidation_0-aucpr:0.68180\n",
      "[265]\tvalidation_0-aucpr:0.68184\n",
      "[266]\tvalidation_0-aucpr:0.68180\n",
      "[267]\tvalidation_0-aucpr:0.68179\n",
      "[268]\tvalidation_0-aucpr:0.68169\n",
      "[269]\tvalidation_0-aucpr:0.68164\n",
      "[270]\tvalidation_0-aucpr:0.68164\n",
      "[271]\tvalidation_0-aucpr:0.68160\n",
      "[272]\tvalidation_0-aucpr:0.68159\n",
      "[273]\tvalidation_0-aucpr:0.68165\n",
      "[274]\tvalidation_0-aucpr:0.68167\n",
      "[275]\tvalidation_0-aucpr:0.68171\n",
      "[276]\tvalidation_0-aucpr:0.68164\n",
      "[277]\tvalidation_0-aucpr:0.68162\n",
      "[278]\tvalidation_0-aucpr:0.68171\n",
      "[279]\tvalidation_0-aucpr:0.68178\n",
      "[280]\tvalidation_0-aucpr:0.68174\n",
      "[281]\tvalidation_0-aucpr:0.68170\n",
      "[282]\tvalidation_0-aucpr:0.68166\n",
      "[283]\tvalidation_0-aucpr:0.68163\n",
      "[284]\tvalidation_0-aucpr:0.68168\n",
      "79.73 70.33\n",
      "\n",
      "CPU times: user 6h 3min 28s, sys: 1min 34s, total: 6h 5min 2s\n",
      "Wall time: 39min 30s\n"
     ]
    }
   ],
   "source": [
    "%%time\n",
    "\n",
    "model = xgb.XGBClassifier(**xgb_args)\n",
    "model.fit(\n",
    "    train_features, train_features_labels[\"is_laundering\"].values, \n",
    "    **xgb_fit_args\n",
    ")\n",
    "y_test_predicted = model.predict(test_features)\n",
    "f1_first = f1_score(test_features_labels[\"is_laundering\"], y_test_predicted) * 100\n",
    "print(\n",
    "    round(f1_first, 2),\n",
    "    round(recall_score(test_features_labels[\"is_laundering\"], y_test_predicted) * 100, 2)\n",
    ")\n",
    "print()"
   ]
  },
  {
   "cell_type": "code",
   "execution_count": null,
   "id": "ae812de3-f874-42fc-8bc2-b38c9a88267f",
   "metadata": {},
   "outputs": [],
   "source": [
    "%%time\n",
    "\n",
    "f1_scores = []\n",
    "xgb_fit_args[\"verbose\"] = False\n",
    "for seed in [0, 10, 20, 30, 40]:\n",
    "    xgb_args[\"seed\"] = seed\n",
    "    model = xgb.XGBClassifier(**xgb_args)\n",
    "    model.fit(train_features, train_features_labels[\"is_laundering\"].values, **xgb_fit_args)\n",
    "    y_test_predicted = model.predict(test_features)\n",
    "    f1_scores.append(f1_score(test_features_labels[\"is_laundering\"], y_test_predicted) * 100)\n",
    "    print(round(f1_scores[-1], 2), \"Seed\", seed)"
   ]
  },
  {
   "cell_type": "code",
   "execution_count": null,
   "id": "1652d559-c164-4c01-a550-5c0e25c4ef4c",
   "metadata": {},
   "outputs": [],
   "source": [
    "print(f\"{round(f1_first, 2)} ±{round(np.std(f1_scores), 2)}\")"
   ]
  }
 ],
 "metadata": {
  "kernelspec": {
   "display_name": "Python 3 (ipykernel)",
   "language": "python",
   "name": "python3"
  },
  "language_info": {
   "codemirror_mode": {
    "name": "ipython",
    "version": 3
   },
   "file_extension": ".py",
   "mimetype": "text/x-python",
   "name": "python",
   "nbconvert_exporter": "python",
   "pygments_lexer": "ipython3",
   "version": "3.11.8"
  }
 },
 "nbformat": 4,
 "nbformat_minor": 5
}
