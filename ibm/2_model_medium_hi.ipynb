{
 "cells": [
  {
   "cell_type": "markdown",
   "id": "ed8f1259-7f64-4919-93ab-93357d171d49",
   "metadata": {},
   "source": [
    "### https://arxiv.org/pdf/2402.08593"
   ]
  },
  {
   "cell_type": "code",
   "execution_count": 6,
   "id": "5102f290-c8e0-4064-86e8-a89a42e1628e",
   "metadata": {},
   "outputs": [
    {
     "name": "stdout",
     "output_type": "stream",
     "text": [
      "The autoreload extension is already loaded. To reload it, use:\n",
      "  %reload_ext autoreload\n"
     ]
    }
   ],
   "source": [
    "import json\n",
    "import random\n",
    "import os\n",
    "import pickle\n",
    "import time\n",
    "import shutil\n",
    "import sys\n",
    "import uuid\n",
    "from collections import defaultdict\n",
    "from datetime import timedelta\n",
    "from glob import glob\n",
    "from itertools import product\n",
    "from pyspark.sql import functions as sf\n",
    "from pyspark import SparkConf\n",
    "from pyspark.sql import SparkSession\n",
    "from pyspark.storagelevel import StorageLevel\n",
    "from sklearn.decomposition import PCA\n",
    "from sklearn.ensemble import IsolationForest\n",
    "from sklearn.metrics import roc_auc_score, roc_curve, f1_score, recall_score, RocCurveDisplay\n",
    "\n",
    "from sklearn.preprocessing import normalize\n",
    "\n",
    "import igraph as ig\n",
    "import leidenalg as la\n",
    "import numpy as np\n",
    "import pandas as pd\n",
    "import xgboost as xgb\n",
    "\n",
    "import settings as s\n",
    "\n",
    "assert s.FILE_SIZE == \"Medium\"\n",
    "assert s.HIGH_ILLICIT == True\n",
    "\n",
    "os.environ[\"EXT_DATA_TYPE_FOLDER\"] = s.OUTPUT_POSTFIX.lstrip(\"-\")\n",
    "\n",
    "from common import get_weights, delete_large_vars, MULTI_PROC_STAGING_LOCATION\n",
    "from communities import get_communities_spark\n",
    "from features import (\n",
    "    generate_features_spark, generate_features_udf_wrapper, get_edge_features_udf,\n",
    "    SCHEMA_FEAT_UDF, CURRENCY_RATES\n",
    ")\n",
    "\n",
    "%load_ext autoreload\n",
    "%autoreload 2"
   ]
  },
  {
   "cell_type": "code",
   "execution_count": 7,
   "id": "fdfc52ce-1f9d-49d2-81f7-366fcdab6f1d",
   "metadata": {},
   "outputs": [],
   "source": [
    "start_script = time.time()"
   ]
  },
  {
   "cell_type": "code",
   "execution_count": 8,
   "id": "e3cbd846-2921-4802-b8b8-38d64092cfdc",
   "metadata": {},
   "outputs": [],
   "source": [
    "if (\n",
    "    sys.version_info.major,\n",
    "    sys.version_info.minor,\n",
    "    sys.version_info.micro,\n",
    ") != (3, 11, 8):\n",
    "    raise EnvironmentError(\n",
    "        \"Only runs efficiently on Python 3.11.8 (Tested on: Conda 24.1.2 | Apple M3 Pro)\"\n",
    "    )"
   ]
  },
  {
   "cell_type": "code",
   "execution_count": 9,
   "id": "adb8939c-e2fc-4bfb-ae18-ef1eec4eafc3",
   "metadata": {},
   "outputs": [
    {
     "name": "stderr",
     "output_type": "stream",
     "text": [
      "WARNING: Using incubator modules: jdk.incubator.vector\n",
      "Using Spark's default log4j profile: org/apache/spark/log4j2-defaults.properties\n",
      "Setting default log level to \"WARN\".\n",
      "To adjust logging level use sc.setLogLevel(newLevel). For SparkR, use setLogLevel(newLevel).\n",
      "25/07/31 16:03:35 WARN NativeCodeLoader: Unable to load native-hadoop library for your platform... using builtin-java classes where applicable\n"
     ]
    }
   ],
   "source": [
    "SPARK_CONF = [\n",
    "    (\"spark.driver.memory\", \"32g\"),\n",
    "    (\"spark.worker.memory\", \"32g\"),\n",
    "    (\"spark.driver.maxResultSize\", \"32g\"),\n",
    "    (\"spark.driver.bindAddress\", \"127.0.0.1\"),\n",
    "    (\"spark.sql.execution.arrow.pyspark.enabled\", \"true\"),\n",
    "    (\"spark.network.timeout\", \"600s\"),\n",
    "    (\"spark.sql.autoBroadcastJoinThreshold\", -1)\n",
    "]\n",
    "\n",
    "shutil.rmtree(\"artifacts\", ignore_errors=True)\n",
    "spark = (\n",
    "    SparkSession.builder.appName(\"testing\")\n",
    "    .config(conf=SparkConf().setAll(SPARK_CONF))\n",
    "    .getOrCreate()\n",
    ")"
   ]
  },
  {
   "cell_type": "code",
   "execution_count": 10,
   "id": "320b1fa7-53c8-4dbb-b25f-795aaca78a54",
   "metadata": {},
   "outputs": [],
   "source": [
    "TRAIN_PERC = 0.6\n",
    "VALIDATION_PERC = 0.2\n",
    "TEST_PERC = 0.2\n",
    "\n",
    "KEEP_TOP_N = 100\n",
    "\n",
    "assert(sum([TRAIN_PERC, VALIDATION_PERC, TEST_PERC]) == 1)\n",
    "\n",
    "location_main = os.path.join(\"features\", os.environ[\"EXT_DATA_TYPE_FOLDER\"])\n",
    "# shutil.rmtree(location_main, ignore_errors=True)\n",
    "\n",
    "location_communities_leiden = f\"{location_main}{os.sep}communities_leiden.parquet\"\n",
    "\n",
    "location_features_leiden = f\"{location_main}{os.sep}features_leiden.parquet\"\n",
    "location_features_ego = f\"{location_main}{os.sep}features_ego.parquet\"\n",
    "location_features_2_hop = f\"{location_main}{os.sep}features_2_hop.parquet\"\n",
    "location_features_2_hop_out = f\"{location_main}{os.sep}features_2_hop_out.parquet\"\n",
    "location_features_2_hop_in = f\"{location_main}{os.sep}features_2_hop_in.parquet\"\n",
    "location_features_2_hop_combined = f\"{location_main}{os.sep}features_2_hop_combined.parquet\"\n",
    "location_features_source = f\"{location_main}{os.sep}features_source.parquet\"\n",
    "location_features_target = f\"{location_main}{os.sep}features_target.parquet\"\n",
    "\n",
    "location_flow_dispense = f\"{location_main}{os.sep}location_flow_dispense.parquet\"\n",
    "location_flow_passthrough = f\"{location_main}{os.sep}location_flow_passthrough.parquet\"\n",
    "location_flow_sink = f\"{location_main}{os.sep}location_flow_sink.parquet\"\n",
    "\n",
    "location_comm_as_source_features = f\"{location_main}{os.sep}comm_as_source_features.parquet\"\n",
    "location_comm_as_target_features = f\"{location_main}{os.sep}comm_as_target_features.parquet\"\n",
    "location_comm_as_passthrough_features = f\"{location_main}{os.sep}comm_as_passthrough_features.parquet\"\n",
    "location_comm_as_passthrough_features_reverse = f\"{location_main}{os.sep}comm_as_passthrough_features_reverse.parquet\"\n",
    "\n",
    "location_features_node_level = f\"{location_main}{os.sep}features_node_level.parquet\"\n",
    "location_features_edges = f\"{location_main}{os.sep}features_edges.parquet\"\n",
    "\n",
    "location_features_edges_train = f\"{location_main}{os.sep}features_edges_train.parquet\"\n",
    "location_features_edges_valid = f\"{location_main}{os.sep}features_edges_valid.parquet\"\n",
    "location_features_edges_test = f\"{location_main}{os.sep}features_edges_test.parquet\"\n",
    "\n",
    "location_train_trx_features = f\"{location_main}{os.sep}train_trx_features.parquet\"\n",
    "location_valid_trx_features = f\"{location_main}{os.sep}valid_trx_features.parquet\"\n",
    "location_test_trx_features = f\"{location_main}{os.sep}test_trx_features.parquet\"\n",
    "\n",
    "location_train_features = f\"{location_main}{os.sep}train_features.parquet\"\n",
    "location_valid_features = f\"{location_main}{os.sep}valid_features.parquet\"\n",
    "location_test_features = f\"{location_main}{os.sep}test_features.parquet\"\n",
    "\n",
    "try:\n",
    "    os.makedirs(location_main)\n",
    "except FileExistsError:\n",
    "    pass"
   ]
  },
  {
   "cell_type": "code",
   "execution_count": 11,
   "id": "82546745-6577-4e38-bf44-1a6114c3a398",
   "metadata": {},
   "outputs": [
    {
     "name": "stderr",
     "output_type": "stream",
     "text": [
      "                                                                                "
     ]
    }
   ],
   "source": [
    "data = spark.read.parquet(s.STAGED_DATA_LOCATION)\n",
    "data = data.withColumn(\"is_laundering\", sf.col(\"is_laundering\").cast(\"boolean\"))\n",
    "data_count_original = data.count()"
   ]
  },
  {
   "cell_type": "code",
   "execution_count": 7,
   "id": "57b5d7e4-1b66-4e93-b67b-a947d8c8e06e",
   "metadata": {},
   "outputs": [
    {
     "name": "stderr",
     "output_type": "stream",
     "text": [
      "25/07/31 14:03:45 WARN TaskSetManager: Stage 21 contains a task of very large size (17125 KiB). The maximum recommended task size is 1000 KiB.\n",
      "25/07/31 14:03:50 WARN TaskSetManager: Stage 23 contains a task of very large size (17125 KiB). The maximum recommended task size is 1000 KiB.\n",
      "25/07/31 14:03:56 WARN TaskSetManager: Stage 34 contains a task of very large size (17125 KiB). The maximum recommended task size is 1000 KiB.\n",
      "25/07/31 14:04:01 WARN TaskSetManager: Stage 36 contains a task of very large size (17125 KiB). The maximum recommended task size is 1000 KiB.\n",
      "[Stage 39:=====================================================>(199 + 1) / 200]"
     ]
    },
    {
     "name": "stdout",
     "output_type": "stream",
     "text": [
      "\n",
      "31867069 19120241 6373413 6373415\n",
      "\n",
      "CPU times: user 445 ms, sys: 173 ms, total: 618 ms\n",
      "Wall time: 2min 42s\n"
     ]
    },
    {
     "name": "stderr",
     "output_type": "stream",
     "text": [
      "                                                                                "
     ]
    }
   ],
   "source": [
    "%%time\n",
    "\n",
    "trx_ids_sorted = data.sort(\"timestamp\").select(\"transaction_id\").toPandas()[\"transaction_id\"].values\n",
    "trx_count = len(trx_ids_sorted)\n",
    "\n",
    "last_train_index = int(np.floor(trx_count * TRAIN_PERC))\n",
    "last_validation_index = last_train_index + int(np.floor(trx_count * VALIDATION_PERC))\n",
    "train_indexes = trx_ids_sorted[:last_train_index]\n",
    "validation_indexes = trx_ids_sorted[last_train_index:last_validation_index]\n",
    "test_indexes = trx_ids_sorted[last_validation_index:]\n",
    "\n",
    "train_indexes = spark.createDataFrame(\n",
    "    pd.DataFrame(train_indexes, columns=[\"transaction_id\"])\n",
    ").persist(StorageLevel.DISK_ONLY)\n",
    "validation_indexes = spark.createDataFrame(\n",
    "    pd.DataFrame(validation_indexes, columns=[\"transaction_id\"])\n",
    ").persist(StorageLevel.DISK_ONLY)\n",
    "test_indexes = spark.createDataFrame(\n",
    "    pd.DataFrame(test_indexes, columns=[\"transaction_id\"])\n",
    ").persist(StorageLevel.DISK_ONLY)\n",
    "\n",
    "train = train_indexes.join(\n",
    "    data, on=\"transaction_id\", how=\"left\"\n",
    ").persist(StorageLevel.DISK_ONLY)\n",
    "validation = validation_indexes.join(\n",
    "    data, on=\"transaction_id\", how=\"left\"\n",
    ").persist(StorageLevel.DISK_ONLY)\n",
    "test = test_indexes.join(\n",
    "    data, on=\"transaction_id\", how=\"left\"\n",
    ").persist(StorageLevel.DISK_ONLY)\n",
    "train_count, validation_count, test_count = train.count(), validation.count(), test.count()\n",
    "print()\n",
    "print(trx_count, train_count, validation_count, test_count)\n",
    "print()"
   ]
  },
  {
   "cell_type": "code",
   "execution_count": 8,
   "id": "d6cc277c-cf84-487e-bcbd-0784a304cc36",
   "metadata": {},
   "outputs": [
    {
     "name": "stderr",
     "output_type": "stream",
     "text": [
      "                                                                                "
     ]
    },
    {
     "name": "stdout",
     "output_type": "stream",
     "text": [
      "CPU times: user 34.2 s, sys: 920 ms, total: 35.1 s\n",
      "Wall time: 40.7 s\n"
     ]
    }
   ],
   "source": [
    "%%time\n",
    "\n",
    "edges = data.groupby([\"source\", \"target\"]).agg(\n",
    "    sf.sum(\"amount\").alias(\"amount\")\n",
    ").toPandas()\n",
    "weights = get_weights(edges)\n",
    "edges_agg = edges.set_index([\"source\", \"target\"]).join(\n",
    "    weights.set_index([\"source\", \"target\"]), how=\"left\"\n",
    ").reset_index()\n",
    "edges_agg.loc[:, \"amount_weighted\"] = (\n",
    "    edges_agg.loc[:, \"amount\"] * \n",
    "    (edges_agg.loc[:, \"weight\"] / edges_agg.loc[:, \"weight\"].max())\n",
    ")"
   ]
  },
  {
   "cell_type": "code",
   "execution_count": 9,
   "id": "199fa227-2ea8-4639-a5ce-fe198af819ea",
   "metadata": {},
   "outputs": [],
   "source": [
    "# Later on, we will reset the variables (to free up memory), while still keeping these intact\n",
    "to_keep = %who_ls\n",
    "to_keep = list(to_keep)"
   ]
  },
  {
   "cell_type": "code",
   "execution_count": 10,
   "id": "26195fe6-5b17-4525-bf16-83c63098e7b3",
   "metadata": {},
   "outputs": [
    {
     "name": "stderr",
     "output_type": "stream",
     "text": [
      "                                                                                "
     ]
    },
    {
     "name": "stdout",
     "output_type": "stream",
     "text": [
      "\n",
      "Processing comm_as_source\n",
      "\n",
      "Processed hop #1 | 2,842,770 | 1,333,420\n",
      "Processed hop #2 | 4,358,267 | 847,080\n",
      "Processed hop #3 | 6,468,686 | 661,588\n",
      "Processed hop #4 | 8,492,595 | 593,472\n",
      "Processed hop #5 | 10,225,029 | 556,876\n",
      "\n",
      "Processing comm_as_target\n",
      "\n",
      "Processed hop #1 | 2,967,961 | 1,169,331\n",
      "Processed hop #2 | 11,502,196 | 963,178\n",
      "Processed hop #3 | 15,539,582 | 919,379\n",
      "Processed hop #4 | 20,255,707 | 894,218\n",
      "Processed hop #5 | 23,799,812 | 882,995\n",
      "\n",
      "Processing comm_as_passthrough\n",
      "\n",
      "Processed hop #1 | 2,405,456 | 949,800\n",
      "Processed hop #2 | 3,599,750 | 608,779\n",
      "Processed hop #3 | 5,394,064 | 508,228\n",
      "Processed hop #4 | 6,981,617 | 456,019\n",
      "Processed hop #5 | 8,250,246 | 427,327\n",
      "\n",
      "Processing comm_as_passthrough_reverse\n",
      "\n",
      "Processed hop #1 | 2,811,504 | 1,108,680\n",
      "Processed hop #2 | 10,885,590 | 912,988\n",
      "Processed hop #3 | 14,752,721 | 870,883\n",
      "Processed hop #4 | 19,343,674 | 846,994\n",
      "Processed hop #5 | 22,862,561 | 836,186\n",
      "\n",
      "\n",
      "comm_as_source_features\n",
      "\n",
      "CPU times: user 1min 52s, sys: 886 ms, total: 1min 53s\n",
      "Wall time: 1min 53s\n",
      "\n",
      "comm_as_target_features\n",
      "\n",
      "CPU times: user 2min 21s, sys: 1.43 s, total: 2min 22s\n",
      "Wall time: 2min 22s\n",
      "\n",
      "comm_as_passthrough_features\n",
      "\n",
      "CPU times: user 1min 23s, sys: 537 ms, total: 1min 23s\n",
      "Wall time: 1min 23s\n",
      "\n",
      "comm_as_passthrough_features_reverse\n",
      "\n",
      "CPU times: user 2min 12s, sys: 1 s, total: 2min 13s\n",
      "Wall time: 2min 13s\n",
      "\n",
      "\n",
      "CPU times: user 17min 29s, sys: 24.4 s, total: 17min 53s\n",
      "Wall time: 17min 59s\n"
     ]
    }
   ],
   "source": [
    "%%time\n",
    "\n",
    "TOP_N = 50\n",
    "NUM_HOPS = 5\n",
    "\n",
    "data_input = spark.createDataFrame(edges_agg)\n",
    "nodes_source = set(edges_agg[\"source\"].unique())\n",
    "nodes_target = set(edges_agg[\"target\"].unique())\n",
    "nodes_passthrough = nodes_source.intersection(nodes_target)\n",
    "\n",
    "%run generate_flow_features.ipynb\n",
    "\n",
    "comm_as_source_features.to_parquet(location_comm_as_source_features)\n",
    "comm_as_target_features.to_parquet(location_comm_as_target_features)\n",
    "comm_as_passthrough_features.to_parquet(location_comm_as_passthrough_features)\n",
    "comm_as_passthrough_features_reverse.to_parquet(location_comm_as_passthrough_features_reverse)\n",
    "\n",
    "del comm_as_source_features\n",
    "del comm_as_target_features\n",
    "del comm_as_passthrough_features\n",
    "del comm_as_passthrough_features_reverse"
   ]
  },
  {
   "cell_type": "code",
   "execution_count": 11,
   "id": "986d0df2-1737-4f95-ad2b-a73c93bfd259",
   "metadata": {},
   "outputs": [
    {
     "name": "stdout",
     "output_type": "stream",
     "text": [
      "Constructing Leiden communities\n",
      "CPU times: user 51min 5s, sys: 28.6 s, total: 51min 34s\n",
      "Wall time: 51min 29s\n"
     ]
    }
   ],
   "source": [
    "%%time\n",
    "\n",
    "print(\"Constructing Leiden communities\")\n",
    "\n",
    "graph = ig.Graph.DataFrame(edges_agg.loc[:, [\"source\", \"target\", \"amount_weighted\"]], use_vids=False, directed=True)\n",
    "nodes_mapping = {x.index: x[\"name\"] for x in graph.vs()}\n",
    "communities_leiden = la.find_partition(\n",
    "    graph, la.ModularityVertexPartition, n_iterations=100, weights=\"amount_weighted\"\n",
    ")\n",
    "communities_leiden = [[nodes_mapping[_] for _ in x] for x in communities_leiden]\n",
    "communities_leiden = [(str(uuid.uuid4()), set(x)) for x in communities_leiden]\n",
    "sizes_leiden = [len(x[1]) for x in communities_leiden]\n",
    "\n",
    "with open(location_communities_leiden, \"wb\") as fl:\n",
    "    pickle.dump(communities_leiden, fl)"
   ]
  },
  {
   "cell_type": "code",
   "execution_count": 12,
   "id": "26e3f6b2-1caa-4e11-b6ef-65d19f8cc156",
   "metadata": {},
   "outputs": [],
   "source": [
    "# with open(location_communities_leiden, \"rb\") as fl:\n",
    "#     communities_leiden = pickle.load(fl)"
   ]
  },
  {
   "cell_type": "code",
   "execution_count": 13,
   "id": "0998de24-a007-40f3-9cad-0703940530c2",
   "metadata": {},
   "outputs": [
    {
     "name": "stderr",
     "output_type": "stream",
     "text": [
      "                                                                                "
     ]
    },
    {
     "name": "stdout",
     "output_type": "stream",
     "text": [
      "0 2070952\n",
      "250000 2070952\n",
      "500000 2070952\n",
      "750000 2070952\n",
      "1000000 2070952\n",
      "1250000 2070952\n",
      "1500000 2070952\n",
      "1750000 2070952\n",
      "2000000 2070952\n",
      "CPU times: user 1min 46s, sys: 1.41 s, total: 1min 47s\n",
      "Wall time: 1min 52s\n"
     ]
    }
   ],
   "source": [
    "%%time\n",
    "\n",
    "data_agg_weights = get_weights(\n",
    "    data.groupby([\"source\", \"target\"])\n",
    "    .agg(\n",
    "        sf.sum(\"amount\").alias(\"amount\")\n",
    "    ).toPandas()\n",
    ")\n",
    "\n",
    "data_agg_weights_rev = data_agg_weights.rename(\n",
    "    columns={\"target\": \"source\", \"source\": \"target\"}\n",
    ").loc[:, [\"source\", \"target\", \"weight\"]]\n",
    "data_agg_weights_ud = pd.concat([data_agg_weights, data_agg_weights_rev], ignore_index=True)\n",
    "data_agg_weights_ud = data_agg_weights_ud.groupby([\"source\", \"target\"]).agg(weight=(\"weight\", \"sum\")).reset_index()\n",
    "\n",
    "data_agg_weights_ud.sort_values(\"weight\", ascending=False, inplace=True)\n",
    "grouped_ud = data_agg_weights_ud.groupby(\"source\").head(KEEP_TOP_N).reset_index(drop=True)\n",
    "grouped_ud = grouped_ud.groupby(\"source\").agg(targets=(\"target\", set))\n",
    "\n",
    "total = grouped_ud.index.nunique()\n",
    "nodes_neighborhoods = {}\n",
    "for index, (source, targets) in enumerate(grouped_ud.iterrows()):\n",
    "    community_candidates = {source}\n",
    "    for target in targets[\"targets\"]:\n",
    "        community_candidates |= (grouped_ud.loc[target, \"targets\"] | {target})\n",
    "    nodes_neighborhoods[source] = set(community_candidates)\n",
    "    if not (index % 250_000):\n",
    "        print(index, total)\n",
    "\n",
    "del data_agg_weights_rev\n",
    "del data_agg_weights_ud\n",
    "del grouped_ud"
   ]
  },
  {
   "cell_type": "code",
   "execution_count": 14,
   "id": "9e37941e-b6c3-478c-bd54-a16572719410",
   "metadata": {},
   "outputs": [
    {
     "name": "stdout",
     "output_type": "stream",
     "text": [
      "Constructing 2-hop communities\n"
     ]
    },
    {
     "name": "stderr",
     "output_type": "stream",
     "text": [
      "                                                                                "
     ]
    },
    {
     "name": "stdout",
     "output_type": "stream",
     "text": [
      "CPU times: user 24.8 s, sys: 1.5 s, total: 26.3 s\n",
      "Wall time: 5min 48s\n"
     ]
    }
   ],
   "source": [
    "%%time\n",
    "\n",
    "print(\"Constructing 2-hop communities\")\n",
    "\n",
    "communities_2_hop = get_communities_spark(\n",
    "    nodes_neighborhoods,\n",
    "    ig.Graph.DataFrame(edges_agg.loc[:, [\"source\", \"target\", \"amount_weighted\"]], use_vids=False, directed=True), \n",
    "    os.cpu_count(), spark, 2, \"all\", 0.01, \"amount_weighted\"\n",
    ")\n",
    "sizes_2_hop = [len(x[1]) for x in communities_2_hop]"
   ]
  },
  {
   "cell_type": "code",
   "execution_count": 15,
   "id": "d03955cf-3674-4fa6-bc72-90939be394e8",
   "metadata": {},
   "outputs": [
    {
     "name": "stderr",
     "output_type": "stream",
     "text": [
      "                                                                                "
     ]
    },
    {
     "name": "stdout",
     "output_type": "stream",
     "text": [
      "4476472\n"
     ]
    },
    {
     "name": "stderr",
     "output_type": "stream",
     "text": [
      "                                                                                "
     ]
    },
    {
     "name": "stdout",
     "output_type": "stream",
     "text": [
      "CPU times: user 37.2 s, sys: 3.48 s, total: 40.7 s\n",
      "Wall time: 1min 23s\n"
     ]
    }
   ],
   "source": [
    "%%time\n",
    "\n",
    "ts_min = data.select(sf.min(\"timestamp\").alias(\"x\")).collect()[0][\"x\"] - timedelta(minutes=1)\n",
    "data_graph_agg = data.groupby([\"source\", \"target\", \"source_bank\", \"target_bank\", \"source_currency\"]).agg(\n",
    "    sf.count(\"source\").alias(\"num_transactions\"),\n",
    "    sf.sum(\"amount\").alias(\"amount\"),\n",
    "    sf.sum(\"source_amount\").alias(\"source_amount\"),\n",
    "    sf.collect_list(sf.array((sf.col(\"timestamp\") - ts_min).cast(\"long\"), sf.col(\"amount\"))).alias(\"timestamps_amounts\"),\n",
    ")\n",
    "data_graph_agg_sdf = data_graph_agg.persist(StorageLevel.DISK_ONLY)\n",
    "print(data_graph_agg_sdf.count())\n",
    "data_graph_agg = data_graph_agg_sdf.toPandas()\n",
    "index = [\"source\", \"target\"]\n",
    "edges_agg.loc[:, index + [\"weight\"]].set_index(index)\n",
    "data_graph_agg = data_graph_agg.set_index(index).join(\n",
    "    edges_agg.loc[:, index + [\"weight\"]].set_index(index), how=\"left\"\n",
    ").reset_index()\n",
    "data_graph_agg.loc[:, \"amount_weighted\"] = (\n",
    "    data_graph_agg.loc[:, \"amount\"] * \n",
    "    (data_graph_agg.loc[:, \"weight\"] / data_graph_agg.loc[:, \"weight\"].max())\n",
    ")"
   ]
  },
  {
   "cell_type": "code",
   "execution_count": 16,
   "id": "ea905a1c-23e7-4f88-b340-59867f2b4bf1",
   "metadata": {},
   "outputs": [],
   "source": [
    "graph = ig.Graph.DataFrame(data_graph_agg, use_vids=False, directed=True)"
   ]
  },
  {
   "cell_type": "code",
   "execution_count": 17,
   "id": "74dce0c8-f8e0-446d-9bfe-e456911434f2",
   "metadata": {},
   "outputs": [
    {
     "name": "stdout",
     "output_type": "stream",
     "text": [
      "Leiden communitites features creation\n"
     ]
    },
    {
     "name": "stderr",
     "output_type": "stream",
     "text": [
      "                                                                                "
     ]
    },
    {
     "name": "stdout",
     "output_type": "stream",
     "text": [
      "CPU times: user 4min 20s, sys: 23.7 s, total: 4min 44s\n",
      "Wall time: 11min 52s\n"
     ]
    }
   ],
   "source": [
    "%%time\n",
    "\n",
    "print(\"Leiden communitites features creation\")\n",
    "\n",
    "features_leiden = generate_features_spark(communities_leiden, graph, spark)\n",
    "features_leiden = features_leiden.rename(columns={\"key\": \"key_fake\"})\n",
    "communities_leiden_dict = dict(communities_leiden)\n",
    "features_leiden.loc[:, \"key\"] = features_leiden.loc[:, \"key_fake\"].apply(lambda x: communities_leiden_dict[x])\n",
    "features_leiden = features_leiden.explode(\"key\")\n",
    "del features_leiden[\"key_fake\"]\n",
    "features_leiden.set_index(\"key\").to_parquet(location_features_leiden)"
   ]
  },
  {
   "cell_type": "code",
   "execution_count": 18,
   "id": "66b1390f-e28d-4def-ae4a-f57766bcf83e",
   "metadata": {},
   "outputs": [
    {
     "name": "stdout",
     "output_type": "stream",
     "text": [
      "2-hop communitites features creation\n"
     ]
    },
    {
     "name": "stderr",
     "output_type": "stream",
     "text": [
      "                                                                                "
     ]
    },
    {
     "name": "stdout",
     "output_type": "stream",
     "text": [
      "CPU times: user 23min 49s, sys: 16min 6s, total: 39min 56s\n",
      "Wall time: 1h 10min 43s\n"
     ]
    }
   ],
   "source": [
    "%%time\n",
    "\n",
    "print(\"2-hop communitites features creation\")\n",
    "\n",
    "features_2_hop = generate_features_spark(communities_2_hop, graph, spark)\n",
    "features_2_hop.set_index(\"key\").to_parquet(location_features_2_hop)"
   ]
  },
  {
   "cell_type": "code",
   "execution_count": 19,
   "id": "d51ba7de-7131-43c7-990e-03a97f4318a2",
   "metadata": {},
   "outputs": [],
   "source": [
    "del graph"
   ]
  },
  {
   "cell_type": "code",
   "execution_count": 20,
   "id": "a4c4b527-dab6-4dee-9e19-64c9a74dc15c",
   "metadata": {},
   "outputs": [
    {
     "name": "stdout",
     "output_type": "stream",
     "text": [
      "Temporal flows features creation\n"
     ]
    },
    {
     "name": "stderr",
     "output_type": "stream",
     "text": [
      "                                                                                "
     ]
    },
    {
     "name": "stdout",
     "output_type": "stream",
     "text": [
      "31827307 28952152\n",
      "dispense\n"
     ]
    },
    {
     "name": "stderr",
     "output_type": "stream",
     "text": [
      "                                                                                "
     ]
    },
    {
     "name": "stdout",
     "output_type": "stream",
     "text": [
      "passthrough\n"
     ]
    },
    {
     "name": "stderr",
     "output_type": "stream",
     "text": [
      "                                                                                "
     ]
    },
    {
     "name": "stdout",
     "output_type": "stream",
     "text": [
      "sink\n"
     ]
    },
    {
     "name": "stderr",
     "output_type": "stream",
     "text": [
      "                                                                                "
     ]
    },
    {
     "name": "stdout",
     "output_type": "stream",
     "text": [
      "CPU times: user 14.2 s, sys: 2.58 s, total: 16.7 s\n",
      "Wall time: 9min 12s\n"
     ]
    }
   ],
   "source": [
    "%%time\n",
    "\n",
    "print(\"Temporal flows features creation\")\n",
    "\n",
    "edges_totals = data.select(\"source\", \"target\", \"amount\").groupby(\n",
    "    [\"source\", \"target\"]\n",
    ").agg(sf.count(\"amount\").alias(\"amount\")).toPandas()\n",
    "edges_totals = edges_totals.sort_values(\"amount\", ascending=False).reset_index(drop=True)\n",
    "left_edges = spark.createDataFrame(edges_totals.groupby(\"target\").head(TOP_N).loc[:, [\"source\", \"target\"]])\n",
    "right_edges = spark.createDataFrame(edges_totals.groupby(\"source\").head(TOP_N).loc[:, [\"source\", \"target\"]])\n",
    "\n",
    "columns = [\"source\", \"target\", \"timestamp\", \"amount\"]\n",
    "\n",
    "left = left_edges.select(sf.col(\"source\").alias(\"src\"), sf.col(\"target\").alias(\"tgt\")).join(\n",
    "    data.select(*columns),\n",
    "    on=(sf.col(\"src\") == sf.col(\"source\")) & (sf.col(\"tgt\") == sf.col(\"target\")),\n",
    "    how=\"left\"\n",
    ").drop(\"src\", \"tgt\").persist(StorageLevel.DISK_ONLY)\n",
    "select = []\n",
    "for column in left.columns:\n",
    "    select.append(sf.col(column).alias(f\"left_{column}\"))\n",
    "left = left.select(*select)\n",
    "right = right_edges.select(sf.col(\"source\").alias(\"src\"), sf.col(\"target\").alias(\"tgt\")).join(\n",
    "    data.select(*columns),\n",
    "    on=(sf.col(\"src\") == sf.col(\"source\")) & (sf.col(\"tgt\") == sf.col(\"target\")),\n",
    "    how=\"left\"\n",
    ").drop(\"src\", \"tgt\").persist(StorageLevel.DISK_ONLY)\n",
    "\n",
    "print(left.count(), right.count())\n",
    "\n",
    "flows_temporal = left.join(\n",
    "    right,\n",
    "    (left[\"left_target\"] == right[\"source\"]) &\n",
    "    (left[\"left_timestamp\"] <= right[\"timestamp\"]),\n",
    "    how=\"inner\"\n",
    ").groupby([\"left_source\", \"left_target\", \"source\", \"target\"]).agg(\n",
    "    sf.sum(\"left_amount\").alias(\"left_amount\"),\n",
    "    sf.sum(\"amount\").alias(\"amount\"),\n",
    ").drop(\"left_target\").select(\n",
    "    sf.col(\"left_source\").alias(\"dispense\"),\n",
    "    sf.col(\"source\").alias(\"passthrough\"),\n",
    "    sf.col(\"target\").alias(\"sink\"),\n",
    "    sf.least(\"left_amount\", \"amount\").alias(\"amount\"),\n",
    ")\n",
    "\n",
    "aggregate = [\n",
    "    sf.sum(\"amount\").alias(\"amount_sum\"),\n",
    "    sf.mean(\"amount\").alias(\"amount_mean\"),\n",
    "    sf.median(\"amount\").alias(\"amount_median\"),\n",
    "    sf.max(\"amount\").alias(\"amount_max\"),\n",
    "    sf.stddev(\"amount\").alias(\"amount_std\"),\n",
    "    sf.countDistinct(\"dispense\").alias(\"dispense_count\"),\n",
    "    sf.countDistinct(\"passthrough\").alias(\"passthrough_count\"),\n",
    "    sf.countDistinct(\"sink\").alias(\"sink_count\"),\n",
    "]\n",
    "for flow_location, flow_type in [\n",
    "    (location_flow_dispense, \"dispense\"), (location_flow_passthrough, \"passthrough\"), (location_flow_sink, \"sink\")\n",
    "]:\n",
    "    print(flow_type)\n",
    "    flows_temporal_stats = flows_temporal.groupby(flow_type).agg(*aggregate).toPandas()\n",
    "    flows_temporal_cyclic_stats = flows_temporal.where(\n",
    "        (sf.col(\"dispense\") == sf.col(\"sink\"))\n",
    "    ).groupby(flow_type).agg(*aggregate).toPandas()\n",
    "    flows_temporal_stats = flows_temporal_stats.set_index(flow_type).join(\n",
    "        flows_temporal_cyclic_stats.set_index(flow_type),\n",
    "        how=\"left\", rsuffix=\"_cycle\"\n",
    "    )\n",
    "    flows_temporal_stats.index.name = \"key\"\n",
    "    flows_temporal_stats.to_parquet(flow_location)\n",
    "    del flows_temporal_stats\n",
    "    del flows_temporal_cyclic_stats\n",
    "\n",
    "left.unpersist()\n",
    "right.unpersist()\n",
    "\n",
    "del edges_totals\n",
    "del left_edges\n",
    "del right_edges"
   ]
  },
  {
   "cell_type": "code",
   "execution_count": 21,
   "id": "6839964f-cb70-4f50-97be-96b0acdd8355",
   "metadata": {},
   "outputs": [
    {
     "name": "stdout",
     "output_type": "stream",
     "text": [
      "1-hop-source features creation\n"
     ]
    },
    {
     "name": "stderr",
     "output_type": "stream",
     "text": [
      "25/07/31 03:20:02 WARN TaskSetManager: Stage 285 contains a task of very large size (2896 KiB). The maximum recommended task size is 1000 KiB.\n",
      "                                                                                "
     ]
    },
    {
     "name": "stdout",
     "output_type": "stream",
     "text": [
      "CPU times: user 1min 43s, sys: 12.7 s, total: 1min 56s\n",
      "Wall time: 25min 3s\n"
     ]
    }
   ],
   "source": [
    "%%time\n",
    "\n",
    "print(\"1-hop-source features creation\")\n",
    "\n",
    "features_source = spark.createDataFrame(data_graph_agg).withColumn(\n",
    "    \"key\", sf.col(\"source\")\n",
    ").repartition(os.cpu_count() * 5, \"key\").groupby(\"key\").applyInPandas(\n",
    "    generate_features_udf_wrapper(False), schema=SCHEMA_FEAT_UDF\n",
    ").toPandas()\n",
    "features_source = pd.DataFrame(features_source[\"features\"].apply(json.loads).tolist())\n",
    "features_source.columns = [f\"{s.G_1HOP_PREFIX}{x}\" if x != \"key\" else x for x in features_source.columns]\n",
    "features_source.set_index(\"key\").to_parquet(location_features_source)"
   ]
  },
  {
   "cell_type": "code",
   "execution_count": 22,
   "id": "eb81ceb5-dcdd-4c9e-bb47-1429de489490",
   "metadata": {},
   "outputs": [
    {
     "name": "stdout",
     "output_type": "stream",
     "text": [
      "1-hop-target features creation\n"
     ]
    },
    {
     "name": "stderr",
     "output_type": "stream",
     "text": [
      "25/07/31 03:44:58 WARN TaskSetManager: Stage 288 contains a task of very large size (2896 KiB). The maximum recommended task size is 1000 KiB.\n",
      "                                                                                "
     ]
    },
    {
     "name": "stdout",
     "output_type": "stream",
     "text": [
      "CPU times: user 1min 41s, sys: 8.72 s, total: 1min 50s\n",
      "Wall time: 20min 27s\n"
     ]
    }
   ],
   "source": [
    "%%time\n",
    "\n",
    "print(\"1-hop-target features creation\")\n",
    "\n",
    "features_target = spark.createDataFrame(data_graph_agg).withColumn(\n",
    "    \"key\", sf.col(\"target\")\n",
    ").repartition(os.cpu_count() * 5, \"key\").groupby(\"key\").applyInPandas(\n",
    "    generate_features_udf_wrapper(False), schema=SCHEMA_FEAT_UDF\n",
    ").toPandas()\n",
    "features_target = pd.DataFrame(features_target[\"features\"].apply(json.loads).tolist())\n",
    "features_target.columns = [f\"{s.G_1HOP_PREFIX}{x}\" if x != \"key\" else x for x in features_target.columns]\n",
    "features_target.set_index(\"key\").to_parquet(location_features_target)"
   ]
  },
  {
   "cell_type": "code",
   "execution_count": 23,
   "id": "f335ce88-2ddb-4a5e-82ef-1f2295494bcd",
   "metadata": {},
   "outputs": [],
   "source": [
    "del data_graph_agg"
   ]
  },
  {
   "cell_type": "code",
   "execution_count": 24,
   "id": "d5be6ab9-3a2f-4d27-ad4b-3be73d99f71e",
   "metadata": {},
   "outputs": [],
   "source": [
    "ENABLED_FEATURES = [\n",
    "    (\"leiden\", location_features_leiden),\n",
    "    (\"2_hop\", location_features_2_hop),\n",
    "    (\"as_source\", location_features_source),\n",
    "    (\"as_target\", location_features_target),\n",
    "    (\"comm_as_source_features\", location_comm_as_source_features),\n",
    "    (\"comm_as_target_features\", location_comm_as_target_features),\n",
    "    (\"comm_as_passthrough_features\", location_comm_as_passthrough_features),\n",
    "    (\"comm_as_passthrough_features_reverse\", location_comm_as_passthrough_features_reverse),\n",
    "    (\"flow_dispense\", location_flow_dispense),\n",
    "    (\"flow_passthrough\", location_flow_passthrough),\n",
    "    (\"flow_sink\", location_flow_sink),   \n",
    "]"
   ]
  },
  {
   "cell_type": "code",
   "execution_count": 25,
   "id": "74b28c47-b23c-44e2-b53e-a80b07eb971f",
   "metadata": {},
   "outputs": [
    {
     "name": "stdout",
     "output_type": "stream",
     "text": [
      "Features: (2070952, 344)\n"
     ]
    }
   ],
   "source": [
    "all_features = pd.DataFrame()\n",
    "all_features.index.name = \"key\"\n",
    "\n",
    "for feature_group, location in ENABLED_FEATURES:\n",
    "    all_features = all_features.join(\n",
    "        pd.read_parquet(location), how=\"outer\", rsuffix=f\"_{feature_group}\"\n",
    "    )\n",
    "\n",
    "all_features.to_parquet(location_features_node_level)\n",
    "print(\"Features:\", all_features.shape)\n",
    "del all_features"
   ]
  },
  {
   "cell_type": "code",
   "execution_count": 29,
   "id": "85f3470e-c691-4aa7-b273-b4b0041f1dbf",
   "metadata": {},
   "outputs": [],
   "source": [
    "all_features = pd.read_parquet(location_features_node_level)"
   ]
  },
  {
   "cell_type": "code",
   "execution_count": 31,
   "id": "0daa9036-9054-4885-a8de-2f5b720bdf6a",
   "metadata": {},
   "outputs": [
    {
     "data": {
      "text/plain": [
       "(2070952, 344)"
      ]
     },
     "execution_count": 31,
     "metadata": {},
     "output_type": "execute_result"
    }
   ],
   "source": [
    "all_features.shape"
   ]
  },
  {
   "cell_type": "code",
   "execution_count": 32,
   "id": "09a76fe3-abb0-44b4-ac8a-b3b60eb55f1c",
   "metadata": {},
   "outputs": [
    {
     "name": "stdout",
     "output_type": "stream",
     "text": [
      "Deleted 14 constant columns\n"
     ]
    }
   ],
   "source": [
    "constants = []\n",
    "for column in all_features.columns:\n",
    "    if all_features[column].nunique(dropna=True) <= 1:\n",
    "        del all_features[column]\n",
    "        constants.append(column)\n",
    "print(f\"Deleted {len(constants)} constant columns\")"
   ]
  },
  {
   "cell_type": "code",
   "execution_count": 33,
   "id": "1963559f-3817-41f4-8ea8-2869faf99e8b",
   "metadata": {},
   "outputs": [],
   "source": [
    "medians = {}\n",
    "for column in all_features.columns:\n",
    "    medians[column] = np.nanmedian(all_features[column])"
   ]
  },
  {
   "cell_type": "code",
   "execution_count": 34,
   "id": "322714b7-7063-4485-81b1-6d541d25bb30",
   "metadata": {},
   "outputs": [
    {
     "name": "stdout",
     "output_type": "stream",
     "text": [
      "Script executed in 0:29:29\n"
     ]
    }
   ],
   "source": [
    "delta = round(time.time() - start_script)\n",
    "print(f\"Script executed in {timedelta(seconds=delta)}\")"
   ]
  },
  {
   "cell_type": "code",
   "execution_count": 35,
   "id": "b6da3dca-7750-4520-9c78-4fa51c674804",
   "metadata": {},
   "outputs": [
    {
     "name": "stdout",
     "output_type": "stream",
     "text": [
      "Training the anomaly detection model\n",
      "CPU times: user 7.25 s, sys: 8.09 s, total: 15.3 s\n",
      "Wall time: 18.1 s\n"
     ]
    }
   ],
   "source": [
    "%%time\n",
    "\n",
    "print(\"Training the anomaly detection model\")\n",
    "\n",
    "anomalies = all_features.loc[:, []]\n",
    "model_ad = IsolationForest(n_estimators=10_000)\n",
    "anomalies.loc[:, \"anomaly_score\"] = -model_ad.fit(\n",
    "    all_features.fillna(medians)\n",
    ").decision_function(all_features.fillna(medians))\n",
    "anomalies.loc[:, \"anomaly_score\"] += abs(anomalies.loc[:, \"anomaly_score\"].min()) + 1e-10\n",
    "anomalies.loc[:, \"anomaly_score\"] /= anomalies.loc[:, \"anomaly_score\"].max()"
   ]
  },
  {
   "cell_type": "code",
   "execution_count": 32,
   "id": "11bc54f1-c238-43fa-9b1b-b5394cd55af4",
   "metadata": {},
   "outputs": [
    {
     "name": "stdout",
     "output_type": "stream",
     "text": [
      "50 99.99\n"
     ]
    }
   ],
   "source": [
    "n_components = 50\n",
    "pca = PCA(n_components=n_components)\n",
    "all_features_dim_reduced = pd.DataFrame(\n",
    "    pca.fit_transform(normalize(all_features.fillna(medians), norm=\"l1\", axis=1)),\n",
    "    index=all_features.index\n",
    ")\n",
    "explained_variance_ratio = round(sum(pca.explained_variance_ratio_) * 100, 2)\n",
    "assert explained_variance_ratio > 99\n",
    "print(n_components, explained_variance_ratio)\n",
    "all_features_dim_reduced.columns = [\n",
    "    f\"pca_{x + 1}\" for x in all_features_dim_reduced.columns\n",
    "]\n",
    "all_features_dim_reduced = all_features_dim_reduced.astype(np.float32)"
   ]
  },
  {
   "cell_type": "code",
   "execution_count": 33,
   "id": "e30b7013-254c-4f97-9894-71af0b6c4587",
   "metadata": {},
   "outputs": [
    {
     "name": "stdout",
     "output_type": "stream",
     "text": [
      "Generating edge features\n"
     ]
    },
    {
     "name": "stderr",
     "output_type": "stream",
     "text": [
      "                                                                                "
     ]
    },
    {
     "name": "stdout",
     "output_type": "stream",
     "text": [
      "CPU times: user 15 s, sys: 2.83 s, total: 17.9 s\n",
      "Wall time: 12min 9s\n"
     ]
    }
   ],
   "source": [
    "%%time\n",
    "\n",
    "print(f\"Generating edge features\")\n",
    "\n",
    "to_select = [\"source\", \"target\", \"format\", \"source_currency\", \"source_amount\", \"amount\", \"timestamp\"]\n",
    "\n",
    "edges_features_input = data.select(to_select).groupby(\n",
    "    [\"source\", \"target\", \"format\", \"source_currency\"]\n",
    ").agg(\n",
    "    sf.sum(\"source_amount\").alias(\"source_amount\"), \n",
    "    sf.sum(\"amount\").alias(\"amount\"),\n",
    "    sf.unix_timestamp(sf.min(\"timestamp\")).alias(\"min_ts\"),\n",
    "    sf.unix_timestamp(sf.max(\"timestamp\")).alias(\"max_ts\"),\n",
    ").repartition(os.cpu_count() * 2, \"source\", \"target\").persist(StorageLevel.DISK_ONLY)\n",
    "_ = edges_features_input.count()\n",
    "\n",
    "edge_features = edges_features_input.groupby([\"source\", \"target\"]).applyInPandas(\n",
    "    get_edge_features_udf, schema=SCHEMA_FEAT_UDF\n",
    ").toPandas()\n",
    "edge_features = pd.DataFrame(edge_features[\"features\"].apply(json.loads).tolist())\n",
    "\n",
    "edge_features.to_parquet(location_features_edges)\n",
    "del edge_features"
   ]
  },
  {
   "cell_type": "code",
   "execution_count": 8,
   "id": "3b80a20e-5859-4af4-93b5-09c47c2e3516",
   "metadata": {},
   "outputs": [],
   "source": [
    "edge_features = pd.read_parquet(location_features_edges)"
   ]
  },
  {
   "cell_type": "code",
   "execution_count": 27,
   "id": "de5e1408-4d7a-4547-baaa-0cac6952106f",
   "metadata": {},
   "outputs": [
    {
     "name": "stderr",
     "output_type": "stream",
     "text": [
      "                                                                                "
     ]
    },
    {
     "name": "stdout",
     "output_type": "stream",
     "text": [
      "CPU times: user 22.2 s, sys: 2.03 s, total: 24.2 s\n",
      "Wall time: 1min 16s\n"
     ]
    }
   ],
   "source": [
    "%%time\n",
    "\n",
    "train_edges = train.select(\"source\", \"target\").drop_duplicates().toPandas().set_index(\n",
    "    [\"source\", \"target\"]\n",
    ")\n",
    "valid_edges = validation.select(\"source\", \"target\").drop_duplicates().toPandas().set_index(\n",
    "    [\"source\", \"target\"]\n",
    ")\n",
    "test_edges = test.select(\"source\", \"target\").drop_duplicates().toPandas().set_index(\n",
    "    [\"source\", \"target\"]\n",
    ")\n",
    "\n",
    "train_features = train_edges.join(\n",
    "    edge_features.set_index([\"source\", \"target\"]), how=\"left\"\n",
    ").reset_index()\n",
    "validation_features = valid_edges.join(\n",
    "    edge_features.set_index([\"source\", \"target\"]), how=\"left\"\n",
    ").reset_index()\n",
    "test_features = test_edges.join(\n",
    "    edge_features.set_index([\"source\", \"target\"]), how=\"left\"\n",
    ").reset_index()"
   ]
  },
  {
   "cell_type": "code",
   "execution_count": 92,
   "id": "61592ada-80ed-47ae-951a-3c44d18c38fd",
   "metadata": {},
   "outputs": [],
   "source": [
    "all_features_spark = spark.createDataFrame(all_features.reset_index())\n",
    "for col in all_features_spark.columns:\n",
    "    all_features_spark = all_features_spark.withColumnRenamed(col, f\"node_{col}\")"
   ]
  },
  {
   "cell_type": "code",
   "execution_count": 115,
   "id": "ce68e646-67f2-4158-ba72-528c94207d54",
   "metadata": {},
   "outputs": [],
   "source": [
    "def save_edge_features(features_in, location):\n",
    "    initial_node_features = list(all_features_spark.columns)\n",
    "\n",
    "    features_in = features_in.rename(\n",
    "        columns={x: f\"edge_{x}\" for x in features_in.columns}\n",
    "    )\n",
    "    features_in = features_in.set_index(\"edge_target\").join(\n",
    "        anomalies, how=\"left\"\n",
    "    ).reset_index().set_index(\"edge_source\").join(\n",
    "        anomalies, how=\"left\", rsuffix=\"_source\"\n",
    "    ).reset_index()\n",
    "    \n",
    "    features_in = spark.createDataFrame(features_in)\n",
    "    features_in = features_in.withColumnRenamed(\"anomaly_score\", \"anomaly_score_target\")\n",
    "    \n",
    "    features_in = features_in.join(\n",
    "        all_features_spark,\n",
    "        features_in[\"edge_source\"] == all_features_spark[\"node_key\"],\n",
    "        how=\"left\"\n",
    "    )\n",
    "\n",
    "    all_features_spark_target = all_features_spark.select(*initial_node_features)\n",
    "    for col in all_features_spark_target.columns:\n",
    "        all_features_spark_target = all_features_spark_target.withColumnRenamed(col, f\"{col}_target\")\n",
    "\n",
    "    features_in = features_in.join(\n",
    "        all_features_spark_target,\n",
    "        features_in[\"edge_target\"] == all_features_spark_target[\"node_key_target\"],\n",
    "        how=\"left\"\n",
    "    )\n",
    "\n",
    "    features_in = features_in.withColumnRenamed(\"edge_source\", \"source\")\n",
    "    features_in = features_in.withColumnRenamed(\"edge_target\", \"target\").drop(\"node_key\", \"node_key_target\")\n",
    "\n",
    "    features_in = features_in.withColumn(\n",
    "        \"anom_scores_diff\", sf.col(\"anomaly_score_source\") - sf.col(\"anomaly_score_target\")\n",
    "    )\n",
    "    features_in = features_in.withColumn(\n",
    "        \"anom_scores_min\", sf.least(sf.col(\"anomaly_score_source\"), sf.col(\"anomaly_score_target\"))\n",
    "    )\n",
    "    features_in = features_in.withColumn(\n",
    "        \"anom_scores_max\", sf.greatest(sf.col(\"anomaly_score_source\"), sf.col(\"anomaly_score_target\"))\n",
    "    )\n",
    "    features_in = features_in.withColumn(\n",
    "        \"anom_scores_mean\", (sf.col(\"anomaly_score_source\") + sf.col(\"anomaly_score_target\")) / 2\n",
    "    )\n",
    "    features_in.write.parquet(location, mode=\"overwrite\")"
   ]
  },
  {
   "cell_type": "code",
   "execution_count": 117,
   "id": "5af6d41c-660c-4bc2-87a8-73660fe48a87",
   "metadata": {},
   "outputs": [
    {
     "name": "stderr",
     "output_type": "stream",
     "text": [
      "25/07/31 15:28:35 WARN TaskSetManager: Stage 106 contains a task of very large size (26215 KiB). The maximum recommended task size is 1000 KiB.\n",
      "25/07/31 15:28:52 WARN TaskSetManager: Stage 107 contains a task of very large size (2303 KiB). The maximum recommended task size is 1000 KiB.\n",
      "[Stage 114:====================================================>(104 + 1) / 105]"
     ]
    },
    {
     "name": "stdout",
     "output_type": "stream",
     "text": [
      "CPU times: user 7 s, sys: 1.63 s, total: 8.62 s\n",
      "Wall time: 2min 32s\n"
     ]
    },
    {
     "name": "stderr",
     "output_type": "stream",
     "text": [
      "                                                                                "
     ]
    }
   ],
   "source": [
    "%%time\n",
    "\n",
    "save_edge_features(train_features, location_features_edges_train)"
   ]
  },
  {
   "cell_type": "code",
   "execution_count": 116,
   "id": "7adbd114-df75-4bca-b697-7fcd08ae36c5",
   "metadata": {},
   "outputs": [
    {
     "name": "stderr",
     "output_type": "stream",
     "text": [
      "25/07/31 15:26:53 WARN TaskSetManager: Stage 97 contains a task of very large size (26215 KiB). The maximum recommended task size is 1000 KiB.\n",
      "25/07/31 15:27:08 WARN TaskSetManager: Stage 98 contains a task of very large size (2303 KiB). The maximum recommended task size is 1000 KiB.\n",
      "                                                                                "
     ]
    }
   ],
   "source": [
    "%%time\n",
    "\n",
    "save_edge_features(validation_features, location_features_edges_valid)"
   ]
  },
  {
   "cell_type": "code",
   "execution_count": 118,
   "id": "40d4fed8-cc76-44e0-809a-5d6ae82539c2",
   "metadata": {},
   "outputs": [
    {
     "name": "stderr",
     "output_type": "stream",
     "text": [
      "25/07/31 15:31:11 WARN TaskSetManager: Stage 115 contains a task of very large size (26215 KiB). The maximum recommended task size is 1000 KiB.\n",
      "25/07/31 15:31:27 WARN TaskSetManager: Stage 116 contains a task of very large size (2303 KiB). The maximum recommended task size is 1000 KiB.\n",
      "[Stage 123:==================================================>    (61 + 6) / 67]"
     ]
    },
    {
     "name": "stdout",
     "output_type": "stream",
     "text": [
      "CPU times: user 3.12 s, sys: 826 ms, total: 3.95 s\n",
      "Wall time: 1min 31s\n"
     ]
    },
    {
     "name": "stderr",
     "output_type": "stream",
     "text": [
      "                                                                                "
     ]
    }
   ],
   "source": [
    "%%time\n",
    "\n",
    "save_edge_features(test_features, location_features_edges_test)"
   ]
  },
  {
   "cell_type": "code",
   "execution_count": 40,
   "id": "6f4364bc-eb49-4d03-b85b-8ff293a88fe2",
   "metadata": {},
   "outputs": [],
   "source": [
    "def save_trx_features(data_in, location):\n",
    "    columns = [\"source\", \"target\", \"source_currency\", \"target_currency\", \"format\", \"amount\", \"is_laundering\"]\n",
    "    \n",
    "    trx_features = data_in.select(*columns).toPandas()\n",
    "    trx_features.loc[:, \"inter_currency\"] = trx_features[\"source_currency\"] != trx_features[\"target_currency\"]\n",
    "\n",
    "    trx_features.to_parquet(location)\n",
    "    del trx_features"
   ]
  },
  {
   "cell_type": "code",
   "execution_count": 41,
   "id": "c783f612-4c76-4ea5-aed2-68eeaec1191d",
   "metadata": {},
   "outputs": [
    {
     "name": "stderr",
     "output_type": "stream",
     "text": [
      "                                                                                "
     ]
    },
    {
     "name": "stdout",
     "output_type": "stream",
     "text": [
      "CPU times: user 15 s, sys: 1.78 s, total: 16.8 s\n",
      "Wall time: 22.2 s\n"
     ]
    }
   ],
   "source": [
    "%%time\n",
    "\n",
    "save_trx_features(train, location_train_trx_features)\n",
    "save_trx_features(validation, location_valid_trx_features)\n",
    "save_trx_features(test, location_test_trx_features)"
   ]
  },
  {
   "cell_type": "code",
   "execution_count": 42,
   "id": "8e6eaaec-8af4-43d7-8127-a306b855f430",
   "metadata": {},
   "outputs": [
    {
     "name": "stdout",
     "output_type": "stream",
     "text": [
      "Deleted `global` DataFrame: edges\n",
      "Deleted `global` DataFrame: weights\n",
      "Deleted `global` DataFrame: edges_agg\n"
     ]
    },
    {
     "data": {
      "text/plain": [
       "True"
      ]
     },
     "execution_count": 42,
     "metadata": {},
     "output_type": "execute_result"
    }
   ],
   "source": [
    "# To free up memory for training\n",
    "\n",
    "to_reset = %who_ls\n",
    "to_reset = list(to_reset)\n",
    "to_reset.remove(\"to_keep\")\n",
    "to_reset = set(to_reset) - set(to_keep)\n",
    "for var_to_reset in list(to_reset):\n",
    "    var_to_reset = f\"^{var_to_reset}$\"\n",
    "    %reset_selective -f {var_to_reset}\n",
    "\n",
    "delete_large_vars(globals(), locals())"
   ]
  },
  {
   "cell_type": "code",
   "execution_count": 124,
   "id": "13c3a17d-14f9-4d34-9103-0c7e2e8c064f",
   "metadata": {},
   "outputs": [],
   "source": [
    "def combine_features(location_features_trx, location_features_edges, location_features):\n",
    "    features_input = spark.read.parquet(location_features_edges)\n",
    "    trx_features_input = spark.read.parquet(location_features_trx).withColumnRenamed(\n",
    "        \"source\", \"source_trx\"\n",
    "    ).withColumnRenamed(\n",
    "        \"target\", \"target_trx\"\n",
    "    )\n",
    "    features_input = trx_features_input.join(\n",
    "        features_input,\n",
    "        (trx_features_input[\"source_trx\"] == features_input[\"source\"]) &\n",
    "        (trx_features_input[\"target_trx\"] == features_input[\"target\"]),\n",
    "        how=\"left\"\n",
    "    ).drop(\"source_trx\", \"target_trx\", \"source\", \"target\")\n",
    "    features_input = features_input.write.parquet(location_features, mode=\"overwrite\")"
   ]
  },
  {
   "cell_type": "code",
   "execution_count": 125,
   "id": "96867e2d-ceed-4176-b2f2-cb407c592ad6",
   "metadata": {},
   "outputs": [
    {
     "name": "stderr",
     "output_type": "stream",
     "text": [
      "                                                                                "
     ]
    },
    {
     "name": "stdout",
     "output_type": "stream",
     "text": [
      "CPU times: user 268 ms, sys: 233 ms, total: 501 ms\n",
      "Wall time: 7min 46s\n"
     ]
    }
   ],
   "source": [
    "%%time\n",
    "\n",
    "combine_features(location_train_trx_features, location_features_edges_train, location_train_features)\n",
    "combine_features(location_valid_trx_features, location_features_edges_valid, location_valid_features)\n",
    "combine_features(location_test_trx_features, location_features_edges_test, location_test_features)"
   ]
  },
  {
   "cell_type": "code",
   "execution_count": 126,
   "id": "b8924af3-4f88-48dc-9e82-ab345e77f302",
   "metadata": {},
   "outputs": [],
   "source": [
    "shutil.rmtree(MULTI_PROC_STAGING_LOCATION, ignore_errors=True)"
   ]
  },
  {
   "cell_type": "code",
   "execution_count": 12,
   "id": "7a84c6ab-c732-47e4-9b08-5114f470043f",
   "metadata": {},
   "outputs": [
    {
     "name": "stderr",
     "output_type": "stream",
     "text": [
      "                                                                                "
     ]
    }
   ],
   "source": [
    "category_features = [\"source_currency\", \"target_currency\", \"format\"]\n",
    "category_features_map = {}\n",
    "for feat in category_features:\n",
    "    dist_vals = data.select(feat).distinct().toPandas()\n",
    "    category_features_map[feat] = dict(zip(dist_vals[feat], dist_vals.index))"
   ]
  },
  {
   "cell_type": "code",
   "execution_count": 13,
   "id": "2d7ce1f7-8462-4095-81ad-1f6bf5e8dd84",
   "metadata": {},
   "outputs": [],
   "source": [
    "def conv_dataframe_for_libsvm(df_input):\n",
    "    columns = list(df_input.columns)\n",
    "    columns.remove(\"is_laundering\")\n",
    "    columns = [\"is_laundering\"] + columns\n",
    "    df_input = df_input.loc[:, columns]\n",
    "    new_types = {}\n",
    "    feature_types = []\n",
    "    for col, dtype in zip(df_input.columns, df_input.dtypes):\n",
    "        if col in category_features:\n",
    "            feature_types.append(\"c\")\n",
    "        elif dtype == bool:\n",
    "            new_types[col] = np.uint8\n",
    "            feature_types.append(\"i\")\n",
    "        elif str(dtype).startswith(\"float\"):\n",
    "            feature_types.append(\"q\")\n",
    "        elif str(dtype).startswith(\"int\"):\n",
    "            feature_types.append(\"int\")\n",
    "        else:\n",
    "            raise\n",
    "    df_input = df_input.astype(new_types)\n",
    "    for col, mapping in category_features_map.items():\n",
    "        new_col = f\"tmp_{col}\"\n",
    "        df_input = df_input.copy()\n",
    "        df_input.loc[:, new_col] = df_input.loc[:, col].apply(lambda x: mapping[x])\n",
    "        del df_input[col]\n",
    "        df_input = df_input.rename(columns={new_col: col})\n",
    "    return df_input.loc[:, columns], columns[1:], feature_types[1:]"
   ]
  },
  {
   "cell_type": "code",
   "execution_count": 23,
   "id": "5e3c8e88-7fd3-47a9-a438-2d3824be55fb",
   "metadata": {},
   "outputs": [
    {
     "name": "stdout",
     "output_type": "stream",
     "text": [
      "==================================================\n",
      "features/hi-medium/train_features.parquet\n",
      "==================================================\n",
      "1 200\n",
      "11 200\n",
      "CPU times: user 3min 5s, sys: 7.81 s, total: 3min 12s\n",
      "Wall time: 3min 9s\n"
     ]
    }
   ],
   "source": [
    "%%time\n",
    "\n",
    "feature_columns, feature_types = [], []\n",
    "for name, feat_loc in [\n",
    "    (\"train\", location_train_features),\n",
    "    (\"valid\", location_valid_features),\n",
    "    (\"test\", location_test_features),\n",
    "]:\n",
    "    print(\"=\" * 50)\n",
    "    print(feat_loc)\n",
    "    print(\"=\" * 50)\n",
    "    part_files = glob(f\"{feat_loc}{os.sep}part*parquet\")\n",
    "    total = len(part_files)\n",
    "    mode, header = \"w\", True\n",
    "    for index, fl in enumerate(part_files):\n",
    "        if not (index % 10):\n",
    "            print(index + 1, total)\n",
    "        part = pd.read_parquet(fl)\n",
    "        part, feature_columns, feature_types = conv_dataframe_for_libsvm(part)\n",
    "        part.to_csv(f\"{location_main}{os.sep}{name}.csv\", index=False, mode=mode, header=header)\n",
    "        mode, header = \"a\", False\n",
    "    shutil.rmtree(feat_loc, ignore_errors=True)"
   ]
  },
  {
   "cell_type": "code",
   "execution_count": 26,
   "id": "29b53503-7385-4e78-9689-40aca728fedb",
   "metadata": {},
   "outputs": [],
   "source": []
  },
  {
   "cell_type": "code",
   "execution_count": 19,
   "id": "a0c40612-aea4-48f0-9f14-4407292de50e",
   "metadata": {},
   "outputs": [],
   "source": [
    "dtrain = xgb.DMatrix(\n",
    "    f\"{location_main}{os.sep}train.csv?format=csv&label_column=0\",\n",
    "    feature_names=feature_columns,\n",
    "    feature_types=feature_types,\n",
    "    enable_categorical=True,\n",
    ")\n",
    "dvalid = xgb.DMatrix(\n",
    "    f\"{location_main}{os.sep}valid.csv?format=csv&label_column=0\",\n",
    "    feature_names=feature_columns,\n",
    "    feature_types=feature_types,\n",
    "    enable_categorical=True,\n",
    ")\n",
    "dtest = xgb.DMatrix(\n",
    "    f\"{location_main}{os.sep}test.csv?format=csv&label_column=0\",\n",
    "    feature_names=feature_columns,\n",
    "    feature_types=feature_types,\n",
    "    enable_categorical=True,\n",
    ")\n",
    "# dtrain.save_binary(\"_train.bin\")\n",
    "# dtrain = xgb.DMatrix(\"_train.bin\")\n",
    "# dvalid.save_binary(\"_valid.bin\")\n",
    "# dvalid = xgb.DMatrix(\"_valid.bin\")\n",
    "# dtest.save_binary(\"_test.bin\")\n",
    "# dtest = xgb.DMatrix(\"_test.bin\")"
   ]
  },
  {
   "cell_type": "code",
   "execution_count": 21,
   "id": "73af9488-d945-49ae-950f-42cea0908bb7",
   "metadata": {},
   "outputs": [],
   "source": [
    "def f1_eval_native(predt: np.ndarray, dtrain: xgb.DMatrix):\n",
    "    y = dtrain.get_label()\n",
    "    return \"f1-eval\", 1 - f1_score(y, np.round(predt))"
   ]
  },
  {
   "cell_type": "code",
   "execution_count": 22,
   "id": "9fb8fabc-dcc5-4bbe-8707-967e9354f997",
   "metadata": {},
   "outputs": [
    {
     "name": "stdout",
     "output_type": "stream",
     "text": [
      "[0]\tvalid-f1-eval:0.53015\n",
      "[1]\tvalid-f1-eval:0.43219\n",
      "[2]\tvalid-f1-eval:0.41338\n",
      "[3]\tvalid-f1-eval:0.41322\n",
      "[4]\tvalid-f1-eval:0.38389\n",
      "[5]\tvalid-f1-eval:0.37887\n",
      "[6]\tvalid-f1-eval:0.38233\n",
      "[7]\tvalid-f1-eval:0.37630\n",
      "[8]\tvalid-f1-eval:0.37526\n",
      "[9]\tvalid-f1-eval:0.37413\n",
      "[10]\tvalid-f1-eval:0.37395\n",
      "[11]\tvalid-f1-eval:0.37361\n",
      "[12]\tvalid-f1-eval:0.38103\n",
      "[13]\tvalid-f1-eval:0.38234\n",
      "[14]\tvalid-f1-eval:0.37879\n",
      "[15]\tvalid-f1-eval:0.37640\n",
      "[16]\tvalid-f1-eval:0.37212\n",
      "[17]\tvalid-f1-eval:0.37389\n",
      "[18]\tvalid-f1-eval:0.37667\n",
      "[19]\tvalid-f1-eval:0.37821\n",
      "[20]\tvalid-f1-eval:0.37422\n",
      "[21]\tvalid-f1-eval:0.37214\n",
      "[22]\tvalid-f1-eval:0.37778\n",
      "[23]\tvalid-f1-eval:0.37510\n",
      "[24]\tvalid-f1-eval:0.37676\n",
      "[25]\tvalid-f1-eval:0.37547\n",
      "[26]\tvalid-f1-eval:0.37829\n",
      "[27]\tvalid-f1-eval:0.37903\n",
      "[28]\tvalid-f1-eval:0.37917\n",
      "[29]\tvalid-f1-eval:0.37646\n",
      "[30]\tvalid-f1-eval:0.37469\n",
      "[31]\tvalid-f1-eval:0.38009\n",
      "[32]\tvalid-f1-eval:0.38093\n",
      "[33]\tvalid-f1-eval:0.37750\n",
      "[34]\tvalid-f1-eval:0.37590\n",
      "[35]\tvalid-f1-eval:0.37569\n",
      "CPU times: user 1min 12s, sys: 1.93 s, total: 1min 14s\n",
      "Wall time: 10.7 s\n"
     ]
    }
   ],
   "source": [
    "%%time\n",
    "\n",
    "params = {\n",
    "    \"scale_pos_weight\": 7,\n",
    "    \"disable_default_eval_metric\": True, \n",
    "    \"num_parallel_tree\": 1, \"max_depth\": 6,\n",
    "    \"colsample_bytree\": 1, \"subsample\": 1, \"objective\": \"binary:logistic\",\n",
    "}\n",
    "model = xgb.train(\n",
    "    params, dtrain, num_boost_round=100, verbose_eval=True, evals=[(dvalid, \"valid\")],\n",
    "    custom_metric=f1_eval_native, early_stopping_rounds=20,\n",
    ")"
   ]
  },
  {
   "cell_type": "code",
   "execution_count": 48,
   "id": "f310f90b-93a2-455f-a0b3-020c87fec357",
   "metadata": {},
   "outputs": [],
   "source": [
    "assert train_features.shape[0] == train_count\n",
    "assert validation_features.shape[0] == validation_count\n",
    "assert test_features.shape[0] == test_count"
   ]
  },
  {
   "cell_type": "code",
   "execution_count": 49,
   "id": "b2ea56f4-4dba-4cb4-a95e-b8989ca7b917",
   "metadata": {},
   "outputs": [
    {
     "name": "stdout",
     "output_type": "stream",
     "text": [
      "CPU times: user 284 ms, sys: 1.67 s, total: 1.95 s\n",
      "Wall time: 2.64 s\n"
     ]
    }
   ],
   "source": [
    "%%time\n",
    "\n",
    "missing_columns = (\n",
    "    (set(train_features.columns).symmetric_difference(validation_features.columns)) |\n",
    "    (set(train_features.columns).symmetric_difference(test_features.columns)) |\n",
    "    (set(test_features.columns).symmetric_difference(validation_features.columns))\n",
    ")\n",
    "for column in missing_columns:\n",
    "    if missing in train_features.columns:\n",
    "        print(f\"Deleting missing column from train: {column}\")\n",
    "        del train_features[column]\n",
    "    if missing in validation_features.columns:\n",
    "        print(f\"Deleting missing column from validation: {column}\")\n",
    "        del validation_features[column]\n",
    "    if missing in test_features.columns:\n",
    "        print(f\"Deleting missing column from test: {column}\")\n",
    "        del test_features[column]\n",
    "\n",
    "train_features_labels = train_features.loc[:, [\"is_laundering\"]].copy(deep=True)\n",
    "del train_features[\"is_laundering\"]\n",
    "\n",
    "validation_features_labels = validation_features.loc[:, [\"is_laundering\"]].copy(deep=True)\n",
    "validation_features = validation_features.loc[:, train_features.columns]\n",
    "\n",
    "test_features_labels = test_features.loc[:, [\"is_laundering\"]].copy(deep=True)\n",
    "test_features = test_features.loc[:, train_features.columns]"
   ]
  },
  {
   "cell_type": "code",
   "execution_count": 20,
   "id": "db2dbe51-59bf-4e8e-a132-c4c3121ae717",
   "metadata": {},
   "outputs": [],
   "source": [
    "def f1_eval(y, y_):\n",
    "    return 1 - f1_score(y, np.round(y_))\n",
    "\n",
    "\n",
    "def train_model(x, y, x_, y_, cv=False):\n",
    "    if cv:\n",
    "        model_trained = xgb.XGBClassifier(\n",
    "            early_stopping_rounds=20, scale_pos_weight=6,\n",
    "            eval_metric=f1_eval, disable_default_eval_metric=True, \n",
    "            num_parallel_tree=10, max_depth=6,\n",
    "            # colsample_bytree=1, subsample=1, \n",
    "            colsample_bytree=0.5, subsample=0.5, \n",
    "            n_estimators=100, enable_categorical=True,\n",
    "        )\n",
    "    else:\n",
    "        model_trained = xgb.XGBClassifier(\n",
    "            early_stopping_rounds=20, scale_pos_weight=7,\n",
    "            eval_metric=f1_eval, disable_default_eval_metric=True, \n",
    "            num_parallel_tree=20, max_depth=6,\n",
    "            colsample_bytree=0.5, subsample=0.5, \n",
    "            n_estimators=100, enable_categorical=True,\n",
    "        )\n",
    "    model_trained.fit(x, y, verbose=not cv, eval_set=[(x_, y_)])\n",
    "    print(f\"Best iteration: {model_trained.best_iteration}\\n\")\n",
    "    return model_trained"
   ]
  },
  {
   "cell_type": "code",
   "execution_count": 51,
   "id": "de1642f1-ce3f-4a20-8b99-f0362047c8d5",
   "metadata": {},
   "outputs": [
    {
     "name": "stdout",
     "output_type": "stream",
     "text": [
      "[0]\tvalidation_0-f1_eval:1.00000\n",
      "[1]\tvalidation_0-f1_eval:0.82809\n",
      "[2]\tvalidation_0-f1_eval:0.58764\n",
      "[3]\tvalidation_0-f1_eval:0.47579\n",
      "[4]\tvalidation_0-f1_eval:0.45172\n",
      "[5]\tvalidation_0-f1_eval:0.44204\n",
      "[6]\tvalidation_0-f1_eval:0.43846\n",
      "[7]\tvalidation_0-f1_eval:0.43652\n",
      "[8]\tvalidation_0-f1_eval:0.43291\n",
      "[9]\tvalidation_0-f1_eval:0.42978\n",
      "[10]\tvalidation_0-f1_eval:0.42816\n",
      "[11]\tvalidation_0-f1_eval:0.42459\n",
      "[12]\tvalidation_0-f1_eval:0.42357\n",
      "[13]\tvalidation_0-f1_eval:0.42240\n",
      "[14]\tvalidation_0-f1_eval:0.42130\n",
      "[15]\tvalidation_0-f1_eval:0.42032\n",
      "[16]\tvalidation_0-f1_eval:0.42103\n",
      "[17]\tvalidation_0-f1_eval:0.42160\n",
      "[18]\tvalidation_0-f1_eval:0.42109\n",
      "[19]\tvalidation_0-f1_eval:0.41950\n",
      "[20]\tvalidation_0-f1_eval:0.41926\n",
      "[21]\tvalidation_0-f1_eval:0.41779\n",
      "[22]\tvalidation_0-f1_eval:0.41756\n",
      "[23]\tvalidation_0-f1_eval:0.41812\n",
      "[24]\tvalidation_0-f1_eval:0.41773\n",
      "[25]\tvalidation_0-f1_eval:0.41741\n",
      "[26]\tvalidation_0-f1_eval:0.41633\n",
      "[27]\tvalidation_0-f1_eval:0.41644\n",
      "[28]\tvalidation_0-f1_eval:0.41587\n",
      "[29]\tvalidation_0-f1_eval:0.41580\n",
      "[30]\tvalidation_0-f1_eval:0.41489\n",
      "[31]\tvalidation_0-f1_eval:0.41506\n",
      "[32]\tvalidation_0-f1_eval:0.41455\n",
      "[33]\tvalidation_0-f1_eval:0.41337\n",
      "[34]\tvalidation_0-f1_eval:0.41185\n",
      "[35]\tvalidation_0-f1_eval:0.41176\n",
      "[36]\tvalidation_0-f1_eval:0.41075\n",
      "[37]\tvalidation_0-f1_eval:0.40955\n",
      "[38]\tvalidation_0-f1_eval:0.40954\n",
      "[39]\tvalidation_0-f1_eval:0.40921\n",
      "[40]\tvalidation_0-f1_eval:0.40880\n",
      "[41]\tvalidation_0-f1_eval:0.40810\n",
      "[42]\tvalidation_0-f1_eval:0.40778\n",
      "[43]\tvalidation_0-f1_eval:0.40802\n",
      "[44]\tvalidation_0-f1_eval:0.40761\n",
      "[45]\tvalidation_0-f1_eval:0.40752\n",
      "[46]\tvalidation_0-f1_eval:0.40769\n",
      "[47]\tvalidation_0-f1_eval:0.40729\n",
      "[48]\tvalidation_0-f1_eval:0.40705\n",
      "[49]\tvalidation_0-f1_eval:0.40673\n",
      "[50]\tvalidation_0-f1_eval:0.40666\n",
      "[51]\tvalidation_0-f1_eval:0.40698\n",
      "[52]\tvalidation_0-f1_eval:0.40683\n",
      "[53]\tvalidation_0-f1_eval:0.40591\n",
      "[54]\tvalidation_0-f1_eval:0.40620\n",
      "[55]\tvalidation_0-f1_eval:0.40618\n",
      "[56]\tvalidation_0-f1_eval:0.40615\n",
      "[57]\tvalidation_0-f1_eval:0.40560\n",
      "[58]\tvalidation_0-f1_eval:0.40494\n",
      "[59]\tvalidation_0-f1_eval:0.40482\n",
      "[60]\tvalidation_0-f1_eval:0.40514\n",
      "[61]\tvalidation_0-f1_eval:0.40558\n",
      "[62]\tvalidation_0-f1_eval:0.40542\n",
      "[63]\tvalidation_0-f1_eval:0.40528\n",
      "[64]\tvalidation_0-f1_eval:0.40542\n",
      "[65]\tvalidation_0-f1_eval:0.40466\n",
      "[66]\tvalidation_0-f1_eval:0.40396\n",
      "[67]\tvalidation_0-f1_eval:0.40474\n",
      "[68]\tvalidation_0-f1_eval:0.40386\n",
      "[69]\tvalidation_0-f1_eval:0.40360\n",
      "[70]\tvalidation_0-f1_eval:0.40299\n",
      "[71]\tvalidation_0-f1_eval:0.40326\n",
      "[72]\tvalidation_0-f1_eval:0.40353\n",
      "[73]\tvalidation_0-f1_eval:0.40322\n",
      "[74]\tvalidation_0-f1_eval:0.40260\n",
      "[75]\tvalidation_0-f1_eval:0.40249\n",
      "[76]\tvalidation_0-f1_eval:0.40243\n",
      "[77]\tvalidation_0-f1_eval:0.40237\n",
      "[78]\tvalidation_0-f1_eval:0.40218\n",
      "[79]\tvalidation_0-f1_eval:0.40135\n",
      "[80]\tvalidation_0-f1_eval:0.40144\n",
      "[81]\tvalidation_0-f1_eval:0.40093\n",
      "[82]\tvalidation_0-f1_eval:0.40094\n",
      "[83]\tvalidation_0-f1_eval:0.40102\n",
      "[84]\tvalidation_0-f1_eval:0.40103\n",
      "[85]\tvalidation_0-f1_eval:0.40117\n",
      "[86]\tvalidation_0-f1_eval:0.40085\n",
      "[87]\tvalidation_0-f1_eval:0.40030\n",
      "[88]\tvalidation_0-f1_eval:0.40011\n",
      "[89]\tvalidation_0-f1_eval:0.40025\n",
      "[90]\tvalidation_0-f1_eval:0.40072\n",
      "[91]\tvalidation_0-f1_eval:0.40041\n",
      "[92]\tvalidation_0-f1_eval:0.39981\n",
      "[93]\tvalidation_0-f1_eval:0.39970\n",
      "[94]\tvalidation_0-f1_eval:0.39977\n",
      "[95]\tvalidation_0-f1_eval:0.39909\n",
      "[96]\tvalidation_0-f1_eval:0.39877\n",
      "[97]\tvalidation_0-f1_eval:0.39854\n",
      "[98]\tvalidation_0-f1_eval:0.39905\n",
      "[99]\tvalidation_0-f1_eval:0.39856\n",
      "Best iteration: 97\n",
      "\n",
      "70.91 64.33\n",
      "\n",
      "CPU times: user 3h 57min 45s, sys: 1min 6s, total: 3h 58min 52s\n",
      "Wall time: 27min 27s\n"
     ]
    }
   ],
   "source": [
    "%%time\n",
    "\n",
    "model = train_model(\n",
    "    train_features, train_features_labels[\"is_laundering\"].values, \n",
    "    validation_features, validation_features_labels[\"is_laundering\"].values,\n",
    ")\n",
    "y_test_predicted = model.predict(test_features)\n",
    "f1_final = f1_score(test_features_labels[\"is_laundering\"], y_test_predicted) * 100\n",
    "print(\n",
    "    round(f1_final, 2),\n",
    "    round(recall_score(test_features_labels[\"is_laundering\"], y_test_predicted) * 100, 2)\n",
    ")\n",
    "print()"
   ]
  },
  {
   "cell_type": "code",
   "execution_count": 52,
   "id": "af2641a9-cecd-438d-a31e-20b24318f9c4",
   "metadata": {},
   "outputs": [
    {
     "name": "stdout",
     "output_type": "stream",
     "text": [
      "roc_auc_score = 0.993\n"
     ]
    },
    {
     "data": {
      "image/png": "[encoded data removed]",
      "text/plain": [
       "<Figure size 640x480 with 1 Axes>"
      ]
     },
     "metadata": {},
     "output_type": "display_data"
    }
   ],
   "source": [
    "y_score = model.predict_proba(test_features)[:,1]\n",
    "\n",
    "roc_auc = round(roc_auc_score(test_features_labels[\"is_laundering\"], y_score), 4)\n",
    "print(\"roc_auc_score =\", roc_auc)\n",
    "fpr, tpr, _ = roc_curve(test_features_labels[\"is_laundering\"], y_score, pos_label=model.classes_[1])\n",
    "roc_display = RocCurveDisplay(fpr=fpr, tpr=tpr).plot()"
   ]
  },
  {
   "cell_type": "code",
   "execution_count": 53,
   "id": "58e178c2-8cf6-4edb-ae31-320420efc8a2",
   "metadata": {},
   "outputs": [
    {
     "name": "stdout",
     "output_type": "stream",
     "text": [
      "Fold 1\n",
      "Best iteration: 98\n",
      "\n",
      "71.04 62.64\n",
      "Fold 2\n",
      "Best iteration: 99\n",
      "\n",
      "71.17 62.91\n",
      "Fold 3\n",
      "Best iteration: 99\n",
      "\n",
      "70.96 62.87\n",
      "Fold 4\n",
      "Best iteration: 83\n",
      "\n",
      "71.25 63.29\n",
      "Fold 5\n",
      "Best iteration: 99\n",
      "\n",
      "71.05 62.95\n",
      "CPU times: user 14h 32min 38s, sys: 4min 8s, total: 14h 36min 46s\n",
      "Wall time: 1h 36min\n"
     ]
    }
   ],
   "source": [
    "%%time\n",
    "\n",
    "CV_FOLD_PERC = 0.8\n",
    "N_FOLDS = 5\n",
    "\n",
    "f1_scores = []\n",
    "for fold in range(N_FOLDS):\n",
    "    print(\"Fold\", fold + 1)\n",
    "    x_train = train_features.sample(frac=CV_FOLD_PERC)\n",
    "    x_train_labels = x_train.loc[:, []].join(train_features_labels, how=\"left\")\n",
    "    x_validation = validation_features.sample(frac=CV_FOLD_PERC)\n",
    "    x_validation_labels = x_validation.loc[:, []].join(validation_features_labels, how=\"left\")\n",
    "    model_fold = train_model(\n",
    "        x_train, x_train_labels[\"is_laundering\"].values, \n",
    "        x_validation, x_validation_labels[\"is_laundering\"].values,\n",
    "        cv=True\n",
    "    )\n",
    "    y_test_predicted = model_fold.predict(test_features)\n",
    "    f1_cv = f1_score(test_features_labels[\"is_laundering\"], y_test_predicted) * 100\n",
    "    print(\n",
    "        round(f1_cv, 2),\n",
    "        round(recall_score(test_features_labels[\"is_laundering\"], y_test_predicted) * 100, 2)\n",
    "    )\n",
    "    f1_scores.append(f1_cv)"
   ]
  },
  {
   "cell_type": "code",
   "execution_count": 58,
   "id": "c18819c8-a15e-40da-b154-01c7c52cd7c8",
   "metadata": {},
   "outputs": [],
   "source": [
    "gfp_best = 65.69\n",
    "gfp_std = 0.26"
   ]
  },
  {
   "cell_type": "code",
   "execution_count": 59,
   "id": "998bda30-ec09-4839-84b3-bebdbb79bea8",
   "metadata": {},
   "outputs": [
    {
     "name": "stdout",
     "output_type": "stream",
     "text": [
      "GFP best: 65.69 ± 0.26\n"
     ]
    }
   ],
   "source": [
    "print(f\"GFP best: {gfp_best} ± {gfp_std}\")"
   ]
  },
  {
   "cell_type": "code",
   "execution_count": 60,
   "id": "bb6bbb2c-8383-43e7-91f2-447c9b013683",
   "metadata": {},
   "outputs": [
    {
     "name": "stdout",
     "output_type": "stream",
     "text": [
      "70.91 ±0.1\n"
     ]
    }
   ],
   "source": [
    "print(f\"{round(f1_final, 2)} ±{round(np.std(f1_scores), 2)}\")"
   ]
  },
  {
   "cell_type": "code",
   "execution_count": 61,
   "id": "0f8243a3-75d5-46e5-81c7-a5418ec30623",
   "metadata": {},
   "outputs": [
    {
     "name": "stdout",
     "output_type": "stream",
     "text": [
      "Uplift of 7.95%\n"
     ]
    }
   ],
   "source": [
    "uplift = round(((f1_final - gfp_best) / gfp_best) * 100, 2)\n",
    "print(f\"Uplift of {uplift}%\")"
   ]
  },
  {
   "cell_type": "code",
   "execution_count": null,
   "id": "bf189cae-0f78-4d68-a62d-8c08f7d0abc9",
   "metadata": {},
   "outputs": [],
   "source": []
  }
 ],
 "metadata": {
  "kernelspec": {
   "display_name": "Python 3 (ipykernel)",
   "language": "python",
   "name": "python3"
  },
  "language_info": {
   "codemirror_mode": {
    "name": "ipython",
    "version": 3
   },
   "file_extension": ".py",
   "mimetype": "text/x-python",
   "name": "python",
   "nbconvert_exporter": "python",
   "pygments_lexer": "ipython3",
   "version": "3.11.8"
  }
 },
 "nbformat": 4,
 "nbformat_minor": 5
}
