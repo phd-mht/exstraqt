{
 "cells": [
  {
   "cell_type": "markdown",
   "id": "9289eaf1-bc77-4660-a30b-03c62f3387c8",
   "metadata": {},
   "source": [
    "### The `wrapper` notebook, to report the standard deviation of the F1 score -\n",
    "#### Calculated over 5 runs with different random seeds"
   ]
  },
  {
   "cell_type": "code",
   "execution_count": 1,
   "id": "36132948-cdfc-42e9-9121-f47d243c4df4",
   "metadata": {},
   "outputs": [],
   "source": [
    "import os\n",
    "import time\n",
    "from datetime import timedelta\n",
    "\n",
    "import nbformat\n",
    "import numpy as np\n",
    "from nbconvert.preprocessors import ExecutePreprocessor"
   ]
  },
  {
   "cell_type": "code",
   "execution_count": 2,
   "id": "dc4779ee-5b46-4ad3-b402-49ae6daf62e8",
   "metadata": {},
   "outputs": [
    {
     "data": {
      "text/html": [
       "<script>\n",
       "var code_show_err = false;\n",
       "var code_toggle_err = function() {\n",
       "    var stderrNodes = document.querySelectorAll('[data-mime-type=\"application/vnd.jupyter.stderr\"]')\n",
       "    var stderr = Array.from(stderrNodes)\n",
       "    if (code_show_err){\n",
       "        stderr.forEach(ele => ele.style.display = 'block');\n",
       "    } else {\n",
       "        stderr.forEach(ele => ele.style.display = 'none');\n",
       "    }\n",
       "    code_show_err = !code_show_err\n",
       "}\n",
       "document.addEventListener('DOMContentLoaded', code_toggle_err);\n",
       "</script>\n",
       "To toggle on/off output_stderr, click <a onclick=\"javascript:code_toggle_err()\">here</a>."
      ],
      "text/plain": [
       "<IPython.core.display.HTML object>"
      ]
     },
     "execution_count": 2,
     "metadata": {},
     "output_type": "execute_result"
    }
   ],
   "source": [
    "### TO HIDE THE LOGGING FROM SPARK ###\n",
    "\n",
    "from IPython.display import HTML\n",
    "\n",
    "HTML('''<script>\n",
    "var code_show_err = false;\n",
    "var code_toggle_err = function() {\n",
    "    var stderrNodes = document.querySelectorAll('[data-mime-type=\"application/vnd.jupyter.stderr\"]')\n",
    "    var stderr = Array.from(stderrNodes)\n",
    "    if (code_show_err){\n",
    "        stderr.forEach(ele => ele.style.display = 'block');\n",
    "    } else {\n",
    "        stderr.forEach(ele => ele.style.display = 'none');\n",
    "    }\n",
    "    code_show_err = !code_show_err\n",
    "}\n",
    "document.addEventListener('DOMContentLoaded', code_toggle_err);\n",
    "</script>\n",
    "To toggle on/off output_stderr, click <a onclick=\"javascript:code_toggle_err()\">here</a>.''')"
   ]
  },
  {
   "cell_type": "code",
   "execution_count": 3,
   "id": "d4cd9311-00a6-4ef6-8835-a5962409a9e2",
   "metadata": {},
   "outputs": [],
   "source": [
    "filename = \"2_model.ipynb\"\n",
    "with open(filename) as ff:\n",
    "    nb_in = nbformat.read(ff, nbformat.NO_CONVERT)"
   ]
  },
  {
   "cell_type": "code",
   "execution_count": null,
   "id": "8d7be746-4f5d-4c12-849e-2950acb74920",
   "metadata": {},
   "outputs": [
    {
     "name": "stderr",
     "output_type": "stream",
     "text": [
      "WARNING: Using incubator modules: jdk.incubator.vector\n",
      "Using Spark's default log4j profile: org/apache/spark/log4j2-defaults.properties\n",
      "Setting default log level to \"WARN\".\n",
      "To adjust logging level use sc.setLogLevel(newLevel). For SparkR, use setLogLevel(newLevel).\n",
      "25/10/25 18:57:17 WARN NativeCodeLoader: Unable to load native-hadoop library for your platform... using builtin-java classes where applicable\n",
      "Setting Spark log level to \"ERROR\".\n",
      "                                                                                "
     ]
    }
   ],
   "source": [
    "f1_scores = []\n",
    "start = time.time()\n",
    "for seed in [10, 20, 30, 40, 50]:\n",
    "    executor = ExecutePreprocessor(timeout=24*60*60, kernel_name=\"python3\")\n",
    "    os.environ[\"EXSTRAQT_SEED\"] = str(seed)\n",
    "    nb_out = executor.preprocess(nb_in)\n",
    "    result = \"\"\n",
    "    for row in nb_out[0][\"cells\"]:\n",
    "        for output in row.get(\"outputs\", [{\"text\": \"\"}]):\n",
    "            if output.get(\"text\", \"\").startswith(f\"SEED={seed} \"):\n",
    "                result = output[\"text\"]\n",
    "                break\n",
    "        if result:\n",
    "            break\n",
    "    result = result.split(\"\\n\")\n",
    "    print(result[0])\n",
    "    delta = round(time.time() - start)\n",
    "    print(f\"Elasped time: {timedelta(seconds=delta)}\")\n",
    "    start = time.time()\n",
    "    print()\n",
    "    f1_scores.append(float(result[1]))"
   ]
  },
  {
   "cell_type": "code",
   "execution_count": null,
   "id": "8456ae23-a334-4cde-8162-88c4877cdc15",
   "metadata": {},
   "outputs": [],
   "source": [
    "f1_mean = round(np.mean(f1_scores), 2)\n",
    "f1_std = round(np.std(f1_scores), 2)\n",
    "\n",
    "print(f\"{f1_mean} ± {f1_std}\")"
   ]
  }
 ],
 "metadata": {
  "kernelspec": {
   "display_name": "Python 3 (ipykernel)",
   "language": "python",
   "name": "python3"
  },
  "language_info": {
   "codemirror_mode": {
    "name": "ipython",
    "version": 3
   },
   "file_extension": ".py",
   "mimetype": "text/x-python",
   "name": "python",
   "nbconvert_exporter": "python",
   "pygments_lexer": "ipython3",
   "version": "3.11.8"
  }
 },
 "nbformat": 4,
 "nbformat_minor": 5
}
